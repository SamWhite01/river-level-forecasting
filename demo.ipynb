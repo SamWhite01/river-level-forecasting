{
 "cells": [
  {
   "cell_type": "markdown",
   "metadata": {},
   "source": [
    "Build or load a 'CatchmentData' instance to allow access to all needed data"
   ]
  },
  {
   "cell_type": "code",
   "execution_count": 1,
   "metadata": {},
   "outputs": [],
   "source": [
    "rebuild_catchment = True"
   ]
  },
  {
   "cell_type": "code",
   "execution_count": 2,
   "metadata": {},
   "outputs": [],
   "source": [
    "from forecasting.catchment_data import CatchmentData\n",
    "import pickle\n",
    "\n",
    "if rebuild_catchment:\n",
    "    catchment = CatchmentData(\"illinois-kerby-test\", \"14377100\")\n",
    "\n",
    "    pickle_out = open(\"temp_storage/catchment.pickle\", \"wb\")\n",
    "    pickle.dump(catchment, pickle_out)\n",
    "    pickle_out.close()\n",
    "else:\n",
    "    pickle_in = open(\"temp_storage/catchment.pickle\", \"rb\")\n",
    "    catchment = pickle.load(pickle_in)"
   ]
  },
  {
   "cell_type": "code",
   "execution_count": 3,
   "metadata": {},
   "outputs": [
    {
     "data": {
      "text/plain": [
       "[(41.980609, -123.613583), (41.980609, -123.613585)]"
      ]
     },
     "execution_count": 3,
     "metadata": {},
     "output_type": "execute_result"
    }
   ],
   "source": [
    "catchment.weather_locs"
   ]
  },
  {
   "cell_type": "markdown",
   "metadata": {},
   "source": [
    "Create a Forecaster instance using the catchment instance and a desired Darts model."
   ]
  },
  {
   "cell_type": "code",
   "execution_count": 4,
   "metadata": {},
   "outputs": [
    {
     "name": "stderr",
     "output_type": "stream",
     "text": [
      "Importing plotly failed. Interactive plots will not work.\n"
     ]
    },
    {
     "name": "stdout",
     "output_type": "stream",
     "text": [
      "Building new models. Overwritting any existing models.\n",
      "Building model for set 0\n",
      "Building model for set 1\n",
      "All models built!\n",
      "Building new models. Overwritting any existing models.\n",
      "Building model for set 0\n",
      "Building model for set 1\n",
      "All models built!\n"
     ]
    }
   ],
   "source": [
    "from forecasting.forecaster import Forecaster\n",
    "\n",
    "# Using a Block RNN\n",
    "from darts.models import BlockRNNModel\n",
    "block_rnn_forecaster = Forecaster(catchment, model_type=BlockRNNModel, model_save_dir=\"BlockRNN\")\n",
    "\n",
    "# Using an N-BEATS model\n",
    "from darts.models import NBEATSModel\n",
    "n_beats_forecaster = Forecaster(catchment, model_type=NBEATSModel, model_save_dir=\"NBEATS\")"
   ]
  },
  {
   "cell_type": "markdown",
   "metadata": {},
   "source": [
    "Fit both models"
   ]
  },
  {
   "cell_type": "code",
   "execution_count": 5,
   "metadata": {},
   "outputs": [
    {
     "name": "stderr",
     "output_type": "stream",
     "text": [
      "[2022-02-17 22:30:28,088] INFO | darts.models.forecasting.torch_forecasting_model | Train dataset contains 209962 samples.\n",
      "[2022-02-17 22:30:28,088] INFO | darts.models.forecasting.torch_forecasting_model | Train dataset contains 209962 samples.\n",
      "[2022-02-17 22:30:28,099] INFO | darts.models.forecasting.torch_forecasting_model | Time series values are 64-bits; casting model to float64.\n",
      "[2022-02-17 22:30:28,099] INFO | darts.models.forecasting.torch_forecasting_model | Time series values are 64-bits; casting model to float64.\n"
     ]
    },
    {
     "name": "stdout",
     "output_type": "stream",
     "text": [
      "Fitting all models\n",
      "Fitting model  0\n"
     ]
    },
    {
     "data": {
      "application/vnd.jupyter.widget-view+json": {
       "model_id": "a2f0fc9e73334287bcf20847bbe9dbde",
       "version_major": 2,
       "version_minor": 0
      },
      "text/plain": [
       "  0%|          | 0/20 [00:00<?, ?it/s]"
      ]
     },
     "metadata": {},
     "output_type": "display_data"
    },
    {
     "name": "stdout",
     "output_type": "stream",
     "text": [
      "Training loss: 0.0011, validation loss: 0.0013, best val loss: 0.0013\r"
     ]
    },
    {
     "name": "stderr",
     "output_type": "stream",
     "text": [
      "[2022-02-17 22:52:52,468] INFO | darts.models.forecasting.torch_forecasting_model | Train dataset contains 209962 samples.\n",
      "[2022-02-17 22:52:52,468] INFO | darts.models.forecasting.torch_forecasting_model | Train dataset contains 209962 samples.\n",
      "[2022-02-17 22:52:52,475] INFO | darts.models.forecasting.torch_forecasting_model | Time series values are 64-bits; casting model to float64.\n",
      "[2022-02-17 22:52:52,475] INFO | darts.models.forecasting.torch_forecasting_model | Time series values are 64-bits; casting model to float64.\n"
     ]
    },
    {
     "name": "stdout",
     "output_type": "stream",
     "text": [
      "Fitting model  1\n"
     ]
    },
    {
     "data": {
      "application/vnd.jupyter.widget-view+json": {
       "model_id": "51caaae8fe27402ca7d59bad840bf051",
       "version_major": 2,
       "version_minor": 0
      },
      "text/plain": [
       "  0%|          | 0/20 [00:00<?, ?it/s]"
      ]
     },
     "metadata": {},
     "output_type": "display_data"
    },
    {
     "name": "stdout",
     "output_type": "stream",
     "text": [
      "Training loss: 0.0011, validation loss: 0.0014, best val loss: 0.0014\r"
     ]
    }
   ],
   "source": [
    "block_rnn_forecaster.fit(epochs=20)"
   ]
  },
  {
   "cell_type": "code",
   "execution_count": 6,
   "metadata": {},
   "outputs": [
    {
     "name": "stderr",
     "output_type": "stream",
     "text": [
      "[2022-02-17 23:14:33,257] INFO | darts.models.forecasting.torch_forecasting_model | Train dataset contains 209962 samples.\n",
      "[2022-02-17 23:14:33,257] INFO | darts.models.forecasting.torch_forecasting_model | Train dataset contains 209962 samples.\n",
      "[2022-02-17 23:14:33,323] INFO | darts.models.forecasting.torch_forecasting_model | Time series values are 64-bits; casting model to float64.\n",
      "[2022-02-17 23:14:33,323] INFO | darts.models.forecasting.torch_forecasting_model | Time series values are 64-bits; casting model to float64.\n"
     ]
    },
    {
     "name": "stdout",
     "output_type": "stream",
     "text": [
      "Fitting all models\n",
      "Fitting model  0\n"
     ]
    },
    {
     "data": {
      "application/vnd.jupyter.widget-view+json": {
       "model_id": "a0062513cb1043ddbfb0482c537a70f5",
       "version_major": 2,
       "version_minor": 0
      },
      "text/plain": [
       "  0%|          | 0/20 [00:00<?, ?it/s]"
      ]
     },
     "metadata": {},
     "output_type": "display_data"
    },
    {
     "name": "stdout",
     "output_type": "stream",
     "text": [
      "Training loss: 0.0008, validation loss: 0.0014, best val loss: 0.0014\r"
     ]
    },
    {
     "name": "stderr",
     "output_type": "stream",
     "text": [
      "[2022-02-18 02:38:54,364] INFO | darts.models.forecasting.torch_forecasting_model | Train dataset contains 209962 samples.\n",
      "[2022-02-18 02:38:54,364] INFO | darts.models.forecasting.torch_forecasting_model | Train dataset contains 209962 samples.\n",
      "[2022-02-18 02:38:54,423] INFO | darts.models.forecasting.torch_forecasting_model | Time series values are 64-bits; casting model to float64.\n",
      "[2022-02-18 02:38:54,423] INFO | darts.models.forecasting.torch_forecasting_model | Time series values are 64-bits; casting model to float64.\n"
     ]
    },
    {
     "name": "stdout",
     "output_type": "stream",
     "text": [
      "Fitting model  1\n"
     ]
    },
    {
     "data": {
      "application/vnd.jupyter.widget-view+json": {
       "model_id": "e7790cf9d121404c8bd93233a6012f0e",
       "version_major": 2,
       "version_minor": 0
      },
      "text/plain": [
       "  0%|          | 0/20 [00:00<?, ?it/s]"
      ]
     },
     "metadata": {},
     "output_type": "display_data"
    },
    {
     "name": "stdout",
     "output_type": "stream",
     "text": [
      "Training loss: 0.0005, validation loss: 0.0017, best val loss: 0.0017\r"
     ]
    }
   ],
   "source": [
    "n_beats_forecaster.fit(epochs=20)"
   ]
  },
  {
   "cell_type": "code",
   "execution_count": null,
   "metadata": {},
   "outputs": [],
   "source": []
  },
  {
   "cell_type": "code",
   "execution_count": null,
   "metadata": {},
   "outputs": [],
   "source": []
  }
 ],
 "metadata": {
  "interpreter": {
   "hash": "815148e3768c1e208d177ea4f59544b3b2e4bd0509ac51753b9e2d2ac3e6c685"
  },
  "kernelspec": {
   "display_name": "Python 3.9.9 64-bit ('tf': venv)",
   "language": "python",
   "name": "python3"
  },
  "language_info": {
   "codemirror_mode": {
    "name": "ipython",
    "version": 3
   },
   "file_extension": ".py",
   "mimetype": "text/x-python",
   "name": "python",
   "nbconvert_exporter": "python",
   "pygments_lexer": "ipython3",
   "version": "3.7.11"
  },
  "orig_nbformat": 4
 },
 "nbformat": 4,
 "nbformat_minor": 2
}
