{
 "cells": [
  {
   "cell_type": "markdown",
   "metadata": {},
   "source": [
    "Build or load a 'CatchmentData' instance to allow access to all needed data"
   ]
  },
  {
   "cell_type": "code",
   "execution_count": 1,
   "metadata": {},
   "outputs": [],
   "source": [
    "rebuild_catchment = False"
   ]
  },
  {
   "cell_type": "code",
   "execution_count": 2,
   "metadata": {},
   "outputs": [],
   "source": [
    "from forecasting.catchment_data import CatchmentData\n",
    "import pickle\n",
    "\n",
    "if rebuild_catchment:\n",
    "    catchment = CatchmentData(\"illinois-kerby-test\", \"14377100\")\n",
    "\n",
    "    pickle_out = open(\"temp_storage/catchment.pickle\", \"wb\")\n",
    "    pickle.dump(catchment, pickle_out)\n",
    "    pickle_out.close()\n",
    "else:\n",
    "    pickle_in = open(\"temp_storage/catchment.pickle\", \"rb\")\n",
    "    catchment = pickle.load(pickle_in)"
   ]
  },
  {
   "cell_type": "markdown",
   "metadata": {},
   "source": [
    "Create a Forecaster instance using the catchment instance and a desired Darts model."
   ]
  },
  {
   "cell_type": "code",
   "execution_count": 3,
   "metadata": {},
   "outputs": [
    {
     "name": "stderr",
     "output_type": "stream",
     "text": [
      "Importing plotly failed. Interactive plots will not work.\n",
      "[2022-02-18 18:00:20,676] INFO | darts.models.forecasting.torch_forecasting_model | loading model_best_0.pth.tar\n",
      "[2022-02-18 18:00:20,676] INFO | darts.models.forecasting.torch_forecasting_model | loading model_best_0.pth.tar\n",
      "[2022-02-18 18:00:20,834] INFO | darts.models.forecasting.torch_forecasting_model | loading model_best_0.pth.tar\n",
      "[2022-02-18 18:00:20,834] INFO | darts.models.forecasting.torch_forecasting_model | loading model_best_0.pth.tar\n"
     ]
    },
    {
     "name": "stdout",
     "output_type": "stream",
     "text": [
      "Loading existing models\n",
      "Loading model for set 0\n",
      "Loading model for set 1\n",
      "All models loaded!\n"
     ]
    }
   ],
   "source": [
    "from forecasting.forecaster import Forecaster\n",
    "\n",
    "# Using a Block RNN\n",
    "from darts.models import BlockRNNModel\n",
    "block_rnn_forecaster = Forecaster(catchment, model_type=BlockRNNModel, model_save_dir=\"BlockRNN\")"
   ]
  },
  {
   "cell_type": "markdown",
   "metadata": {},
   "source": [
    "Fit both models"
   ]
  },
  {
   "cell_type": "code",
   "execution_count": 4,
   "metadata": {},
   "outputs": [
    {
     "name": "stdout",
     "output_type": "stream",
     "text": [
      "Building new models. Overwritting any existing models.\n",
      "Building model for set 0\n",
      "Building model for set 1\n",
      "All models built!\n"
     ]
    }
   ],
   "source": [
    "# Using a Block RNN\n",
    "from darts.models import NBEATSModel\n",
    "n_beats_forecaster = Forecaster(catchment, model_type=NBEATSModel, model_save_dir=\"NBEATSModel\")"
   ]
  },
  {
   "cell_type": "code",
   "execution_count": 5,
   "metadata": {},
   "outputs": [
    {
     "name": "stderr",
     "output_type": "stream",
     "text": [
      "[2022-02-18 18:00:25,493] INFO | darts.models.forecasting.torch_forecasting_model | Train dataset contains 209962 samples.\n",
      "[2022-02-18 18:00:25,493] INFO | darts.models.forecasting.torch_forecasting_model | Train dataset contains 209962 samples.\n"
     ]
    },
    {
     "name": "stdout",
     "output_type": "stream",
     "text": [
      "Fitting all models\n",
      "Fitting model  0\n"
     ]
    },
    {
     "data": {
      "application/vnd.jupyter.widget-view+json": {
       "model_id": "dce7026d4745408bb4158ddc77a35fe1",
       "version_major": 2,
       "version_minor": 0
      },
      "text/plain": [
       "  0%|          | 0/20 [00:00<?, ?it/s]"
      ]
     },
     "metadata": {},
     "output_type": "display_data"
    },
    {
     "name": "stdout",
     "output_type": "stream",
     "text": [
      "Training loss: -3.2738, validation loss: -2.7148, best val loss: -2.7148\r"
     ]
    },
    {
     "name": "stderr",
     "output_type": "stream",
     "text": [
      "[2022-02-18 18:25:55,673] INFO | darts.models.forecasting.torch_forecasting_model | Train dataset contains 209962 samples.\n",
      "[2022-02-18 18:25:55,673] INFO | darts.models.forecasting.torch_forecasting_model | Train dataset contains 209962 samples.\n"
     ]
    },
    {
     "name": "stdout",
     "output_type": "stream",
     "text": [
      "Fitting model  13.5692, validation loss: -3.2468, best val loss: -3.2468\n"
     ]
    },
    {
     "data": {
      "application/vnd.jupyter.widget-view+json": {
       "model_id": "c67ecaf79a6d4d6bb9d3df386bed5afe",
       "version_major": 2,
       "version_minor": 0
      },
      "text/plain": [
       "  0%|          | 0/20 [00:00<?, ?it/s]"
      ]
     },
     "metadata": {},
     "output_type": "display_data"
    },
    {
     "name": "stdout",
     "output_type": "stream",
     "text": [
      "Training loss: -3.4092, validation loss: -3.2413, best val loss: -3.2413\r"
     ]
    }
   ],
   "source": [
    "block_rnn_forecaster.fit(epochs=20)"
   ]
  },
  {
   "cell_type": "code",
   "execution_count": 6,
   "metadata": {},
   "outputs": [
    {
     "name": "stderr",
     "output_type": "stream",
     "text": [
      "[2022-02-18 18:51:02,696] INFO | darts.models.forecasting.torch_forecasting_model | Train dataset contains 209962 samples.\n",
      "[2022-02-18 18:51:02,696] INFO | darts.models.forecasting.torch_forecasting_model | Train dataset contains 209962 samples.\n",
      "[2022-02-18 18:51:02,763] INFO | darts.models.forecasting.torch_forecasting_model | Time series values are 64-bits; casting model to float64.\n",
      "[2022-02-18 18:51:02,763] INFO | darts.models.forecasting.torch_forecasting_model | Time series values are 64-bits; casting model to float64.\n"
     ]
    },
    {
     "name": "stdout",
     "output_type": "stream",
     "text": [
      "Fitting all models\n",
      "Fitting model  0\n"
     ]
    },
    {
     "data": {
      "application/vnd.jupyter.widget-view+json": {
       "model_id": "368fd2224dc54e04aed371292e0ce0ce",
       "version_major": 2,
       "version_minor": 0
      },
      "text/plain": [
       "  0%|          | 0/20 [00:00<?, ?it/s]"
      ]
     },
     "metadata": {},
     "output_type": "display_data"
    },
    {
     "name": "stdout",
     "output_type": "stream",
     "text": [
      "Training loss: 3610278551.5316, validation loss: -2.0504, best val loss: -2.9837\r"
     ]
    },
    {
     "name": "stderr",
     "output_type": "stream",
     "text": [
      "[2022-02-18 22:33:24,550] INFO | darts.models.forecasting.torch_forecasting_model | Train dataset contains 209962 samples.\n",
      "[2022-02-18 22:33:24,550] INFO | darts.models.forecasting.torch_forecasting_model | Train dataset contains 209962 samples.\n",
      "[2022-02-18 22:33:24,610] INFO | darts.models.forecasting.torch_forecasting_model | Time series values are 64-bits; casting model to float64.\n",
      "[2022-02-18 22:33:24,610] INFO | darts.models.forecasting.torch_forecasting_model | Time series values are 64-bits; casting model to float64.\n"
     ]
    },
    {
     "name": "stdout",
     "output_type": "stream",
     "text": [
      "Fitting model  1\n"
     ]
    },
    {
     "data": {
      "application/vnd.jupyter.widget-view+json": {
       "model_id": "742ac92d88cb4d7dafbbf1d1a08eb4c0",
       "version_major": 2,
       "version_minor": 0
      },
      "text/plain": [
       "  0%|          | 0/20 [00:00<?, ?it/s]"
      ]
     },
     "metadata": {},
     "output_type": "display_data"
    },
    {
     "name": "stdout",
     "output_type": "stream",
     "text": [
      "Training loss: -1.7231, validation loss: -2.6198, best val loss: -2.7198\r"
     ]
    }
   ],
   "source": [
    "n_beats_forecaster.fit(epochs=20)"
   ]
  },
  {
   "cell_type": "code",
   "execution_count": 23,
   "metadata": {},
   "outputs": [
    {
     "name": "stdout",
     "output_type": "stream",
     "text": [
      "Generating historical forecasts\n",
      "Generating historical forecast for model  0\n"
     ]
    },
    {
     "data": {
      "application/vnd.jupyter.widget-view+json": {
       "model_id": "ff675924f422443cbc76d707a1354da2",
       "version_major": 2,
       "version_minor": 0
      },
      "text/plain": [
       "  0%|          | 0/2189 [00:00<?, ?it/s]"
      ]
     },
     "metadata": {},
     "output_type": "display_data"
    },
    {
     "name": "stdout",
     "output_type": "stream",
     "text": [
      "Generating historical forecast for model  1\n"
     ]
    },
    {
     "data": {
      "application/vnd.jupyter.widget-view+json": {
       "model_id": "f2a575e11beb4226bc0cb6b7e4f4cab5",
       "version_major": 2,
       "version_minor": 0
      },
      "text/plain": [
       "  0%|          | 0/2189 [00:00<?, ?it/s]"
      ]
     },
     "metadata": {},
     "output_type": "display_data"
    }
   ],
   "source": [
    "hst_fcasts2 = block_rnn_forecaster.historical_forecasts(num_samples=100, forecast_horizon=12, stride=12)"
   ]
  },
  {
   "cell_type": "code",
   "execution_count": 24,
   "metadata": {},
   "outputs": [
    {
     "data": {
      "image/png": "[encoded data removed]",
      "text/plain": [
       "<Figure size 432x288 with 1 Axes>"
      ]
     },
     "metadata": {
      "needs_background": "light"
     },
     "output_type": "display_data"
    }
   ],
   "source": [
    "hst_fcasts2[0].plot()"
   ]
  },
  {
   "cell_type": "code",
   "execution_count": 28,
   "metadata": {},
   "outputs": [
    {
     "data": {
      "image/png": "[encoded data removed]",
      "text/plain": [
       "<Figure size 432x288 with 1 Axes>"
      ]
     },
     "metadata": {
      "needs_background": "light"
     },
     "output_type": "display_data"
    }
   ],
   "source": [
    "import pandas as pd\n",
    "start = pd.to_datetime(\"2015-10-22T21:00:00.000000000\")\n",
    "end = pd.to_datetime(\"2015-11-02T21:00:00.000000000\")\n",
    "slice = hst_fcasts2[0].slice(start,end)\n",
    "slice.plot()"
   ]
  },
  {
   "cell_type": "code",
   "execution_count": 11,
   "metadata": {},
   "outputs": [
    {
     "data": {
      "text/html": [
       "<div><svg style=\"position: absolute; width: 0; height: 0; overflow: hidden\">\n",
       "<defs>\n",
       "<symbol id=\"icon-database\" viewBox=\"0 0 32 32\">\n",
       "<path d=\"M16 0c-8.837 0-16 2.239-16 5v4c0 2.761 7.163 5 16 5s16-2.239 16-5v-4c0-2.761-7.163-5-16-5z\"></path>\n",
       "<path d=\"M16 17c-8.837 0-16-2.239-16-5v6c0 2.761 7.163 5 16 5s16-2.239 16-5v-6c0 2.761-7.163 5-16 5z\"></path>\n",
       "<path d=\"M16 26c-8.837 0-16-2.239-16-5v6c0 2.761 7.163 5 16 5s16-2.239 16-5v-6c0 2.761-7.163 5-16 5z\"></path>\n",
       "</symbol>\n",
       "<symbol id=\"icon-file-text2\" viewBox=\"0 0 32 32\">\n",
       "<path d=\"M28.681 7.159c-0.694-0.947-1.662-2.053-2.724-3.116s-2.169-2.030-3.116-2.724c-1.612-1.182-2.393-1.319-2.841-1.319h-15.5c-1.378 0-2.5 1.121-2.5 2.5v27c0 1.378 1.122 2.5 2.5 2.5h23c1.378 0 2.5-1.122 2.5-2.5v-19.5c0-0.448-0.137-1.23-1.319-2.841zM24.543 5.457c0.959 0.959 1.712 1.825 2.268 2.543h-4.811v-4.811c0.718 0.556 1.584 1.309 2.543 2.268zM28 29.5c0 0.271-0.229 0.5-0.5 0.5h-23c-0.271 0-0.5-0.229-0.5-0.5v-27c0-0.271 0.229-0.5 0.5-0.5 0 0 15.499-0 15.5 0v7c0 0.552 0.448 1 1 1h7v19.5z\"></path>\n",
       "<path d=\"M23 26h-14c-0.552 0-1-0.448-1-1s0.448-1 1-1h14c0.552 0 1 0.448 1 1s-0.448 1-1 1z\"></path>\n",
       "<path d=\"M23 22h-14c-0.552 0-1-0.448-1-1s0.448-1 1-1h14c0.552 0 1 0.448 1 1s-0.448 1-1 1z\"></path>\n",
       "<path d=\"M23 18h-14c-0.552 0-1-0.448-1-1s0.448-1 1-1h14c0.552 0 1 0.448 1 1s-0.448 1-1 1z\"></path>\n",
       "</symbol>\n",
       "</defs>\n",
       "</svg>\n",
       "<style>/* CSS stylesheet for displaying xarray objects in jupyterlab.\n",
       " *\n",
       " */\n",
       "\n",
       ":root {\n",
       "  --xr-font-color0: var(--jp-content-font-color0, rgba(0, 0, 0, 1));\n",
       "  --xr-font-color2: var(--jp-content-font-color2, rgba(0, 0, 0, 0.54));\n",
       "  --xr-font-color3: var(--jp-content-font-color3, rgba(0, 0, 0, 0.38));\n",
       "  --xr-border-color: var(--jp-border-color2, #e0e0e0);\n",
       "  --xr-disabled-color: var(--jp-layout-color3, #bdbdbd);\n",
       "  --xr-background-color: var(--jp-layout-color0, white);\n",
       "  --xr-background-color-row-even: var(--jp-layout-color1, white);\n",
       "  --xr-background-color-row-odd: var(--jp-layout-color2, #eeeeee);\n",
       "}\n",
       "\n",
       "html[theme=dark],\n",
       "body.vscode-dark {\n",
       "  --xr-font-color0: rgba(255, 255, 255, 1);\n",
       "  --xr-font-color2: rgba(255, 255, 255, 0.54);\n",
       "  --xr-font-color3: rgba(255, 255, 255, 0.38);\n",
       "  --xr-border-color: #1F1F1F;\n",
       "  --xr-disabled-color: #515151;\n",
       "  --xr-background-color: #111111;\n",
       "  --xr-background-color-row-even: #111111;\n",
       "  --xr-background-color-row-odd: #313131;\n",
       "}\n",
       "\n",
       ".xr-wrap {\n",
       "  display: block !important;\n",
       "  min-width: 300px;\n",
       "  max-width: 700px;\n",
       "}\n",
       "\n",
       ".xr-text-repr-fallback {\n",
       "  /* fallback to plain text repr when CSS is not injected (untrusted notebook) */\n",
       "  display: none;\n",
       "}\n",
       "\n",
       ".xr-header {\n",
       "  padding-top: 6px;\n",
       "  padding-bottom: 6px;\n",
       "  margin-bottom: 4px;\n",
       "  border-bottom: solid 1px var(--xr-border-color);\n",
       "}\n",
       "\n",
       ".xr-header > div,\n",
       ".xr-header > ul {\n",
       "  display: inline;\n",
       "  margin-top: 0;\n",
       "  margin-bottom: 0;\n",
       "}\n",
       "\n",
       ".xr-obj-type,\n",
       ".xr-array-name {\n",
       "  margin-left: 2px;\n",
       "  margin-right: 10px;\n",
       "}\n",
       "\n",
       ".xr-obj-type {\n",
       "  color: var(--xr-font-color2);\n",
       "}\n",
       "\n",
       ".xr-sections {\n",
       "  padding-left: 0 !important;\n",
       "  display: grid;\n",
       "  grid-template-columns: 150px auto auto 1fr 20px 20px;\n",
       "}\n",
       "\n",
       ".xr-section-item {\n",
       "  display: contents;\n",
       "}\n",
       "\n",
       ".xr-section-item input {\n",
       "  display: none;\n",
       "}\n",
       "\n",
       ".xr-section-item input + label {\n",
       "  color: var(--xr-disabled-color);\n",
       "}\n",
       "\n",
       ".xr-section-item input:enabled + label {\n",
       "  cursor: pointer;\n",
       "  color: var(--xr-font-color2);\n",
       "}\n",
       "\n",
       ".xr-section-item input:enabled + label:hover {\n",
       "  color: var(--xr-font-color0);\n",
       "}\n",
       "\n",
       ".xr-section-summary {\n",
       "  grid-column: 1;\n",
       "  color: var(--xr-font-color2);\n",
       "  font-weight: 500;\n",
       "}\n",
       "\n",
       ".xr-section-summary > span {\n",
       "  display: inline-block;\n",
       "  padding-left: 0.5em;\n",
       "}\n",
       "\n",
       ".xr-section-summary-in:disabled + label {\n",
       "  color: var(--xr-font-color2);\n",
       "}\n",
       "\n",
       ".xr-section-summary-in + label:before {\n",
       "  display: inline-block;\n",
       "  content: '►';\n",
       "  font-size: 11px;\n",
       "  width: 15px;\n",
       "  text-align: center;\n",
       "}\n",
       "\n",
       ".xr-section-summary-in:disabled + label:before {\n",
       "  color: var(--xr-disabled-color);\n",
       "}\n",
       "\n",
       ".xr-section-summary-in:checked + label:before {\n",
       "  content: '▼';\n",
       "}\n",
       "\n",
       ".xr-section-summary-in:checked + label > span {\n",
       "  display: none;\n",
       "}\n",
       "\n",
       ".xr-section-summary,\n",
       ".xr-section-inline-details {\n",
       "  padding-top: 4px;\n",
       "  padding-bottom: 4px;\n",
       "}\n",
       "\n",
       ".xr-section-inline-details {\n",
       "  grid-column: 2 / -1;\n",
       "}\n",
       "\n",
       ".xr-section-details {\n",
       "  display: none;\n",
       "  grid-column: 1 / -1;\n",
       "  margin-bottom: 5px;\n",
       "}\n",
       "\n",
       ".xr-section-summary-in:checked ~ .xr-section-details {\n",
       "  display: contents;\n",
       "}\n",
       "\n",
       ".xr-array-wrap {\n",
       "  grid-column: 1 / -1;\n",
       "  display: grid;\n",
       "  grid-template-columns: 20px auto;\n",
       "}\n",
       "\n",
       ".xr-array-wrap > label {\n",
       "  grid-column: 1;\n",
       "  vertical-align: top;\n",
       "}\n",
       "\n",
       ".xr-preview {\n",
       "  color: var(--xr-font-color3);\n",
       "}\n",
       "\n",
       ".xr-array-preview,\n",
       ".xr-array-data {\n",
       "  padding: 0 5px !important;\n",
       "  grid-column: 2;\n",
       "}\n",
       "\n",
       ".xr-array-data,\n",
       ".xr-array-in:checked ~ .xr-array-preview {\n",
       "  display: none;\n",
       "}\n",
       "\n",
       ".xr-array-in:checked ~ .xr-array-data,\n",
       ".xr-array-preview {\n",
       "  display: inline-block;\n",
       "}\n",
       "\n",
       ".xr-dim-list {\n",
       "  display: inline-block !important;\n",
       "  list-style: none;\n",
       "  padding: 0 !important;\n",
       "  margin: 0;\n",
       "}\n",
       "\n",
       ".xr-dim-list li {\n",
       "  display: inline-block;\n",
       "  padding: 0;\n",
       "  margin: 0;\n",
       "}\n",
       "\n",
       ".xr-dim-list:before {\n",
       "  content: '(';\n",
       "}\n",
       "\n",
       ".xr-dim-list:after {\n",
       "  content: ')';\n",
       "}\n",
       "\n",
       ".xr-dim-list li:not(:last-child):after {\n",
       "  content: ',';\n",
       "  padding-right: 5px;\n",
       "}\n",
       "\n",
       ".xr-has-index {\n",
       "  font-weight: bold;\n",
       "}\n",
       "\n",
       ".xr-var-list,\n",
       ".xr-var-item {\n",
       "  display: contents;\n",
       "}\n",
       "\n",
       ".xr-var-item > div,\n",
       ".xr-var-item label,\n",
       ".xr-var-item > .xr-var-name span {\n",
       "  background-color: var(--xr-background-color-row-even);\n",
       "  margin-bottom: 0;\n",
       "}\n",
       "\n",
       ".xr-var-item > .xr-var-name:hover span {\n",
       "  padding-right: 5px;\n",
       "}\n",
       "\n",
       ".xr-var-list > li:nth-child(odd) > div,\n",
       ".xr-var-list > li:nth-child(odd) > label,\n",
       ".xr-var-list > li:nth-child(odd) > .xr-var-name span {\n",
       "  background-color: var(--xr-background-color-row-odd);\n",
       "}\n",
       "\n",
       ".xr-var-name {\n",
       "  grid-column: 1;\n",
       "}\n",
       "\n",
       ".xr-var-dims {\n",
       "  grid-column: 2;\n",
       "}\n",
       "\n",
       ".xr-var-dtype {\n",
       "  grid-column: 3;\n",
       "  text-align: right;\n",
       "  color: var(--xr-font-color2);\n",
       "}\n",
       "\n",
       ".xr-var-preview {\n",
       "  grid-column: 4;\n",
       "}\n",
       "\n",
       ".xr-var-name,\n",
       ".xr-var-dims,\n",
       ".xr-var-dtype,\n",
       ".xr-preview,\n",
       ".xr-attrs dt {\n",
       "  white-space: nowrap;\n",
       "  overflow: hidden;\n",
       "  text-overflow: ellipsis;\n",
       "  padding-right: 10px;\n",
       "}\n",
       "\n",
       ".xr-var-name:hover,\n",
       ".xr-var-dims:hover,\n",
       ".xr-var-dtype:hover,\n",
       ".xr-attrs dt:hover {\n",
       "  overflow: visible;\n",
       "  width: auto;\n",
       "  z-index: 1;\n",
       "}\n",
       "\n",
       ".xr-var-attrs,\n",
       ".xr-var-data {\n",
       "  display: none;\n",
       "  background-color: var(--xr-background-color) !important;\n",
       "  padding-bottom: 5px !important;\n",
       "}\n",
       "\n",
       ".xr-var-attrs-in:checked ~ .xr-var-attrs,\n",
       ".xr-var-data-in:checked ~ .xr-var-data {\n",
       "  display: block;\n",
       "}\n",
       "\n",
       ".xr-var-data > table {\n",
       "  float: right;\n",
       "}\n",
       "\n",
       ".xr-var-name span,\n",
       ".xr-var-data,\n",
       ".xr-attrs {\n",
       "  padding-left: 25px !important;\n",
       "}\n",
       "\n",
       ".xr-attrs,\n",
       ".xr-var-attrs,\n",
       ".xr-var-data {\n",
       "  grid-column: 1 / -1;\n",
       "}\n",
       "\n",
       "dl.xr-attrs {\n",
       "  padding: 0;\n",
       "  margin: 0;\n",
       "  display: grid;\n",
       "  grid-template-columns: 125px auto;\n",
       "}\n",
       "\n",
       ".xr-attrs dt,\n",
       ".xr-attrs dd {\n",
       "  padding: 0;\n",
       "  margin: 0;\n",
       "  float: left;\n",
       "  padding-right: 10px;\n",
       "  width: auto;\n",
       "}\n",
       "\n",
       ".xr-attrs dt {\n",
       "  font-weight: normal;\n",
       "  grid-column: 1;\n",
       "}\n",
       "\n",
       ".xr-attrs dt:hover span {\n",
       "  display: inline-block;\n",
       "  background: var(--xr-background-color);\n",
       "  padding-right: 10px;\n",
       "}\n",
       "\n",
       ".xr-attrs dd {\n",
       "  grid-column: 2;\n",
       "  white-space: pre-wrap;\n",
       "  word-break: break-all;\n",
       "}\n",
       "\n",
       ".xr-icon-database,\n",
       ".xr-icon-file-text2 {\n",
       "  display: inline-block;\n",
       "  vertical-align: middle;\n",
       "  width: 1em;\n",
       "  height: 1.5em !important;\n",
       "  stroke-width: 0;\n",
       "  stroke: currentColor;\n",
       "  fill: currentColor;\n",
       "}\n",
       "</style><pre class='xr-text-repr-fallback'>&lt;TimeSeries (DataArray) (time: 23, component: 1, sample: 100)&gt;\n",
       "array([[[ 75.33900106,  75.52935366,  75.43378788, ...,  75.42980923,\n",
       "          75.54236619,  75.53258072]],\n",
       "\n",
       "       [[ 66.76966591,  66.59169342,  66.27957915, ...,  66.62586258,\n",
       "          66.91700666,  67.2470728 ]],\n",
       "\n",
       "       [[ 66.83027308,  66.78402525,  66.48264728, ...,  66.42542587,\n",
       "          66.90134069,  66.90493528]],\n",
       "\n",
       "       ...,\n",
       "\n",
       "       [[670.27511278, 702.89714024, 727.74842524, ..., 694.74157437,\n",
       "         663.29920091, 653.68753638]],\n",
       "\n",
       "       [[362.21654284, 366.6650773 , 370.44209951, ..., 370.90922656,\n",
       "         365.66038869, 369.89738125]],\n",
       "\n",
       "       [[553.58198409, 632.97487351, 698.22504721, ..., 392.21530959,\n",
       "         452.00066353, 374.38058925]]])\n",
       "Coordinates:\n",
       "  * time       (time) datetime64[ns] 2015-09-23T21:00:00 ... 2015-11-28T21:00:00\n",
       "  * component  (component) object &#x27;0&#x27;\n",
       "Dimensions without coordinates: sample</pre><div class='xr-wrap' style='display:none'><div class='xr-header'><div class='xr-obj-type'>TimeSeries (DataArray)</div><div class='xr-array-name'></div><ul class='xr-dim-list'><li><span class='xr-has-index'>time</span>: 23</li><li><span class='xr-has-index'>component</span>: 1</li><li><span>sample</span>: 100</li></ul></div><ul class='xr-sections'><li class='xr-section-item'><div class='xr-array-wrap'><input id='section-cef9688d-0133-4793-9c1f-4a1d2d61ce23' class='xr-array-in' type='checkbox' checked><label for='section-cef9688d-0133-4793-9c1f-4a1d2d61ce23' title='Show/hide data repr'><svg class='icon xr-icon-database'><use xlink:href='#icon-database'></use></svg></label><div class='xr-array-preview xr-preview'><span>75.34 75.53 75.43 75.68 75.5 75.5 ... 510.8 486.3 392.2 452.0 374.4</span></div><div class='xr-array-data'><pre>array([[[ 75.33900106,  75.52935366,  75.43378788, ...,  75.42980923,\n",
       "          75.54236619,  75.53258072]],\n",
       "\n",
       "       [[ 66.76966591,  66.59169342,  66.27957915, ...,  66.62586258,\n",
       "          66.91700666,  67.2470728 ]],\n",
       "\n",
       "       [[ 66.83027308,  66.78402525,  66.48264728, ...,  66.42542587,\n",
       "          66.90134069,  66.90493528]],\n",
       "\n",
       "       ...,\n",
       "\n",
       "       [[670.27511278, 702.89714024, 727.74842524, ..., 694.74157437,\n",
       "         663.29920091, 653.68753638]],\n",
       "\n",
       "       [[362.21654284, 366.6650773 , 370.44209951, ..., 370.90922656,\n",
       "         365.66038869, 369.89738125]],\n",
       "\n",
       "       [[553.58198409, 632.97487351, 698.22504721, ..., 392.21530959,\n",
       "         452.00066353, 374.38058925]]])</pre></div></div></li><li class='xr-section-item'><input id='section-7cf1948c-d9a7-45df-ba43-fa401a8a5713' class='xr-section-summary-in' type='checkbox'  checked><label for='section-7cf1948c-d9a7-45df-ba43-fa401a8a5713' class='xr-section-summary' >Coordinates: <span>(2)</span></label><div class='xr-section-inline-details'></div><div class='xr-section-details'><ul class='xr-var-list'><li class='xr-var-item'><div class='xr-var-name'><span class='xr-has-index'>time</span></div><div class='xr-var-dims'>(time)</div><div class='xr-var-dtype'>datetime64[ns]</div><div class='xr-var-preview xr-preview'>2015-09-23T21:00:00 ... 2015-11-...</div><input id='attrs-750ceea2-bdf7-4ee6-aa04-a453006951fd' class='xr-var-attrs-in' type='checkbox' disabled><label for='attrs-750ceea2-bdf7-4ee6-aa04-a453006951fd' title='Show/Hide attributes'><svg class='icon xr-icon-file-text2'><use xlink:href='#icon-file-text2'></use></svg></label><input id='data-1681c34d-fd04-44d4-888f-cd9c71448f2a' class='xr-var-data-in' type='checkbox'><label for='data-1681c34d-fd04-44d4-888f-cd9c71448f2a' title='Show/Hide data repr'><svg class='icon xr-icon-database'><use xlink:href='#icon-database'></use></svg></label><div class='xr-var-attrs'><dl class='xr-attrs'></dl></div><div class='xr-var-data'><pre>array([&#x27;2015-09-23T21:00:00.000000000&#x27;, &#x27;2015-09-26T21:00:00.000000000&#x27;,\n",
       "       &#x27;2015-09-29T21:00:00.000000000&#x27;, &#x27;2015-10-02T21:00:00.000000000&#x27;,\n",
       "       &#x27;2015-10-05T21:00:00.000000000&#x27;, &#x27;2015-10-08T21:00:00.000000000&#x27;,\n",
       "       &#x27;2015-10-11T21:00:00.000000000&#x27;, &#x27;2015-10-14T21:00:00.000000000&#x27;,\n",
       "       &#x27;2015-10-17T21:00:00.000000000&#x27;, &#x27;2015-10-20T21:00:00.000000000&#x27;,\n",
       "       &#x27;2015-10-23T21:00:00.000000000&#x27;, &#x27;2015-10-26T21:00:00.000000000&#x27;,\n",
       "       &#x27;2015-10-29T21:00:00.000000000&#x27;, &#x27;2015-11-01T21:00:00.000000000&#x27;,\n",
       "       &#x27;2015-11-04T21:00:00.000000000&#x27;, &#x27;2015-11-07T21:00:00.000000000&#x27;,\n",
       "       &#x27;2015-11-10T21:00:00.000000000&#x27;, &#x27;2015-11-13T21:00:00.000000000&#x27;,\n",
       "       &#x27;2015-11-16T21:00:00.000000000&#x27;, &#x27;2015-11-19T21:00:00.000000000&#x27;,\n",
       "       &#x27;2015-11-22T21:00:00.000000000&#x27;, &#x27;2015-11-25T21:00:00.000000000&#x27;,\n",
       "       &#x27;2015-11-28T21:00:00.000000000&#x27;], dtype=&#x27;datetime64[ns]&#x27;)</pre></div></li><li class='xr-var-item'><div class='xr-var-name'><span class='xr-has-index'>component</span></div><div class='xr-var-dims'>(component)</div><div class='xr-var-dtype'>object</div><div class='xr-var-preview xr-preview'>&#x27;0&#x27;</div><input id='attrs-8464b330-c1d5-4b8d-a4a9-60d4a1fcde48' class='xr-var-attrs-in' type='checkbox' disabled><label for='attrs-8464b330-c1d5-4b8d-a4a9-60d4a1fcde48' title='Show/Hide attributes'><svg class='icon xr-icon-file-text2'><use xlink:href='#icon-file-text2'></use></svg></label><input id='data-377edd24-fb20-4c3c-9a9e-2e5e9303a876' class='xr-var-data-in' type='checkbox'><label for='data-377edd24-fb20-4c3c-9a9e-2e5e9303a876' title='Show/Hide data repr'><svg class='icon xr-icon-database'><use xlink:href='#icon-database'></use></svg></label><div class='xr-var-attrs'><dl class='xr-attrs'></dl></div><div class='xr-var-data'><pre>array([&#x27;0&#x27;], dtype=object)</pre></div></li></ul></div></li><li class='xr-section-item'><input id='section-b68b2e22-ea33-4468-8e49-73c9c2e8ef7e' class='xr-section-summary-in' type='checkbox' disabled ><label for='section-b68b2e22-ea33-4468-8e49-73c9c2e8ef7e' class='xr-section-summary'  title='Expand/collapse section'>Attributes: <span>(0)</span></label><div class='xr-section-inline-details'></div><div class='xr-section-details'><dl class='xr-attrs'></dl></div></li></ul></div></div>"
      ],
      "text/plain": [
       "<TimeSeries (DataArray) (time: 23, component: 1, sample: 100)>\n",
       "array([[[ 75.33900106,  75.52935366,  75.43378788, ...,  75.42980923,\n",
       "          75.54236619,  75.53258072]],\n",
       "\n",
       "       [[ 66.76966591,  66.59169342,  66.27957915, ...,  66.62586258,\n",
       "          66.91700666,  67.2470728 ]],\n",
       "\n",
       "       [[ 66.83027308,  66.78402525,  66.48264728, ...,  66.42542587,\n",
       "          66.90134069,  66.90493528]],\n",
       "\n",
       "       ...,\n",
       "\n",
       "       [[670.27511278, 702.89714024, 727.74842524, ..., 694.74157437,\n",
       "         663.29920091, 653.68753638]],\n",
       "\n",
       "       [[362.21654284, 366.6650773 , 370.44209951, ..., 370.90922656,\n",
       "         365.66038869, 369.89738125]],\n",
       "\n",
       "       [[553.58198409, 632.97487351, 698.22504721, ..., 392.21530959,\n",
       "         452.00066353, 374.38058925]]])\n",
       "Coordinates:\n",
       "  * time       (time) datetime64[ns] 2015-09-23T21:00:00 ... 2015-11-28T21:00:00\n",
       "  * component  (component) object '0'\n",
       "Dimensions without coordinates: sample"
      ]
     },
     "execution_count": 11,
     "metadata": {},
     "output_type": "execute_result"
    }
   ],
   "source": [
    "slice"
   ]
  },
  {
   "cell_type": "code",
   "execution_count": 12,
   "metadata": {},
   "outputs": [
    {
     "name": "stdout",
     "output_type": "stream",
     "text": [
      "Generating historical forecasts\n",
      "Generating historical forecast for model  0\n"
     ]
    },
    {
     "data": {
      "application/vnd.jupyter.widget-view+json": {
       "model_id": "8cb6c31c98024bcda397a94e82e12785",
       "version_major": 2,
       "version_minor": 0
      },
      "text/plain": [
       "  0%|          | 0/2188 [00:00<?, ?it/s]"
      ]
     },
     "metadata": {},
     "output_type": "display_data"
    },
    {
     "name": "stdout",
     "output_type": "stream",
     "text": [
      "Generating historical forecast for model  1\n"
     ]
    },
    {
     "data": {
      "application/vnd.jupyter.widget-view+json": {
       "model_id": "0e9ef7659792444a9e541beba9be8b8c",
       "version_major": 2,
       "version_minor": 0
      },
      "text/plain": [
       "  0%|          | 0/2188 [00:00<?, ?it/s]"
      ]
     },
     "metadata": {},
     "output_type": "display_data"
    }
   ],
   "source": [
    "hst_fcasts = block_rnn_forecaster.historical_forecasts(num_samples=100, forecast_horizon=24, stride=12)"
   ]
  },
  {
   "cell_type": "code",
   "execution_count": 14,
   "metadata": {},
   "outputs": [
    {
     "data": {
      "image/png": "[encoded data removed]",
      "text/plain": [
       "<Figure size 432x288 with 1 Axes>"
      ]
     },
     "metadata": {
      "needs_background": "light"
     },
     "output_type": "display_data"
    }
   ],
   "source": [
    "import pandas as pd\n",
    "start = pd.to_datetime(\"2015-09-22T21:00:00.000000000\")\n",
    "end = pd.to_datetime(\"2015-11-28T21:00:00.000000000\")\n",
    "slice = hst_fcasts[0].slice(start,end)\n",
    "slice.plot()"
   ]
  },
  {
   "cell_type": "code",
   "execution_count": 15,
   "metadata": {},
   "outputs": [],
   "source": [
    "df = block_rnn_forecaster.dataset.y_validation.pd_dataframe()\n",
    "target_scaler = block_rnn_forecaster.dataset.target_scaler\n",
    "y_val = target_scaler.inverse_transform(block_rnn_forecaster.dataset.y_validation)\n",
    "y_val = y_val.pd_dataframe()"
   ]
  },
  {
   "cell_type": "code",
   "execution_count": 21,
   "metadata": {},
   "outputs": [],
   "source": [
    "y_pred =  hst_fcasts[0].quantile_df()"
   ]
  },
  {
   "cell_type": "code",
   "execution_count": 22,
   "metadata": {},
   "outputs": [
    {
     "data": {
      "text/html": [
       "<div>\n",
       "<style scoped>\n",
       "    .dataframe tbody tr th:only-of-type {\n",
       "        vertical-align: middle;\n",
       "    }\n",
       "\n",
       "    .dataframe tbody tr th {\n",
       "        vertical-align: top;\n",
       "    }\n",
       "\n",
       "    .dataframe thead th {\n",
       "        text-align: right;\n",
       "    }\n",
       "</style>\n",
       "<table border=\"1\" class=\"dataframe\">\n",
       "  <thead>\n",
       "    <tr style=\"text-align: right;\">\n",
       "      <th></th>\n",
       "      <th>0_0.5</th>\n",
       "    </tr>\n",
       "    <tr>\n",
       "      <th>time</th>\n",
       "      <th></th>\n",
       "    </tr>\n",
       "  </thead>\n",
       "  <tbody>\n",
       "    <tr>\n",
       "      <th>2015-09-21 21:00:00</th>\n",
       "      <td>&lt;xarray.DataArray ()&gt;\\narray(73.63625082)\\nCoo...</td>\n",
       "    </tr>\n",
       "    <tr>\n",
       "      <th>2015-09-22 09:00:00</th>\n",
       "      <td>&lt;xarray.DataArray ()&gt;\\narray(51.34038193)\\nCoo...</td>\n",
       "    </tr>\n",
       "    <tr>\n",
       "      <th>2015-09-22 21:00:00</th>\n",
       "      <td>&lt;xarray.DataArray ()&gt;\\narray(62.56821979)\\nCoo...</td>\n",
       "    </tr>\n",
       "    <tr>\n",
       "      <th>2015-09-23 09:00:00</th>\n",
       "      <td>&lt;xarray.DataArray ()&gt;\\narray(45.43405734)\\nCoo...</td>\n",
       "    </tr>\n",
       "    <tr>\n",
       "      <th>2015-09-23 21:00:00</th>\n",
       "      <td>&lt;xarray.DataArray ()&gt;\\narray(61.79115247)\\nCoo...</td>\n",
       "    </tr>\n",
       "    <tr>\n",
       "      <th>...</th>\n",
       "      <td>...</td>\n",
       "    </tr>\n",
       "    <tr>\n",
       "      <th>2018-09-17 09:00:00</th>\n",
       "      <td>&lt;xarray.DataArray ()&gt;\\narray(31.67382931)\\nCoo...</td>\n",
       "    </tr>\n",
       "    <tr>\n",
       "      <th>2018-09-17 21:00:00</th>\n",
       "      <td>&lt;xarray.DataArray ()&gt;\\narray(65.46087268)\\nCoo...</td>\n",
       "    </tr>\n",
       "    <tr>\n",
       "      <th>2018-09-18 09:00:00</th>\n",
       "      <td>&lt;xarray.DataArray ()&gt;\\narray(34.85106176)\\nCoo...</td>\n",
       "    </tr>\n",
       "    <tr>\n",
       "      <th>2018-09-18 21:00:00</th>\n",
       "      <td>&lt;xarray.DataArray ()&gt;\\narray(48.95439292)\\nCoo...</td>\n",
       "    </tr>\n",
       "    <tr>\n",
       "      <th>2018-09-19 09:00:00</th>\n",
       "      <td>&lt;xarray.DataArray ()&gt;\\narray(32.19326417)\\nCoo...</td>\n",
       "    </tr>\n",
       "  </tbody>\n",
       "</table>\n",
       "<p>2188 rows × 1 columns</p>\n",
       "</div>"
      ],
      "text/plain": [
       "                                                                 0_0.5\n",
       "time                                                                  \n",
       "2015-09-21 21:00:00  <xarray.DataArray ()>\\narray(73.63625082)\\nCoo...\n",
       "2015-09-22 09:00:00  <xarray.DataArray ()>\\narray(51.34038193)\\nCoo...\n",
       "2015-09-22 21:00:00  <xarray.DataArray ()>\\narray(62.56821979)\\nCoo...\n",
       "2015-09-23 09:00:00  <xarray.DataArray ()>\\narray(45.43405734)\\nCoo...\n",
       "2015-09-23 21:00:00  <xarray.DataArray ()>\\narray(61.79115247)\\nCoo...\n",
       "...                                                                ...\n",
       "2018-09-17 09:00:00  <xarray.DataArray ()>\\narray(31.67382931)\\nCoo...\n",
       "2018-09-17 21:00:00  <xarray.DataArray ()>\\narray(65.46087268)\\nCoo...\n",
       "2018-09-18 09:00:00  <xarray.DataArray ()>\\narray(34.85106176)\\nCoo...\n",
       "2018-09-18 21:00:00  <xarray.DataArray ()>\\narray(48.95439292)\\nCoo...\n",
       "2018-09-19 09:00:00  <xarray.DataArray ()>\\narray(32.19326417)\\nCoo...\n",
       "\n",
       "[2188 rows x 1 columns]"
      ]
     },
     "execution_count": 22,
     "metadata": {},
     "output_type": "execute_result"
    }
   ],
   "source": [
    "y_pred"
   ]
  },
  {
   "cell_type": "code",
   "execution_count": 17,
   "metadata": {},
   "outputs": [
    {
     "ename": "TypeError",
     "evalue": "cannot concatenate object of type '<class 'darts.timeseries.TimeSeries'>'; only Series and DataFrame objs are valid",
     "output_type": "error",
     "traceback": [
      "\u001b[1;31m---------------------------------------------------------------------------\u001b[0m",
      "\u001b[1;31mTypeError\u001b[0m                                 Traceback (most recent call last)",
      "\u001b[1;32m~\\AppData\\Local\\Temp\\ipykernel_8588\\4186911097.py\u001b[0m in \u001b[0;36m<module>\u001b[1;34m\u001b[0m\n\u001b[0;32m      1\u001b[0m \u001b[0mframes\u001b[0m\u001b[1;33m=\u001b[0m \u001b[1;33m[\u001b[0m\u001b[0mhst_fcasts\u001b[0m\u001b[1;33m[\u001b[0m\u001b[1;36m0\u001b[0m\u001b[1;33m]\u001b[0m\u001b[1;33m,\u001b[0m \u001b[0my_val\u001b[0m\u001b[1;33m]\u001b[0m\u001b[1;33m\u001b[0m\u001b[1;33m\u001b[0m\u001b[0m\n\u001b[0;32m      2\u001b[0m \u001b[1;32mimport\u001b[0m \u001b[0mpandas\u001b[0m \u001b[1;32mas\u001b[0m \u001b[0mpd\u001b[0m\u001b[1;33m\u001b[0m\u001b[1;33m\u001b[0m\u001b[0m\n\u001b[1;32m----> 3\u001b[1;33m \u001b[0mdf_joined\u001b[0m \u001b[1;33m=\u001b[0m \u001b[0mpd\u001b[0m\u001b[1;33m.\u001b[0m\u001b[0mconcat\u001b[0m\u001b[1;33m(\u001b[0m\u001b[0mframes\u001b[0m\u001b[1;33m,\u001b[0m \u001b[0maxis\u001b[0m\u001b[1;33m=\u001b[0m\u001b[1;36m1\u001b[0m\u001b[1;33m,\u001b[0m \u001b[0mjoin\u001b[0m\u001b[1;33m=\u001b[0m\u001b[1;34m\"inner\"\u001b[0m\u001b[1;33m)\u001b[0m\u001b[1;33m\u001b[0m\u001b[1;33m\u001b[0m\u001b[0m\n\u001b[0m",
      "\u001b[1;32m~\\anaconda3\\envs\\darts\\lib\\site-packages\\pandas\\core\\reshape\\concat.py\u001b[0m in \u001b[0;36mconcat\u001b[1;34m(objs, axis, join, ignore_index, keys, levels, names, verify_integrity, sort, copy)\u001b[0m\n\u001b[0;32m    293\u001b[0m         \u001b[0mverify_integrity\u001b[0m\u001b[1;33m=\u001b[0m\u001b[0mverify_integrity\u001b[0m\u001b[1;33m,\u001b[0m\u001b[1;33m\u001b[0m\u001b[1;33m\u001b[0m\u001b[0m\n\u001b[0;32m    294\u001b[0m         \u001b[0mcopy\u001b[0m\u001b[1;33m=\u001b[0m\u001b[0mcopy\u001b[0m\u001b[1;33m,\u001b[0m\u001b[1;33m\u001b[0m\u001b[1;33m\u001b[0m\u001b[0m\n\u001b[1;32m--> 295\u001b[1;33m         \u001b[0msort\u001b[0m\u001b[1;33m=\u001b[0m\u001b[0msort\u001b[0m\u001b[1;33m,\u001b[0m\u001b[1;33m\u001b[0m\u001b[1;33m\u001b[0m\u001b[0m\n\u001b[0m\u001b[0;32m    296\u001b[0m     )\n\u001b[0;32m    297\u001b[0m \u001b[1;33m\u001b[0m\u001b[0m\n",
      "\u001b[1;32m~\\anaconda3\\envs\\darts\\lib\\site-packages\\pandas\\core\\reshape\\concat.py\u001b[0m in \u001b[0;36m__init__\u001b[1;34m(self, objs, axis, join, keys, levels, names, ignore_index, verify_integrity, copy, sort)\u001b[0m\n\u001b[0;32m    368\u001b[0m                     \u001b[1;34m\"only Series and DataFrame objs are valid\"\u001b[0m\u001b[1;33m\u001b[0m\u001b[1;33m\u001b[0m\u001b[0m\n\u001b[0;32m    369\u001b[0m                 )\n\u001b[1;32m--> 370\u001b[1;33m                 \u001b[1;32mraise\u001b[0m \u001b[0mTypeError\u001b[0m\u001b[1;33m(\u001b[0m\u001b[0mmsg\u001b[0m\u001b[1;33m)\u001b[0m\u001b[1;33m\u001b[0m\u001b[1;33m\u001b[0m\u001b[0m\n\u001b[0m\u001b[0;32m    371\u001b[0m \u001b[1;33m\u001b[0m\u001b[0m\n\u001b[0;32m    372\u001b[0m             \u001b[1;31m# consolidate\u001b[0m\u001b[1;33m\u001b[0m\u001b[1;33m\u001b[0m\u001b[1;33m\u001b[0m\u001b[0m\n",
      "\u001b[1;31mTypeError\u001b[0m: cannot concatenate object of type '<class 'darts.timeseries.TimeSeries'>'; only Series and DataFrame objs are valid"
     ]
    }
   ],
   "source": [
    "frames= [hst_fcasts[0], y_val]\n",
    "import pandas as pd\n",
    "df_joined = pd.concat(frames, axis=1, join=\"inner\")"
   ]
  },
  {
   "cell_type": "code",
   "execution_count": null,
   "metadata": {},
   "outputs": [],
   "source": [
    "df_joined[-550:-500].plot()"
   ]
  },
  {
   "cell_type": "code",
   "execution_count": null,
   "metadata": {},
   "outputs": [],
   "source": []
  },
  {
   "cell_type": "code",
   "execution_count": null,
   "metadata": {},
   "outputs": [],
   "source": []
  }
 ],
 "metadata": {
  "interpreter": {
   "hash": "815148e3768c1e208d177ea4f59544b3b2e4bd0509ac51753b9e2d2ac3e6c685"
  },
  "kernelspec": {
   "display_name": "Python 3.9.9 64-bit ('tf': venv)",
   "language": "python",
   "name": "python3"
  },
  "language_info": {
   "codemirror_mode": {
    "name": "ipython",
    "version": 3
   },
   "file_extension": ".py",
   "mimetype": "text/x-python",
   "name": "python",
   "nbconvert_exporter": "python",
   "pygments_lexer": "ipython3",
   "version": "3.7.11"
  },
  "orig_nbformat": 4
 },
 "nbformat": 4,
 "nbformat_minor": 2
}
