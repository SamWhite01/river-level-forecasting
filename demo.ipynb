{
 "cells": [
  {
   "cell_type": "markdown",
   "metadata": {},
   "source": [
    "Build or load a 'CatchmentData' instance to allow access to all needed data"
   ]
  },
  {
   "cell_type": "code",
   "execution_count": 1,
   "metadata": {},
   "outputs": [],
   "source": [
    "rebuild_catchment = True"
   ]
  },
  {
   "cell_type": "code",
   "execution_count": 2,
   "metadata": {},
   "outputs": [
    {
     "name": "stdout",
     "output_type": "stream",
     "text": [
      "data\\historical\\illinois-kerby\n",
      "42_121908\n",
      "-123_811815\n",
      "data\\historical\\illinois-kerby\n",
      "42_06732\n",
      "-123_735599\n",
      "data\\historical\\illinois-kerby\n",
      "42_036081\n",
      "-123_815442\n",
      "data\\historical\\illinois-kerby\n",
      "41_988114\n",
      "-123_716582\n",
      "data\\historical\\illinois-kerby\n",
      "41_951352\n",
      "-123_608504\n",
      "data\\historical\\illinois-kerby\n",
      "42_07535\n",
      "-123_61605\n",
      "data\\historical\\illinois-kerby\n",
      "42_031164\n",
      "-123_534899\n",
      "data\\historical\\illinois-kerby\n",
      "42_068429\n",
      "-123_449217\n",
      "data\\historical\\illinois-kerby\n",
      "42_131317\n",
      "-123_365868\n",
      "data\\historical\\illinois-kerby\n",
      "42_175018\n",
      "-123_470912\n",
      "data\\historical\\illinois-kerby\n",
      "42_121267\n",
      "-123_67246\n",
      "data\\historical\\illinois-kerby\n",
      "42_119886\n",
      "-123_567812\n"
     ]
    }
   ],
   "source": [
    "from forecasting.catchment_data import CatchmentData\n",
    "import pickle\n",
    "\n",
    "if rebuild_catchment:\n",
    "    catchment = CatchmentData(\"illinois-kerby\", \"14377100\")\n",
    "\n",
    "    pickle_out = open(\"temp_storage/catchment.pickle\", \"wb\")\n",
    "    pickle.dump(catchment, pickle_out)\n",
    "    pickle_out.close()\n",
    "else:\n",
    "    pickle_in = open(\"temp_storage/catchment.pickle\", \"rb\")\n",
    "    catchment = pickle.load(pickle_in)"
   ]
  },
  {
   "cell_type": "markdown",
   "metadata": {},
   "source": [
    "Create a Forecaster instance using the catchment instance and a desired Darts model."
   ]
  },
  {
   "cell_type": "code",
   "execution_count": 46,
   "metadata": {},
   "outputs": [],
   "source": [
    "from darts.models import BlockRNNModel\n",
    "from forecasting.dataset import Dataset\n",
    "dataset = Dataset(catchment)\n",
    "params = {\n",
    "    \"input_chunk_length\" : [96, 120],\n",
    "    \"output_chunk_length\" : [96],\n",
    "    \"hidden_size\" : [25, 50],\n",
    "    \"n_rnn_layers\" : [1, 5, 9]\n",
    "}\n",
    "X_train = dataset.X_trains[0]\n",
    "y_train = dataset.y_train\n",
    "\n",
    "y_train, y_val = y_train.split_before(0.8)\n",
    "\n"
   ]
  },
  {
   "cell_type": "code",
   "execution_count": 47,
   "metadata": {},
   "outputs": [
    {
     "data": {
      "application/vnd.jupyter.widget-view+json": {
       "model_id": "00c10fd7be564406821d7931d97344b2",
       "version_major": 2,
       "version_minor": 0
      },
      "text/plain": [
       "  0%|          | 0/12 [00:00<?, ?it/s]"
      ]
     },
     "metadata": {},
     "output_type": "display_data"
    },
    {
     "name": "stderr",
     "output_type": "stream",
     "text": [
      "[2022-02-22 18:29:28,264] INFO | darts.models.forecasting.torch_forecasting_model | Train dataset contains 167930 samples.\n",
      "[2022-02-22 18:29:28,264] INFO | darts.models.forecasting.torch_forecasting_model | Train dataset contains 167930 samples.\n",
      "[2022-02-22 18:29:28,271] INFO | darts.models.forecasting.torch_forecasting_model | Time series values are 64-bits; casting model to float64.\n",
      "[2022-02-22 18:29:28,271] INFO | darts.models.forecasting.torch_forecasting_model | Time series values are 64-bits; casting model to float64.\n",
      "[2022-02-22 19:45:20,738] INFO | darts.models.forecasting.torch_forecasting_model | Train dataset contains 167930 samples.\n",
      "[2022-02-22 19:45:20,738] INFO | darts.models.forecasting.torch_forecasting_model | Train dataset contains 167930 samples.\n",
      "[2022-02-22 19:45:20,740] INFO | darts.models.forecasting.torch_forecasting_model | Time series values are 64-bits; casting model to float64.\n",
      "[2022-02-22 19:45:20,740] INFO | darts.models.forecasting.torch_forecasting_model | Time series values are 64-bits; casting model to float64.\n",
      "[2022-02-22 22:40:28,278] INFO | darts.models.forecasting.torch_forecasting_model | Train dataset contains 167930 samples.\n",
      "[2022-02-22 22:40:28,278] INFO | darts.models.forecasting.torch_forecasting_model | Train dataset contains 167930 samples.\n",
      "[2022-02-22 22:40:28,280] INFO | darts.models.forecasting.torch_forecasting_model | Time series values are 64-bits; casting model to float64.\n",
      "[2022-02-22 22:40:28,280] INFO | darts.models.forecasting.torch_forecasting_model | Time series values are 64-bits; casting model to float64.\n",
      "[2022-02-23 03:15:58,151] INFO | darts.models.forecasting.torch_forecasting_model | Train dataset contains 167930 samples.\n",
      "[2022-02-23 03:15:58,151] INFO | darts.models.forecasting.torch_forecasting_model | Train dataset contains 167930 samples.\n",
      "[2022-02-23 03:15:58,153] INFO | darts.models.forecasting.torch_forecasting_model | Time series values are 64-bits; casting model to float64.\n",
      "[2022-02-23 03:15:58,153] INFO | darts.models.forecasting.torch_forecasting_model | Time series values are 64-bits; casting model to float64.\n",
      "[2022-02-23 04:48:14,294] INFO | darts.models.forecasting.torch_forecasting_model | Train dataset contains 167930 samples.\n",
      "[2022-02-23 04:48:14,294] INFO | darts.models.forecasting.torch_forecasting_model | Train dataset contains 167930 samples.\n",
      "[2022-02-23 04:48:14,296] INFO | darts.models.forecasting.torch_forecasting_model | Time series values are 64-bits; casting model to float64.\n",
      "[2022-02-23 04:48:14,296] INFO | darts.models.forecasting.torch_forecasting_model | Time series values are 64-bits; casting model to float64.\n",
      "[2022-02-23 07:51:45,605] INFO | darts.models.forecasting.torch_forecasting_model | Train dataset contains 167930 samples.\n",
      "[2022-02-23 07:51:45,605] INFO | darts.models.forecasting.torch_forecasting_model | Train dataset contains 167930 samples.\n",
      "[2022-02-23 07:51:45,607] INFO | darts.models.forecasting.torch_forecasting_model | Time series values are 64-bits; casting model to float64.\n",
      "[2022-02-23 07:51:45,607] INFO | darts.models.forecasting.torch_forecasting_model | Time series values are 64-bits; casting model to float64.\n"
     ]
    }
   ],
   "source": [
    "BlockRNNModel.gridsearch(params, verbose=True, series=y_train, past_covariates=X_train, val_series=y_val)"
   ]
  },
  {
   "cell_type": "code",
   "execution_count": 5,
   "metadata": {},
   "outputs": [
    {
     "name": "stderr",
     "output_type": "stream",
     "text": [
      "Importing plotly failed. Interactive plots will not work.\n"
     ]
    },
    {
     "name": "stdout",
     "output_type": "stream",
     "text": [
      "2022-02-23 16:36:17,628 - INFO - c:\\Users\\orion\\Documents\\GitHub\\river-level-forecasting\\forecasting\\forecaster.py - Building new models. Overwritting any existing models.\n",
      "2022-02-23 16:36:17,630 - INFO - c:\\Users\\orion\\Documents\\GitHub\\river-level-forecasting\\forecasting\\forecaster.py - Building model for dataset 0\n",
      "2022-02-23 16:36:17,651 - INFO - c:\\Users\\orion\\Documents\\GitHub\\river-level-forecasting\\forecasting\\forecaster.py - Building model for dataset 1\n",
      "2022-02-23 16:36:17,652 - INFO - c:\\Users\\orion\\Documents\\GitHub\\river-level-forecasting\\forecasting\\forecaster.py - Building model for dataset 2\n",
      "2022-02-23 16:36:17,652 - INFO - c:\\Users\\orion\\Documents\\GitHub\\river-level-forecasting\\forecasting\\forecaster.py - Building model for dataset 3\n",
      "2022-02-23 16:36:17,653 - INFO - c:\\Users\\orion\\Documents\\GitHub\\river-level-forecasting\\forecasting\\forecaster.py - Building model for dataset 4\n",
      "2022-02-23 16:36:17,654 - INFO - c:\\Users\\orion\\Documents\\GitHub\\river-level-forecasting\\forecasting\\forecaster.py - Building model for dataset 5\n",
      "2022-02-23 16:36:17,654 - INFO - c:\\Users\\orion\\Documents\\GitHub\\river-level-forecasting\\forecasting\\forecaster.py - Building model for dataset 6\n",
      "2022-02-23 16:36:17,655 - INFO - c:\\Users\\orion\\Documents\\GitHub\\river-level-forecasting\\forecasting\\forecaster.py - Building model for dataset 7\n",
      "2022-02-23 16:36:17,655 - INFO - c:\\Users\\orion\\Documents\\GitHub\\river-level-forecasting\\forecasting\\forecaster.py - Building model for dataset 8\n",
      "2022-02-23 16:36:17,656 - INFO - c:\\Users\\orion\\Documents\\GitHub\\river-level-forecasting\\forecasting\\forecaster.py - Building model for dataset 9\n",
      "2022-02-23 16:36:17,657 - INFO - c:\\Users\\orion\\Documents\\GitHub\\river-level-forecasting\\forecasting\\forecaster.py - Building model for dataset 10\n",
      "2022-02-23 16:36:17,657 - INFO - c:\\Users\\orion\\Documents\\GitHub\\river-level-forecasting\\forecasting\\forecaster.py - Building model for dataset 11\n",
      "2022-02-23 16:36:17,658 - INFO - c:\\Users\\orion\\Documents\\GitHub\\river-level-forecasting\\forecasting\\forecaster.py - All models built!\n"
     ]
    }
   ],
   "source": [
    "from forecasting.forecaster import Forecaster\n",
    "\n",
    "# Using a Block RNN\n",
    "from darts.models import BlockRNNModel\n",
    "block_rnn_forecaster = Forecaster(catchment, model_type=BlockRNNModel, model_save_dir=\"BlockRNN\", likelihood=None)"
   ]
  },
  {
   "cell_type": "markdown",
   "metadata": {},
   "source": [
    "Fit both models"
   ]
  },
  {
   "cell_type": "code",
   "execution_count": 4,
   "metadata": {},
   "outputs": [
    {
     "name": "stdout",
     "output_type": "stream",
     "text": [
      "2022-02-22 12:27:00,688 - INFO - c:\\Users\\orion\\Documents\\GitHub\\river-level-forecasting\\forecasting\\forecaster.py - FROM LOGGER: Loading existing models\n",
      "2022-02-22 12:27:00,688 - INFO - c:\\Users\\orion\\Documents\\GitHub\\river-level-forecasting\\forecasting\\forecaster.py - FROM LOGGER: Loading existing models\n",
      "2022-02-22 12:27:00,689 - INFO - c:\\Users\\orion\\Documents\\GitHub\\river-level-forecasting\\forecasting\\forecaster.py - Loading model for dataset 0\n",
      "2022-02-22 12:27:00,689 - INFO - c:\\Users\\orion\\Documents\\GitHub\\river-level-forecasting\\forecasting\\forecaster.py - Loading model for dataset 0\n"
     ]
    },
    {
     "name": "stderr",
     "output_type": "stream",
     "text": [
      "[2022-02-22 12:27:00,691] INFO | darts.models.forecasting.torch_forecasting_model | loading model_best_0.pth.tar\n",
      "[2022-02-22 12:27:00,691] INFO | darts.models.forecasting.torch_forecasting_model | loading model_best_0.pth.tar\n"
     ]
    },
    {
     "name": "stdout",
     "output_type": "stream",
     "text": [
      "2022-02-22 12:27:00,995 - INFO - c:\\Users\\orion\\Documents\\GitHub\\river-level-forecasting\\forecasting\\forecaster.py - Loading model for dataset 1\n",
      "2022-02-22 12:27:00,995 - INFO - c:\\Users\\orion\\Documents\\GitHub\\river-level-forecasting\\forecasting\\forecaster.py - Loading model for dataset 1\n"
     ]
    },
    {
     "name": "stderr",
     "output_type": "stream",
     "text": [
      "[2022-02-22 12:27:00,997] INFO | darts.models.forecasting.torch_forecasting_model | loading model_best_0.pth.tar\n",
      "[2022-02-22 12:27:00,997] INFO | darts.models.forecasting.torch_forecasting_model | loading model_best_0.pth.tar\n"
     ]
    },
    {
     "name": "stdout",
     "output_type": "stream",
     "text": [
      "2022-02-22 12:27:01,313 - INFO - c:\\Users\\orion\\Documents\\GitHub\\river-level-forecasting\\forecasting\\forecaster.py - All models loaded!\n",
      "2022-02-22 12:27:01,313 - INFO - c:\\Users\\orion\\Documents\\GitHub\\river-level-forecasting\\forecasting\\forecaster.py - All models loaded!\n"
     ]
    }
   ],
   "source": [
    "# Using a Block RNN\n",
    "from darts.models import NBEATSModel\n",
    "n_beats_forecaster = Forecaster(catchment, model_type=NBEATSModel, model_save_dir=\"NBEATSModel\")"
   ]
  },
  {
   "cell_type": "code",
   "execution_count": 6,
   "metadata": {},
   "outputs": [
    {
     "name": "stdout",
     "output_type": "stream",
     "text": [
      "2022-02-23 16:36:49,190 - INFO - c:\\Users\\orion\\Documents\\GitHub\\river-level-forecasting\\forecasting\\forecaster.py - Fitting all models\n",
      "2022-02-23 16:36:49,190 - INFO - c:\\Users\\orion\\Documents\\GitHub\\river-level-forecasting\\forecasting\\forecaster.py - Fitting model 0\n"
     ]
    },
    {
     "name": "stderr",
     "output_type": "stream",
     "text": [
      "[2022-02-23 16:36:49,191] INFO | darts.models.forecasting.torch_forecasting_model | Train dataset contains 210566 samples.\n",
      "[2022-02-23 16:36:49,191] INFO | darts.models.forecasting.torch_forecasting_model | Train dataset contains 210566 samples.\n",
      "[2022-02-23 16:36:49,204] INFO | darts.models.forecasting.torch_forecasting_model | Time series values are 64-bits; casting model to float64.\n",
      "[2022-02-23 16:36:49,204] INFO | darts.models.forecasting.torch_forecasting_model | Time series values are 64-bits; casting model to float64.\n"
     ]
    },
    {
     "data": {
      "application/vnd.jupyter.widget-view+json": {
       "model_id": "9c4811b50d18421db2fd1ca82ce16a13",
       "version_major": 2,
       "version_minor": 0
      },
      "text/plain": [
       "  0%|          | 0/1 [00:00<?, ?it/s]"
      ]
     },
     "metadata": {},
     "output_type": "display_data"
    },
    {
     "name": "stdout",
     "output_type": "stream",
     "text": [
      "2022-02-23 16:38:13,677 - INFO - c:\\Users\\orion\\Documents\\GitHub\\river-level-forecasting\\forecasting\\forecaster.py - Fitting model 1\n"
     ]
    },
    {
     "name": "stderr",
     "output_type": "stream",
     "text": [
      "[2022-02-23 16:38:13,677] INFO | darts.models.forecasting.torch_forecasting_model | Train dataset contains 210566 samples.\n",
      "[2022-02-23 16:38:13,677] INFO | darts.models.forecasting.torch_forecasting_model | Train dataset contains 210566 samples.\n",
      "[2022-02-23 16:38:13,684] INFO | darts.models.forecasting.torch_forecasting_model | Time series values are 64-bits; casting model to float64.\n",
      "[2022-02-23 16:38:13,684] INFO | darts.models.forecasting.torch_forecasting_model | Time series values are 64-bits; casting model to float64.\n"
     ]
    },
    {
     "data": {
      "application/vnd.jupyter.widget-view+json": {
       "model_id": "0e98afae65544f27a454dacfc06fe2f3",
       "version_major": 2,
       "version_minor": 0
      },
      "text/plain": [
       "  0%|          | 0/1 [00:00<?, ?it/s]"
      ]
     },
     "metadata": {},
     "output_type": "display_data"
    },
    {
     "name": "stdout",
     "output_type": "stream",
     "text": [
      "2022-02-23 16:39:32,747 - INFO - c:\\Users\\orion\\Documents\\GitHub\\river-level-forecasting\\forecasting\\forecaster.py - Fitting model 2\n"
     ]
    },
    {
     "name": "stderr",
     "output_type": "stream",
     "text": [
      "[2022-02-23 16:39:32,747] INFO | darts.models.forecasting.torch_forecasting_model | Train dataset contains 210566 samples.\n",
      "[2022-02-23 16:39:32,747] INFO | darts.models.forecasting.torch_forecasting_model | Train dataset contains 210566 samples.\n",
      "[2022-02-23 16:39:32,754] INFO | darts.models.forecasting.torch_forecasting_model | Time series values are 64-bits; casting model to float64.\n",
      "[2022-02-23 16:39:32,754] INFO | darts.models.forecasting.torch_forecasting_model | Time series values are 64-bits; casting model to float64.\n"
     ]
    },
    {
     "data": {
      "application/vnd.jupyter.widget-view+json": {
       "model_id": "273dca17ce644970a31e7976dfc0be83",
       "version_major": 2,
       "version_minor": 0
      },
      "text/plain": [
       "  0%|          | 0/1 [00:00<?, ?it/s]"
      ]
     },
     "metadata": {},
     "output_type": "display_data"
    },
    {
     "name": "stdout",
     "output_type": "stream",
     "text": [
      "2022-02-23 16:40:50,628 - INFO - c:\\Users\\orion\\Documents\\GitHub\\river-level-forecasting\\forecasting\\forecaster.py - Fitting model 3\n"
     ]
    },
    {
     "name": "stderr",
     "output_type": "stream",
     "text": [
      "[2022-02-23 16:40:50,628] INFO | darts.models.forecasting.torch_forecasting_model | Train dataset contains 210566 samples.\n",
      "[2022-02-23 16:40:50,628] INFO | darts.models.forecasting.torch_forecasting_model | Train dataset contains 210566 samples.\n",
      "[2022-02-23 16:40:50,634] INFO | darts.models.forecasting.torch_forecasting_model | Time series values are 64-bits; casting model to float64.\n",
      "[2022-02-23 16:40:50,634] INFO | darts.models.forecasting.torch_forecasting_model | Time series values are 64-bits; casting model to float64.\n"
     ]
    },
    {
     "data": {
      "application/vnd.jupyter.widget-view+json": {
       "model_id": "3949613c088942d4bdc2a267bb28df10",
       "version_major": 2,
       "version_minor": 0
      },
      "text/plain": [
       "  0%|          | 0/1 [00:00<?, ?it/s]"
      ]
     },
     "metadata": {},
     "output_type": "display_data"
    },
    {
     "name": "stdout",
     "output_type": "stream",
     "text": [
      "2022-02-23 16:42:08,878 - INFO - c:\\Users\\orion\\Documents\\GitHub\\river-level-forecasting\\forecasting\\forecaster.py - Fitting model 4\n"
     ]
    },
    {
     "name": "stderr",
     "output_type": "stream",
     "text": [
      "[2022-02-23 16:42:08,879] INFO | darts.models.forecasting.torch_forecasting_model | Train dataset contains 210566 samples.\n",
      "[2022-02-23 16:42:08,879] INFO | darts.models.forecasting.torch_forecasting_model | Train dataset contains 210566 samples.\n",
      "[2022-02-23 16:42:08,886] INFO | darts.models.forecasting.torch_forecasting_model | Time series values are 64-bits; casting model to float64.\n",
      "[2022-02-23 16:42:08,886] INFO | darts.models.forecasting.torch_forecasting_model | Time series values are 64-bits; casting model to float64.\n"
     ]
    },
    {
     "data": {
      "application/vnd.jupyter.widget-view+json": {
       "model_id": "7bf52818a5394f11ad18fb3bdfbdf778",
       "version_major": 2,
       "version_minor": 0
      },
      "text/plain": [
       "  0%|          | 0/1 [00:00<?, ?it/s]"
      ]
     },
     "metadata": {},
     "output_type": "display_data"
    },
    {
     "name": "stdout",
     "output_type": "stream",
     "text": [
      "2022-02-23 16:43:26,905 - INFO - c:\\Users\\orion\\Documents\\GitHub\\river-level-forecasting\\forecasting\\forecaster.py - Fitting model 5\n"
     ]
    },
    {
     "name": "stderr",
     "output_type": "stream",
     "text": [
      "[2022-02-23 16:43:26,906] INFO | darts.models.forecasting.torch_forecasting_model | Train dataset contains 210566 samples.\n",
      "[2022-02-23 16:43:26,906] INFO | darts.models.forecasting.torch_forecasting_model | Train dataset contains 210566 samples.\n",
      "[2022-02-23 16:43:26,912] INFO | darts.models.forecasting.torch_forecasting_model | Time series values are 64-bits; casting model to float64.\n",
      "[2022-02-23 16:43:26,912] INFO | darts.models.forecasting.torch_forecasting_model | Time series values are 64-bits; casting model to float64.\n"
     ]
    },
    {
     "data": {
      "application/vnd.jupyter.widget-view+json": {
       "model_id": "cd1b70eaf57540269d75f0c7edab76b9",
       "version_major": 2,
       "version_minor": 0
      },
      "text/plain": [
       "  0%|          | 0/1 [00:00<?, ?it/s]"
      ]
     },
     "metadata": {},
     "output_type": "display_data"
    },
    {
     "name": "stdout",
     "output_type": "stream",
     "text": [
      "2022-02-23 16:44:44,708 - INFO - c:\\Users\\orion\\Documents\\GitHub\\river-level-forecasting\\forecasting\\forecaster.py - Fitting model 6\n"
     ]
    },
    {
     "name": "stderr",
     "output_type": "stream",
     "text": [
      "[2022-02-23 16:44:44,709] INFO | darts.models.forecasting.torch_forecasting_model | Train dataset contains 210566 samples.\n",
      "[2022-02-23 16:44:44,709] INFO | darts.models.forecasting.torch_forecasting_model | Train dataset contains 210566 samples.\n",
      "[2022-02-23 16:44:44,715] INFO | darts.models.forecasting.torch_forecasting_model | Time series values are 64-bits; casting model to float64.\n",
      "[2022-02-23 16:44:44,715] INFO | darts.models.forecasting.torch_forecasting_model | Time series values are 64-bits; casting model to float64.\n"
     ]
    },
    {
     "data": {
      "application/vnd.jupyter.widget-view+json": {
       "model_id": "4bd49b4bdbac4447ba7951f39d39f811",
       "version_major": 2,
       "version_minor": 0
      },
      "text/plain": [
       "  0%|          | 0/1 [00:00<?, ?it/s]"
      ]
     },
     "metadata": {},
     "output_type": "display_data"
    },
    {
     "name": "stdout",
     "output_type": "stream",
     "text": [
      "2022-02-23 16:46:03,296 - INFO - c:\\Users\\orion\\Documents\\GitHub\\river-level-forecasting\\forecasting\\forecaster.py - Fitting model 7\n"
     ]
    },
    {
     "name": "stderr",
     "output_type": "stream",
     "text": [
      "[2022-02-23 16:46:03,297] INFO | darts.models.forecasting.torch_forecasting_model | Train dataset contains 210566 samples.\n",
      "[2022-02-23 16:46:03,297] INFO | darts.models.forecasting.torch_forecasting_model | Train dataset contains 210566 samples.\n",
      "[2022-02-23 16:46:03,303] INFO | darts.models.forecasting.torch_forecasting_model | Time series values are 64-bits; casting model to float64.\n",
      "[2022-02-23 16:46:03,303] INFO | darts.models.forecasting.torch_forecasting_model | Time series values are 64-bits; casting model to float64.\n"
     ]
    },
    {
     "data": {
      "application/vnd.jupyter.widget-view+json": {
       "model_id": "04123c55e1714fc99d30b5aaef07ee58",
       "version_major": 2,
       "version_minor": 0
      },
      "text/plain": [
       "  0%|          | 0/1 [00:00<?, ?it/s]"
      ]
     },
     "metadata": {},
     "output_type": "display_data"
    },
    {
     "name": "stdout",
     "output_type": "stream",
     "text": [
      "2022-02-23 16:47:21,045 - INFO - c:\\Users\\orion\\Documents\\GitHub\\river-level-forecasting\\forecasting\\forecaster.py - Fitting model 8\n"
     ]
    },
    {
     "name": "stderr",
     "output_type": "stream",
     "text": [
      "[2022-02-23 16:47:21,046] INFO | darts.models.forecasting.torch_forecasting_model | Train dataset contains 210566 samples.\n",
      "[2022-02-23 16:47:21,046] INFO | darts.models.forecasting.torch_forecasting_model | Train dataset contains 210566 samples.\n",
      "[2022-02-23 16:47:21,053] INFO | darts.models.forecasting.torch_forecasting_model | Time series values are 64-bits; casting model to float64.\n",
      "[2022-02-23 16:47:21,053] INFO | darts.models.forecasting.torch_forecasting_model | Time series values are 64-bits; casting model to float64.\n"
     ]
    },
    {
     "data": {
      "application/vnd.jupyter.widget-view+json": {
       "model_id": "63568a636cf34d67bf3a28d33b04e36e",
       "version_major": 2,
       "version_minor": 0
      },
      "text/plain": [
       "  0%|          | 0/1 [00:00<?, ?it/s]"
      ]
     },
     "metadata": {},
     "output_type": "display_data"
    },
    {
     "name": "stdout",
     "output_type": "stream",
     "text": [
      "2022-02-23 16:48:38,898 - INFO - c:\\Users\\orion\\Documents\\GitHub\\river-level-forecasting\\forecasting\\forecaster.py - Fitting model 9\n"
     ]
    },
    {
     "name": "stderr",
     "output_type": "stream",
     "text": [
      "[2022-02-23 16:48:38,899] INFO | darts.models.forecasting.torch_forecasting_model | Train dataset contains 210566 samples.\n",
      "[2022-02-23 16:48:38,899] INFO | darts.models.forecasting.torch_forecasting_model | Train dataset contains 210566 samples.\n",
      "[2022-02-23 16:48:38,905] INFO | darts.models.forecasting.torch_forecasting_model | Time series values are 64-bits; casting model to float64.\n",
      "[2022-02-23 16:48:38,905] INFO | darts.models.forecasting.torch_forecasting_model | Time series values are 64-bits; casting model to float64.\n"
     ]
    },
    {
     "data": {
      "application/vnd.jupyter.widget-view+json": {
       "model_id": "bb6aede6498e45e9864dea447eb357e8",
       "version_major": 2,
       "version_minor": 0
      },
      "text/plain": [
       "  0%|          | 0/1 [00:00<?, ?it/s]"
      ]
     },
     "metadata": {},
     "output_type": "display_data"
    },
    {
     "name": "stdout",
     "output_type": "stream",
     "text": [
      "2022-02-23 16:49:56,918 - INFO - c:\\Users\\orion\\Documents\\GitHub\\river-level-forecasting\\forecasting\\forecaster.py - Fitting model 10\n"
     ]
    },
    {
     "name": "stderr",
     "output_type": "stream",
     "text": [
      "[2022-02-23 16:49:56,919] INFO | darts.models.forecasting.torch_forecasting_model | Train dataset contains 210566 samples.\n",
      "[2022-02-23 16:49:56,919] INFO | darts.models.forecasting.torch_forecasting_model | Train dataset contains 210566 samples.\n",
      "[2022-02-23 16:49:56,926] INFO | darts.models.forecasting.torch_forecasting_model | Time series values are 64-bits; casting model to float64.\n",
      "[2022-02-23 16:49:56,926] INFO | darts.models.forecasting.torch_forecasting_model | Time series values are 64-bits; casting model to float64.\n"
     ]
    },
    {
     "data": {
      "application/vnd.jupyter.widget-view+json": {
       "model_id": "ffd500218e1f47128a5b1c6f683a218c",
       "version_major": 2,
       "version_minor": 0
      },
      "text/plain": [
       "  0%|          | 0/1 [00:00<?, ?it/s]"
      ]
     },
     "metadata": {},
     "output_type": "display_data"
    },
    {
     "name": "stdout",
     "output_type": "stream",
     "text": [
      "2022-02-23 16:51:14,626 - INFO - c:\\Users\\orion\\Documents\\GitHub\\river-level-forecasting\\forecasting\\forecaster.py - Fitting model 11\n"
     ]
    },
    {
     "name": "stderr",
     "output_type": "stream",
     "text": [
      "[2022-02-23 16:51:14,627] INFO | darts.models.forecasting.torch_forecasting_model | Train dataset contains 210566 samples.\n",
      "[2022-02-23 16:51:14,627] INFO | darts.models.forecasting.torch_forecasting_model | Train dataset contains 210566 samples.\n",
      "[2022-02-23 16:51:14,634] INFO | darts.models.forecasting.torch_forecasting_model | Time series values are 64-bits; casting model to float64.\n",
      "[2022-02-23 16:51:14,634] INFO | darts.models.forecasting.torch_forecasting_model | Time series values are 64-bits; casting model to float64.\n"
     ]
    },
    {
     "data": {
      "application/vnd.jupyter.widget-view+json": {
       "model_id": "80726f7bb45a4683bca3d6cb20a1fb9a",
       "version_major": 2,
       "version_minor": 0
      },
      "text/plain": [
       "  0%|          | 0/1 [00:00<?, ?it/s]"
      ]
     },
     "metadata": {},
     "output_type": "display_data"
    },
    {
     "name": "stdout",
     "output_type": "stream",
     "text": [
      "Training loss: 0.0013, validation loss: 0.0015, best val loss: 0.0015\r"
     ]
    }
   ],
   "source": [
    "block_rnn_forecaster.fit(epochs=1)"
   ]
  },
  {
   "cell_type": "code",
   "execution_count": 7,
   "metadata": {},
   "outputs": [
    {
     "name": "stdout",
     "output_type": "stream",
     "text": [
      "2022-02-23 16:52:29,693 - INFO - c:\\Users\\orion\\Documents\\GitHub\\river-level-forecasting\\forecasting\\forecaster.py - Fitting all models\n",
      "2022-02-23 16:52:29,693 - INFO - c:\\Users\\orion\\Documents\\GitHub\\river-level-forecasting\\forecasting\\forecaster.py - Fitting model 0\n"
     ]
    },
    {
     "name": "stderr",
     "output_type": "stream",
     "text": [
      "[2022-02-23 16:52:29,694] INFO | darts.models.forecasting.torch_forecasting_model | Train dataset contains 210566 samples.\n",
      "[2022-02-23 16:52:29,694] INFO | darts.models.forecasting.torch_forecasting_model | Train dataset contains 210566 samples.\n"
     ]
    },
    {
     "data": {
      "application/vnd.jupyter.widget-view+json": {
       "model_id": "10f67ca205e541f5bfbbc3a961076c81",
       "version_major": 2,
       "version_minor": 0
      },
      "text/plain": [
       "  0%|          | 0/19 [00:00<?, ?it/s]"
      ]
     },
     "metadata": {},
     "output_type": "display_data"
    },
    {
     "name": "stdout",
     "output_type": "stream",
     "text": [
      "2022-02-23 17:13:56,813 - INFO - c:\\Users\\orion\\Documents\\GitHub\\river-level-forecasting\\forecasting\\forecaster.py - Fitting model 1\n"
     ]
    },
    {
     "name": "stderr",
     "output_type": "stream",
     "text": [
      "[2022-02-23 17:13:56,814] INFO | darts.models.forecasting.torch_forecasting_model | Train dataset contains 210566 samples.\n",
      "[2022-02-23 17:13:56,814] INFO | darts.models.forecasting.torch_forecasting_model | Train dataset contains 210566 samples.\n"
     ]
    },
    {
     "data": {
      "application/vnd.jupyter.widget-view+json": {
       "model_id": "b5320458c9e648b8a68a0e2014762929",
       "version_major": 2,
       "version_minor": 0
      },
      "text/plain": [
       "  0%|          | 0/19 [00:00<?, ?it/s]"
      ]
     },
     "metadata": {},
     "output_type": "display_data"
    },
    {
     "name": "stdout",
     "output_type": "stream",
     "text": [
      "2022-02-23 17:35:26,788 - INFO - c:\\Users\\orion\\Documents\\GitHub\\river-level-forecasting\\forecasting\\forecaster.py - Fitting model 2\n"
     ]
    },
    {
     "name": "stderr",
     "output_type": "stream",
     "text": [
      "[2022-02-23 17:35:26,789] INFO | darts.models.forecasting.torch_forecasting_model | Train dataset contains 210566 samples.\n",
      "[2022-02-23 17:35:26,789] INFO | darts.models.forecasting.torch_forecasting_model | Train dataset contains 210566 samples.\n"
     ]
    },
    {
     "data": {
      "application/vnd.jupyter.widget-view+json": {
       "model_id": "4086bde7df7c44b996e1ddfb43796dab",
       "version_major": 2,
       "version_minor": 0
      },
      "text/plain": [
       "  0%|          | 0/19 [00:00<?, ?it/s]"
      ]
     },
     "metadata": {},
     "output_type": "display_data"
    },
    {
     "name": "stdout",
     "output_type": "stream",
     "text": [
      "2022-02-23 17:57:06,984 - INFO - c:\\Users\\orion\\Documents\\GitHub\\river-level-forecasting\\forecasting\\forecaster.py - Fitting model 3\n"
     ]
    },
    {
     "name": "stderr",
     "output_type": "stream",
     "text": [
      "[2022-02-23 17:57:06,985] INFO | darts.models.forecasting.torch_forecasting_model | Train dataset contains 210566 samples.\n",
      "[2022-02-23 17:57:06,985] INFO | darts.models.forecasting.torch_forecasting_model | Train dataset contains 210566 samples.\n"
     ]
    },
    {
     "data": {
      "application/vnd.jupyter.widget-view+json": {
       "model_id": "2cfe4932ecec43ffa5702996b44f07c1",
       "version_major": 2,
       "version_minor": 0
      },
      "text/plain": [
       "  0%|          | 0/19 [00:00<?, ?it/s]"
      ]
     },
     "metadata": {},
     "output_type": "display_data"
    },
    {
     "name": "stdout",
     "output_type": "stream",
     "text": [
      "2022-02-23 18:19:08,440 - INFO - c:\\Users\\orion\\Documents\\GitHub\\river-level-forecasting\\forecasting\\forecaster.py - Fitting model 4\n"
     ]
    },
    {
     "name": "stderr",
     "output_type": "stream",
     "text": [
      "[2022-02-23 18:19:08,440] INFO | darts.models.forecasting.torch_forecasting_model | Train dataset contains 210566 samples.\n",
      "[2022-02-23 18:19:08,440] INFO | darts.models.forecasting.torch_forecasting_model | Train dataset contains 210566 samples.\n"
     ]
    },
    {
     "data": {
      "application/vnd.jupyter.widget-view+json": {
       "model_id": "5f02f3e09e8644f7815c7bda635827fc",
       "version_major": 2,
       "version_minor": 0
      },
      "text/plain": [
       "  0%|          | 0/19 [00:00<?, ?it/s]"
      ]
     },
     "metadata": {},
     "output_type": "display_data"
    },
    {
     "name": "stdout",
     "output_type": "stream",
     "text": [
      "2022-02-23 18:41:13,937 - INFO - c:\\Users\\orion\\Documents\\GitHub\\river-level-forecasting\\forecasting\\forecaster.py - Fitting model 5\n"
     ]
    },
    {
     "name": "stderr",
     "output_type": "stream",
     "text": [
      "[2022-02-23 18:41:13,937] INFO | darts.models.forecasting.torch_forecasting_model | Train dataset contains 210566 samples.\n",
      "[2022-02-23 18:41:13,937] INFO | darts.models.forecasting.torch_forecasting_model | Train dataset contains 210566 samples.\n"
     ]
    },
    {
     "data": {
      "application/vnd.jupyter.widget-view+json": {
       "model_id": "82401e9e07a94f8fbe6a670d5593264b",
       "version_major": 2,
       "version_minor": 0
      },
      "text/plain": [
       "  0%|          | 0/19 [00:00<?, ?it/s]"
      ]
     },
     "metadata": {},
     "output_type": "display_data"
    },
    {
     "name": "stdout",
     "output_type": "stream",
     "text": [
      "2022-02-23 19:02:33,947 - INFO - c:\\Users\\orion\\Documents\\GitHub\\river-level-forecasting\\forecasting\\forecaster.py - Fitting model 6\n"
     ]
    },
    {
     "name": "stderr",
     "output_type": "stream",
     "text": [
      "[2022-02-23 19:02:33,949] INFO | darts.models.forecasting.torch_forecasting_model | Train dataset contains 210566 samples.\n",
      "[2022-02-23 19:02:33,949] INFO | darts.models.forecasting.torch_forecasting_model | Train dataset contains 210566 samples.\n"
     ]
    },
    {
     "data": {
      "application/vnd.jupyter.widget-view+json": {
       "model_id": "6e416077810e4de79e77e699365ec935",
       "version_major": 2,
       "version_minor": 0
      },
      "text/plain": [
       "  0%|          | 0/19 [00:00<?, ?it/s]"
      ]
     },
     "metadata": {},
     "output_type": "display_data"
    },
    {
     "name": "stdout",
     "output_type": "stream",
     "text": [
      "2022-02-23 19:24:02,862 - INFO - c:\\Users\\orion\\Documents\\GitHub\\river-level-forecasting\\forecasting\\forecaster.py - Fitting model 7\n"
     ]
    },
    {
     "name": "stderr",
     "output_type": "stream",
     "text": [
      "[2022-02-23 19:24:02,863] INFO | darts.models.forecasting.torch_forecasting_model | Train dataset contains 210566 samples.\n",
      "[2022-02-23 19:24:02,863] INFO | darts.models.forecasting.torch_forecasting_model | Train dataset contains 210566 samples.\n"
     ]
    },
    {
     "data": {
      "application/vnd.jupyter.widget-view+json": {
       "model_id": "e494f04e322b48dca87c90a52fcf1249",
       "version_major": 2,
       "version_minor": 0
      },
      "text/plain": [
       "  0%|          | 0/19 [00:00<?, ?it/s]"
      ]
     },
     "metadata": {},
     "output_type": "display_data"
    },
    {
     "name": "stdout",
     "output_type": "stream",
     "text": [
      "2022-02-23 19:45:52,534 - INFO - c:\\Users\\orion\\Documents\\GitHub\\river-level-forecasting\\forecasting\\forecaster.py - Fitting model 8\n"
     ]
    },
    {
     "name": "stderr",
     "output_type": "stream",
     "text": [
      "[2022-02-23 19:45:52,535] INFO | darts.models.forecasting.torch_forecasting_model | Train dataset contains 210566 samples.\n",
      "[2022-02-23 19:45:52,535] INFO | darts.models.forecasting.torch_forecasting_model | Train dataset contains 210566 samples.\n"
     ]
    },
    {
     "data": {
      "application/vnd.jupyter.widget-view+json": {
       "model_id": "99b244687e1d4a818b6912b4a4ef2302",
       "version_major": 2,
       "version_minor": 0
      },
      "text/plain": [
       "  0%|          | 0/19 [00:00<?, ?it/s]"
      ]
     },
     "metadata": {},
     "output_type": "display_data"
    },
    {
     "name": "stdout",
     "output_type": "stream",
     "text": [
      "2022-02-23 20:07:02,183 - INFO - c:\\Users\\orion\\Documents\\GitHub\\river-level-forecasting\\forecasting\\forecaster.py - Fitting model 9\n"
     ]
    },
    {
     "name": "stderr",
     "output_type": "stream",
     "text": [
      "[2022-02-23 20:07:02,183] INFO | darts.models.forecasting.torch_forecasting_model | Train dataset contains 210566 samples.\n",
      "[2022-02-23 20:07:02,183] INFO | darts.models.forecasting.torch_forecasting_model | Train dataset contains 210566 samples.\n"
     ]
    },
    {
     "data": {
      "application/vnd.jupyter.widget-view+json": {
       "model_id": "30734507aa984774b6f68a14273862bf",
       "version_major": 2,
       "version_minor": 0
      },
      "text/plain": [
       "  0%|          | 0/19 [00:00<?, ?it/s]"
      ]
     },
     "metadata": {},
     "output_type": "display_data"
    },
    {
     "name": "stdout",
     "output_type": "stream",
     "text": [
      "2022-02-23 20:28:10,192 - INFO - c:\\Users\\orion\\Documents\\GitHub\\river-level-forecasting\\forecasting\\forecaster.py - Fitting model 10\n"
     ]
    },
    {
     "name": "stderr",
     "output_type": "stream",
     "text": [
      "[2022-02-23 20:28:10,193] INFO | darts.models.forecasting.torch_forecasting_model | Train dataset contains 210566 samples.\n",
      "[2022-02-23 20:28:10,193] INFO | darts.models.forecasting.torch_forecasting_model | Train dataset contains 210566 samples.\n"
     ]
    },
    {
     "data": {
      "application/vnd.jupyter.widget-view+json": {
       "model_id": "ced442b4739646b1979e087050814b88",
       "version_major": 2,
       "version_minor": 0
      },
      "text/plain": [
       "  0%|          | 0/19 [00:00<?, ?it/s]"
      ]
     },
     "metadata": {},
     "output_type": "display_data"
    },
    {
     "name": "stdout",
     "output_type": "stream",
     "text": [
      "2022-02-23 20:50:03,266 - INFO - c:\\Users\\orion\\Documents\\GitHub\\river-level-forecasting\\forecasting\\forecaster.py - Fitting model 11\n"
     ]
    },
    {
     "name": "stderr",
     "output_type": "stream",
     "text": [
      "[2022-02-23 20:50:03,266] INFO | darts.models.forecasting.torch_forecasting_model | Train dataset contains 210566 samples.\n",
      "[2022-02-23 20:50:03,266] INFO | darts.models.forecasting.torch_forecasting_model | Train dataset contains 210566 samples.\n"
     ]
    },
    {
     "data": {
      "application/vnd.jupyter.widget-view+json": {
       "model_id": "98394edab7f54c2c94135c8f4ca0c535",
       "version_major": 2,
       "version_minor": 0
      },
      "text/plain": [
       "  0%|          | 0/19 [00:00<?, ?it/s]"
      ]
     },
     "metadata": {},
     "output_type": "display_data"
    },
    {
     "name": "stdout",
     "output_type": "stream",
     "text": [
      "Training loss: 0.0011, validation loss: 0.0014, best val loss: 0.0014\r"
     ]
    }
   ],
   "source": [
    "block_rnn_forecaster.fit(epochs=19)"
   ]
  },
  {
   "cell_type": "code",
   "execution_count": 8,
   "metadata": {},
   "outputs": [
    {
     "name": "stdout",
     "output_type": "stream",
     "text": [
      "2022-02-23 21:11:18,044 - INFO - c:\\Users\\orion\\Documents\\GitHub\\river-level-forecasting\\forecasting\\forecaster.py - Building new models. Overwritting any existing models.\n",
      "2022-02-23 21:11:18,044 - INFO - c:\\Users\\orion\\Documents\\GitHub\\river-level-forecasting\\forecasting\\forecaster.py - Building new models. Overwritting any existing models.\n",
      "2022-02-23 21:11:18,045 - INFO - c:\\Users\\orion\\Documents\\GitHub\\river-level-forecasting\\forecasting\\forecaster.py - Building model for dataset 0\n",
      "2022-02-23 21:11:18,045 - INFO - c:\\Users\\orion\\Documents\\GitHub\\river-level-forecasting\\forecasting\\forecaster.py - Building model for dataset 0\n",
      "2022-02-23 21:11:18,046 - INFO - c:\\Users\\orion\\Documents\\GitHub\\river-level-forecasting\\forecasting\\forecaster.py - Building model for dataset 1\n",
      "2022-02-23 21:11:18,046 - INFO - c:\\Users\\orion\\Documents\\GitHub\\river-level-forecasting\\forecasting\\forecaster.py - Building model for dataset 1\n",
      "2022-02-23 21:11:18,047 - INFO - c:\\Users\\orion\\Documents\\GitHub\\river-level-forecasting\\forecasting\\forecaster.py - Building model for dataset 2\n",
      "2022-02-23 21:11:18,047 - INFO - c:\\Users\\orion\\Documents\\GitHub\\river-level-forecasting\\forecasting\\forecaster.py - Building model for dataset 2\n",
      "2022-02-23 21:11:18,048 - INFO - c:\\Users\\orion\\Documents\\GitHub\\river-level-forecasting\\forecasting\\forecaster.py - Building model for dataset 3\n",
      "2022-02-23 21:11:18,048 - INFO - c:\\Users\\orion\\Documents\\GitHub\\river-level-forecasting\\forecasting\\forecaster.py - Building model for dataset 3\n",
      "2022-02-23 21:11:18,049 - INFO - c:\\Users\\orion\\Documents\\GitHub\\river-level-forecasting\\forecasting\\forecaster.py - Building model for dataset 4\n",
      "2022-02-23 21:11:18,049 - INFO - c:\\Users\\orion\\Documents\\GitHub\\river-level-forecasting\\forecasting\\forecaster.py - Building model for dataset 4\n",
      "2022-02-23 21:11:18,051 - INFO - c:\\Users\\orion\\Documents\\GitHub\\river-level-forecasting\\forecasting\\forecaster.py - Building model for dataset 5\n",
      "2022-02-23 21:11:18,051 - INFO - c:\\Users\\orion\\Documents\\GitHub\\river-level-forecasting\\forecasting\\forecaster.py - Building model for dataset 5\n",
      "2022-02-23 21:11:18,052 - INFO - c:\\Users\\orion\\Documents\\GitHub\\river-level-forecasting\\forecasting\\forecaster.py - Building model for dataset 6\n",
      "2022-02-23 21:11:18,052 - INFO - c:\\Users\\orion\\Documents\\GitHub\\river-level-forecasting\\forecasting\\forecaster.py - Building model for dataset 6\n",
      "2022-02-23 21:11:18,053 - INFO - c:\\Users\\orion\\Documents\\GitHub\\river-level-forecasting\\forecasting\\forecaster.py - Building model for dataset 7\n",
      "2022-02-23 21:11:18,053 - INFO - c:\\Users\\orion\\Documents\\GitHub\\river-level-forecasting\\forecasting\\forecaster.py - Building model for dataset 7\n",
      "2022-02-23 21:11:18,055 - INFO - c:\\Users\\orion\\Documents\\GitHub\\river-level-forecasting\\forecasting\\forecaster.py - Building model for dataset 8\n",
      "2022-02-23 21:11:18,055 - INFO - c:\\Users\\orion\\Documents\\GitHub\\river-level-forecasting\\forecasting\\forecaster.py - Building model for dataset 8\n",
      "2022-02-23 21:11:18,055 - INFO - c:\\Users\\orion\\Documents\\GitHub\\river-level-forecasting\\forecasting\\forecaster.py - Building model for dataset 9\n",
      "2022-02-23 21:11:18,055 - INFO - c:\\Users\\orion\\Documents\\GitHub\\river-level-forecasting\\forecasting\\forecaster.py - Building model for dataset 9\n",
      "2022-02-23 21:11:18,056 - INFO - c:\\Users\\orion\\Documents\\GitHub\\river-level-forecasting\\forecasting\\forecaster.py - Building model for dataset 10\n",
      "2022-02-23 21:11:18,056 - INFO - c:\\Users\\orion\\Documents\\GitHub\\river-level-forecasting\\forecasting\\forecaster.py - Building model for dataset 10\n",
      "2022-02-23 21:11:18,057 - INFO - c:\\Users\\orion\\Documents\\GitHub\\river-level-forecasting\\forecasting\\forecaster.py - Building model for dataset 11\n",
      "2022-02-23 21:11:18,057 - INFO - c:\\Users\\orion\\Documents\\GitHub\\river-level-forecasting\\forecasting\\forecaster.py - Building model for dataset 11\n",
      "2022-02-23 21:11:18,058 - INFO - c:\\Users\\orion\\Documents\\GitHub\\river-level-forecasting\\forecasting\\forecaster.py - All models built!\n",
      "2022-02-23 21:11:18,058 - INFO - c:\\Users\\orion\\Documents\\GitHub\\river-level-forecasting\\forecasting\\forecaster.py - All models built!\n",
      "2022-02-23 21:11:18,058 - INFO - c:\\Users\\orion\\Documents\\GitHub\\river-level-forecasting\\forecasting\\forecaster.py - Fitting all models\n",
      "2022-02-23 21:11:18,058 - INFO - c:\\Users\\orion\\Documents\\GitHub\\river-level-forecasting\\forecasting\\forecaster.py - Fitting all models\n",
      "2022-02-23 21:11:18,059 - INFO - c:\\Users\\orion\\Documents\\GitHub\\river-level-forecasting\\forecasting\\forecaster.py - Fitting model 0\n",
      "2022-02-23 21:11:18,059 - INFO - c:\\Users\\orion\\Documents\\GitHub\\river-level-forecasting\\forecasting\\forecaster.py - Fitting model 0\n"
     ]
    },
    {
     "name": "stderr",
     "output_type": "stream",
     "text": [
      "[2022-02-23 21:11:18,060] INFO | darts.models.forecasting.torch_forecasting_model | Train dataset contains 210566 samples.\n",
      "[2022-02-23 21:11:18,060] INFO | darts.models.forecasting.torch_forecasting_model | Train dataset contains 210566 samples.\n",
      "[2022-02-23 21:11:18,134] INFO | darts.models.forecasting.torch_forecasting_model | Time series values are 64-bits; casting model to float64.\n",
      "[2022-02-23 21:11:18,134] INFO | darts.models.forecasting.torch_forecasting_model | Time series values are 64-bits; casting model to float64.\n"
     ]
    },
    {
     "data": {
      "application/vnd.jupyter.widget-view+json": {
       "model_id": "c1177858265447d78a680890049ab4d4",
       "version_major": 2,
       "version_minor": 0
      },
      "text/plain": [
       "  0%|          | 0/20 [00:00<?, ?it/s]"
      ]
     },
     "metadata": {},
     "output_type": "display_data"
    },
    {
     "name": "stdout",
     "output_type": "stream",
     "text": [
      "2022-02-24 00:49:43,152 - INFO - c:\\Users\\orion\\Documents\\GitHub\\river-level-forecasting\\forecasting\\forecaster.py - Fitting model 1\n",
      "2022-02-24 00:49:43,152 - INFO - c:\\Users\\orion\\Documents\\GitHub\\river-level-forecasting\\forecasting\\forecaster.py - Fitting model 1\n"
     ]
    },
    {
     "name": "stderr",
     "output_type": "stream",
     "text": [
      "[2022-02-24 00:49:43,153] INFO | darts.models.forecasting.torch_forecasting_model | Train dataset contains 210566 samples.\n",
      "[2022-02-24 00:49:43,153] INFO | darts.models.forecasting.torch_forecasting_model | Train dataset contains 210566 samples.\n",
      "[2022-02-24 00:49:43,210] INFO | darts.models.forecasting.torch_forecasting_model | Time series values are 64-bits; casting model to float64.\n",
      "[2022-02-24 00:49:43,210] INFO | darts.models.forecasting.torch_forecasting_model | Time series values are 64-bits; casting model to float64.\n"
     ]
    },
    {
     "data": {
      "application/vnd.jupyter.widget-view+json": {
       "model_id": "283c9d00a5304219b8d60ab8c2076741",
       "version_major": 2,
       "version_minor": 0
      },
      "text/plain": [
       "  0%|          | 0/20 [00:00<?, ?it/s]"
      ]
     },
     "metadata": {},
     "output_type": "display_data"
    },
    {
     "name": "stdout",
     "output_type": "stream",
     "text": [
      "2022-02-24 04:27:35,793 - INFO - c:\\Users\\orion\\Documents\\GitHub\\river-level-forecasting\\forecasting\\forecaster.py - Fitting model 2\n",
      "2022-02-24 04:27:35,793 - INFO - c:\\Users\\orion\\Documents\\GitHub\\river-level-forecasting\\forecasting\\forecaster.py - Fitting model 2\n"
     ]
    },
    {
     "name": "stderr",
     "output_type": "stream",
     "text": [
      "[2022-02-24 04:27:35,794] INFO | darts.models.forecasting.torch_forecasting_model | Train dataset contains 210566 samples.\n",
      "[2022-02-24 04:27:35,794] INFO | darts.models.forecasting.torch_forecasting_model | Train dataset contains 210566 samples.\n",
      "[2022-02-24 04:27:35,851] INFO | darts.models.forecasting.torch_forecasting_model | Time series values are 64-bits; casting model to float64.\n",
      "[2022-02-24 04:27:35,851] INFO | darts.models.forecasting.torch_forecasting_model | Time series values are 64-bits; casting model to float64.\n"
     ]
    },
    {
     "data": {
      "application/vnd.jupyter.widget-view+json": {
       "model_id": "843f61ea6d4e439bb02e5a6574ca393b",
       "version_major": 2,
       "version_minor": 0
      },
      "text/plain": [
       "  0%|          | 0/20 [00:00<?, ?it/s]"
      ]
     },
     "metadata": {},
     "output_type": "display_data"
    },
    {
     "name": "stdout",
     "output_type": "stream",
     "text": [
      "2022-02-24 08:05:58,286 - INFO - c:\\Users\\orion\\Documents\\GitHub\\river-level-forecasting\\forecasting\\forecaster.py - Fitting model 3\n",
      "2022-02-24 08:05:58,286 - INFO - c:\\Users\\orion\\Documents\\GitHub\\river-level-forecasting\\forecasting\\forecaster.py - Fitting model 3\n"
     ]
    },
    {
     "name": "stderr",
     "output_type": "stream",
     "text": [
      "[2022-02-24 08:05:58,287] INFO | darts.models.forecasting.torch_forecasting_model | Train dataset contains 210566 samples.\n",
      "[2022-02-24 08:05:58,287] INFO | darts.models.forecasting.torch_forecasting_model | Train dataset contains 210566 samples.\n",
      "[2022-02-24 08:05:58,395] INFO | darts.models.forecasting.torch_forecasting_model | Time series values are 64-bits; casting model to float64.\n",
      "[2022-02-24 08:05:58,395] INFO | darts.models.forecasting.torch_forecasting_model | Time series values are 64-bits; casting model to float64.\n"
     ]
    },
    {
     "data": {
      "application/vnd.jupyter.widget-view+json": {
       "model_id": "7cb5c0ab200744deb7fbbbea71ab521e",
       "version_major": 2,
       "version_minor": 0
      },
      "text/plain": [
       "  0%|          | 0/20 [00:00<?, ?it/s]"
      ]
     },
     "metadata": {},
     "output_type": "display_data"
    },
    {
     "name": "stdout",
     "output_type": "stream",
     "text": [
      "2022-02-24 11:43:54,382 - INFO - c:\\Users\\orion\\Documents\\GitHub\\river-level-forecasting\\forecasting\\forecaster.py - Fitting model 4\n",
      "2022-02-24 11:43:54,382 - INFO - c:\\Users\\orion\\Documents\\GitHub\\river-level-forecasting\\forecasting\\forecaster.py - Fitting model 4\n"
     ]
    },
    {
     "name": "stderr",
     "output_type": "stream",
     "text": [
      "[2022-02-24 11:43:54,383] INFO | darts.models.forecasting.torch_forecasting_model | Train dataset contains 210566 samples.\n",
      "[2022-02-24 11:43:54,383] INFO | darts.models.forecasting.torch_forecasting_model | Train dataset contains 210566 samples.\n",
      "[2022-02-24 11:43:54,440] INFO | darts.models.forecasting.torch_forecasting_model | Time series values are 64-bits; casting model to float64.\n",
      "[2022-02-24 11:43:54,440] INFO | darts.models.forecasting.torch_forecasting_model | Time series values are 64-bits; casting model to float64.\n"
     ]
    },
    {
     "data": {
      "application/vnd.jupyter.widget-view+json": {
       "model_id": "105f3b325ae34d04a4b91dac99f6bef1",
       "version_major": 2,
       "version_minor": 0
      },
      "text/plain": [
       "  0%|          | 0/20 [00:00<?, ?it/s]"
      ]
     },
     "metadata": {},
     "output_type": "display_data"
    },
    {
     "name": "stdout",
     "output_type": "stream",
     "text": [
      "2022-02-24 15:18:51,041 - INFO - c:\\Users\\orion\\Documents\\GitHub\\river-level-forecasting\\forecasting\\forecaster.py - Fitting model 5\n",
      "2022-02-24 15:18:51,041 - INFO - c:\\Users\\orion\\Documents\\GitHub\\river-level-forecasting\\forecasting\\forecaster.py - Fitting model 5\n"
     ]
    },
    {
     "name": "stderr",
     "output_type": "stream",
     "text": [
      "[2022-02-24 15:18:51,042] INFO | darts.models.forecasting.torch_forecasting_model | Train dataset contains 210566 samples.\n",
      "[2022-02-24 15:18:51,042] INFO | darts.models.forecasting.torch_forecasting_model | Train dataset contains 210566 samples.\n",
      "[2022-02-24 15:18:51,099] INFO | darts.models.forecasting.torch_forecasting_model | Time series values are 64-bits; casting model to float64.\n",
      "[2022-02-24 15:18:51,099] INFO | darts.models.forecasting.torch_forecasting_model | Time series values are 64-bits; casting model to float64.\n"
     ]
    },
    {
     "data": {
      "application/vnd.jupyter.widget-view+json": {
       "model_id": "70155371beba4d3ca79a381aa5d7c3e5",
       "version_major": 2,
       "version_minor": 0
      },
      "text/plain": [
       "  0%|          | 0/20 [00:00<?, ?it/s]"
      ]
     },
     "metadata": {},
     "output_type": "display_data"
    },
    {
     "name": "stdout",
     "output_type": "stream",
     "text": [
      "2022-02-24 18:51:25,595 - INFO - c:\\Users\\orion\\Documents\\GitHub\\river-level-forecasting\\forecasting\\forecaster.py - Fitting model 6\n",
      "2022-02-24 18:51:25,595 - INFO - c:\\Users\\orion\\Documents\\GitHub\\river-level-forecasting\\forecasting\\forecaster.py - Fitting model 6\n"
     ]
    },
    {
     "name": "stderr",
     "output_type": "stream",
     "text": [
      "[2022-02-24 18:51:25,596] INFO | darts.models.forecasting.torch_forecasting_model | Train dataset contains 210566 samples.\n",
      "[2022-02-24 18:51:25,596] INFO | darts.models.forecasting.torch_forecasting_model | Train dataset contains 210566 samples.\n",
      "[2022-02-24 18:51:25,653] INFO | darts.models.forecasting.torch_forecasting_model | Time series values are 64-bits; casting model to float64.\n",
      "[2022-02-24 18:51:25,653] INFO | darts.models.forecasting.torch_forecasting_model | Time series values are 64-bits; casting model to float64.\n"
     ]
    },
    {
     "data": {
      "application/vnd.jupyter.widget-view+json": {
       "model_id": "2abf639153384ae49929351aea741059",
       "version_major": 2,
       "version_minor": 0
      },
      "text/plain": [
       "  0%|          | 0/20 [00:00<?, ?it/s]"
      ]
     },
     "metadata": {},
     "output_type": "display_data"
    },
    {
     "name": "stdout",
     "output_type": "stream",
     "text": [
      "2022-02-24 22:24:09,511 - INFO - c:\\Users\\orion\\Documents\\GitHub\\river-level-forecasting\\forecasting\\forecaster.py - Fitting model 7\n",
      "2022-02-24 22:24:09,511 - INFO - c:\\Users\\orion\\Documents\\GitHub\\river-level-forecasting\\forecasting\\forecaster.py - Fitting model 7\n"
     ]
    },
    {
     "name": "stderr",
     "output_type": "stream",
     "text": [
      "[2022-02-24 22:24:09,512] INFO | darts.models.forecasting.torch_forecasting_model | Train dataset contains 210566 samples.\n",
      "[2022-02-24 22:24:09,512] INFO | darts.models.forecasting.torch_forecasting_model | Train dataset contains 210566 samples.\n",
      "[2022-02-24 22:24:09,570] INFO | darts.models.forecasting.torch_forecasting_model | Time series values are 64-bits; casting model to float64.\n",
      "[2022-02-24 22:24:09,570] INFO | darts.models.forecasting.torch_forecasting_model | Time series values are 64-bits; casting model to float64.\n"
     ]
    },
    {
     "data": {
      "application/vnd.jupyter.widget-view+json": {
       "model_id": "2644c163a690421cbf3ce37ffda3b840",
       "version_major": 2,
       "version_minor": 0
      },
      "text/plain": [
       "  0%|          | 0/20 [00:00<?, ?it/s]"
      ]
     },
     "metadata": {},
     "output_type": "display_data"
    },
    {
     "name": "stdout",
     "output_type": "stream",
     "text": [
      "2022-02-25 01:57:05,662 - INFO - c:\\Users\\orion\\Documents\\GitHub\\river-level-forecasting\\forecasting\\forecaster.py - Fitting model 8\n",
      "2022-02-25 01:57:05,662 - INFO - c:\\Users\\orion\\Documents\\GitHub\\river-level-forecasting\\forecasting\\forecaster.py - Fitting model 8\n"
     ]
    },
    {
     "name": "stderr",
     "output_type": "stream",
     "text": [
      "[2022-02-25 01:57:05,663] INFO | darts.models.forecasting.torch_forecasting_model | Train dataset contains 210566 samples.\n",
      "[2022-02-25 01:57:05,663] INFO | darts.models.forecasting.torch_forecasting_model | Train dataset contains 210566 samples.\n",
      "[2022-02-25 01:57:05,721] INFO | darts.models.forecasting.torch_forecasting_model | Time series values are 64-bits; casting model to float64.\n",
      "[2022-02-25 01:57:05,721] INFO | darts.models.forecasting.torch_forecasting_model | Time series values are 64-bits; casting model to float64.\n"
     ]
    },
    {
     "data": {
      "application/vnd.jupyter.widget-view+json": {
       "model_id": "ad0d88e86cb84eb182ec0455c85d4ac7",
       "version_major": 2,
       "version_minor": 0
      },
      "text/plain": [
       "  0%|          | 0/20 [00:00<?, ?it/s]"
      ]
     },
     "metadata": {},
     "output_type": "display_data"
    },
    {
     "name": "stdout",
     "output_type": "stream",
     "text": [
      "2022-02-25 05:29:29,826 - INFO - c:\\Users\\orion\\Documents\\GitHub\\river-level-forecasting\\forecasting\\forecaster.py - Fitting model 9\n",
      "2022-02-25 05:29:29,826 - INFO - c:\\Users\\orion\\Documents\\GitHub\\river-level-forecasting\\forecasting\\forecaster.py - Fitting model 9\n"
     ]
    },
    {
     "name": "stderr",
     "output_type": "stream",
     "text": [
      "[2022-02-25 05:29:29,827] INFO | darts.models.forecasting.torch_forecasting_model | Train dataset contains 210566 samples.\n",
      "[2022-02-25 05:29:29,827] INFO | darts.models.forecasting.torch_forecasting_model | Train dataset contains 210566 samples.\n",
      "[2022-02-25 05:29:29,886] INFO | darts.models.forecasting.torch_forecasting_model | Time series values are 64-bits; casting model to float64.\n",
      "[2022-02-25 05:29:29,886] INFO | darts.models.forecasting.torch_forecasting_model | Time series values are 64-bits; casting model to float64.\n"
     ]
    },
    {
     "data": {
      "application/vnd.jupyter.widget-view+json": {
       "model_id": "ae0d88142b5c4292b55a6ca183cc16fe",
       "version_major": 2,
       "version_minor": 0
      },
      "text/plain": [
       "  0%|          | 0/20 [00:00<?, ?it/s]"
      ]
     },
     "metadata": {},
     "output_type": "display_data"
    },
    {
     "name": "stdout",
     "output_type": "stream",
     "text": [
      "Training loss: 0.0020, validation loss: 0.0016, best val loss: 0.0016\r"
     ]
    }
   ],
   "source": [
    "# Using a Block RNN\n",
    "from darts.models import NBEATSModel\n",
    "n_beats_forecaster = Forecaster(catchment, model_type=NBEATSModel, model_save_dir=\"NBEATSModel\", likelihood=None)\n",
    "n_beats_forecaster.fit(epochs=20)"
   ]
  },
  {
   "cell_type": "code",
   "execution_count": 15,
   "metadata": {},
   "outputs": [
    {
     "name": "stdout",
     "output_type": "stream",
     "text": [
      "2022-02-22 12:41:31,375 - INFO - c:\\Users\\orion\\Documents\\GitHub\\river-level-forecasting\\forecasting\\forecaster.py - Generating historical forecasts\n",
      "2022-02-22 12:41:31,375 - INFO - c:\\Users\\orion\\Documents\\GitHub\\river-level-forecasting\\forecasting\\forecaster.py - Generating historical forecasts\n",
      "2022-02-22 12:41:31,375 - INFO - c:\\Users\\orion\\Documents\\GitHub\\river-level-forecasting\\forecasting\\forecaster.py - Generating historical forecasts\n",
      "2022-02-22 12:41:31,376 - INFO - c:\\Users\\orion\\Documents\\GitHub\\river-level-forecasting\\forecasting\\forecaster.py - Generating historical forecast for model 0\n",
      "2022-02-22 12:41:31,376 - INFO - c:\\Users\\orion\\Documents\\GitHub\\river-level-forecasting\\forecasting\\forecaster.py - Generating historical forecast for model 0\n",
      "2022-02-22 12:41:31,376 - INFO - c:\\Users\\orion\\Documents\\GitHub\\river-level-forecasting\\forecasting\\forecaster.py - Generating historical forecast for model 0\n"
     ]
    },
    {
     "data": {
      "application/vnd.jupyter.widget-view+json": {
       "model_id": "f638274bc73e46d5a75b76d02e4e29e9",
       "version_major": 2,
       "version_minor": 0
      },
      "text/plain": [
       "  0%|          | 0/364 [00:00<?, ?it/s]"
      ]
     },
     "metadata": {},
     "output_type": "display_data"
    },
    {
     "name": "stdout",
     "output_type": "stream",
     "text": [
      "2022-02-22 12:41:34,752 - INFO - c:\\Users\\orion\\Documents\\GitHub\\river-level-forecasting\\forecasting\\forecaster.py - Generating historical forecast for model 1\n",
      "2022-02-22 12:41:34,752 - INFO - c:\\Users\\orion\\Documents\\GitHub\\river-level-forecasting\\forecasting\\forecaster.py - Generating historical forecast for model 1\n",
      "2022-02-22 12:41:34,752 - INFO - c:\\Users\\orion\\Documents\\GitHub\\river-level-forecasting\\forecasting\\forecaster.py - Generating historical forecast for model 1\n"
     ]
    },
    {
     "data": {
      "application/vnd.jupyter.widget-view+json": {
       "model_id": "5ee3084bb9744bee9c34a8f2ce6da6f0",
       "version_major": 2,
       "version_minor": 0
      },
      "text/plain": [
       "  0%|          | 0/364 [00:00<?, ?it/s]"
      ]
     },
     "metadata": {},
     "output_type": "display_data"
    }
   ],
   "source": [
    "hst_fcasts2 = block_rnn_forecaster.historical_forecasts(forecast_horizon=72, stride=72)"
   ]
  },
  {
   "cell_type": "code",
   "execution_count": 16,
   "metadata": {},
   "outputs": [],
   "source": [
    "(y_preds_min, y_preds_mid, y_preds_max) = hst_fcasts2"
   ]
  },
  {
   "cell_type": "code",
   "execution_count": 18,
   "metadata": {},
   "outputs": [
    {
     "data": {
      "image/png": "[encoded data removed]",
      "text/plain": [
       "<Figure size 432x288 with 1 Axes>"
      ]
     },
     "metadata": {
      "needs_background": "light"
     },
     "output_type": "display_data"
    }
   ],
   "source": [
    "\n",
    "y_preds_mid[0].plot()\n"
   ]
  },
  {
   "cell_type": "code",
   "execution_count": null,
   "metadata": {},
   "outputs": [],
   "source": [
    "import pandas as pd\n",
    "start = pd.to_datetime(\"2015-10-22T21:00:00.000000000\")\n",
    "end = pd.to_datetime(\"2015-11-02T21:00:00.000000000\")\n",
    "slice = hst_fcasts2[0].slice(start,end)\n",
    "slice.plot()"
   ]
  },
  {
   "cell_type": "code",
   "execution_count": null,
   "metadata": {},
   "outputs": [],
   "source": [
    "slice"
   ]
  },
  {
   "cell_type": "code",
   "execution_count": null,
   "metadata": {},
   "outputs": [],
   "source": [
    "hst_fcasts = block_rnn_forecaster.historical_forecasts(num_samples=100, forecast_horizon=24, stride=12)"
   ]
  },
  {
   "cell_type": "code",
   "execution_count": null,
   "metadata": {},
   "outputs": [],
   "source": [
    "import pandas as pd\n",
    "start = pd.to_datetime(\"2015-09-22T21:00:00.000000000\")\n",
    "end = pd.to_datetime(\"2015-11-28T21:00:00.000000000\")\n",
    "slice = hst_fcasts[0].slice(start,end)\n",
    "slice.plot()"
   ]
  },
  {
   "cell_type": "code",
   "execution_count": null,
   "metadata": {},
   "outputs": [],
   "source": [
    "df = block_rnn_forecaster.dataset.y_validation.pd_dataframe()\n",
    "target_scaler = block_rnn_forecaster.dataset.target_scaler\n",
    "y_val = target_scaler.inverse_transform(block_rnn_forecaster.dataset.y_validation)\n",
    "y_val = y_val.pd_dataframe()"
   ]
  },
  {
   "cell_type": "code",
   "execution_count": null,
   "metadata": {},
   "outputs": [],
   "source": [
    "y_pred =  hst_fcasts[0].quantile_df()"
   ]
  },
  {
   "cell_type": "code",
   "execution_count": null,
   "metadata": {},
   "outputs": [],
   "source": [
    "y_pred"
   ]
  },
  {
   "cell_type": "code",
   "execution_count": null,
   "metadata": {},
   "outputs": [],
   "source": [
    "frames= [hst_fcasts[0], y_val]\n",
    "import pandas as pd\n",
    "df_joined = pd.concat(frames, axis=1, join=\"inner\")"
   ]
  },
  {
   "cell_type": "code",
   "execution_count": null,
   "metadata": {},
   "outputs": [],
   "source": [
    "df_joined[-550:-500].plot()"
   ]
  },
  {
   "cell_type": "code",
   "execution_count": null,
   "metadata": {},
   "outputs": [],
   "source": []
  },
  {
   "cell_type": "code",
   "execution_count": null,
   "metadata": {},
   "outputs": [],
   "source": []
  }
 ],
 "metadata": {
  "interpreter": {
   "hash": "815148e3768c1e208d177ea4f59544b3b2e4bd0509ac51753b9e2d2ac3e6c685"
  },
  "kernelspec": {
   "display_name": "Python 3.9.9 64-bit ('tf': venv)",
   "language": "python",
   "name": "python3"
  },
  "language_info": {
   "codemirror_mode": {
    "name": "ipython",
    "version": 3
   },
   "file_extension": ".py",
   "mimetype": "text/x-python",
   "name": "python",
   "nbconvert_exporter": "python",
   "pygments_lexer": "ipython3",
   "version": "3.7.11"
  },
  "orig_nbformat": 4
 },
 "nbformat": 4,
 "nbformat_minor": 2
}
