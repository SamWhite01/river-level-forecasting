{
 "cells": [
  {
   "cell_type": "markdown",
   "metadata": {},
   "source": [
    "Build or load a 'CatchmentData' instance to allow access to all needed data"
   ]
  },
  {
   "cell_type": "code",
   "execution_count": 1,
   "metadata": {},
   "outputs": [],
   "source": [
    "rebuild_catchment = False"
   ]
  },
  {
   "cell_type": "code",
   "execution_count": 2,
   "metadata": {},
   "outputs": [],
   "source": [
    "from forecasting.catchment_data import CatchmentData\n",
    "import pickle\n",
    "\n",
    "if rebuild_catchment:\n",
    "    catchment = CatchmentData(\"illinois-kerby\", \"14377100\")\n",
    "\n",
    "    pickle_out = open(\"temp_storage/catchment.pickle\", \"wb\")\n",
    "    pickle.dump(catchment, pickle_out)\n",
    "    pickle_out.close()\n",
    "else:\n",
    "    pickle_in = open(\"temp_storage/catchment.pickle\", \"rb\")\n",
    "    catchment = pickle.load(pickle_in)"
   ]
  },
  {
   "cell_type": "markdown",
   "metadata": {},
   "source": [
    "Perform a gridsearch to identify the best parameters"
   ]
  },
  {
   "cell_type": "code",
   "execution_count": 3,
   "metadata": {},
   "outputs": [],
   "source": [
    "perform_gridsearch = False"
   ]
  },
  {
   "cell_type": "code",
   "execution_count": 4,
   "metadata": {},
   "outputs": [],
   "source": [
    "if perform_gridsearch:\n",
    "    from forecasting.dataset import Dataset\n",
    "    ds = Dataset(catchment)\n",
    "\n",
    "    from darts.models import BlockRNNModel\n",
    "    from forecasting.dataset import Dataset\n",
    "    dataset = Dataset(catchment)\n",
    "\n",
    "    block_rnn_gridsearch_params = {\n",
    "        \"input_chunk_length\" : [120],\n",
    "        \"output_chunk_length\" : [96],\n",
    "        \"hidden_size\" : [25, 50],\n",
    "        \"n_rnn_layers\" : [3, 5, 7],\n",
    "        \"dropout\" : [0.0],\n",
    "        \"model\" : [\"LSTM\"]\n",
    "    }\n",
    "\n",
    "    X_train = dataset.X_validations[0]\n",
    "    y_train = dataset.y_validation\n",
    "\n",
    "    y_train, y_val = y_train.split_before(0.7)\n",
    "\n",
    "    model, block_rnn_best_params = BlockRNNModel.gridsearch(block_rnn_gridsearch_params, verbose=True, series=y_train, past_covariates=X_train, val_series=y_val)\n",
    "else:\n",
    "    # Manually entered best parameters from prior gridsearch\n",
    "    block_rnn_best_params = {'input_chunk_length': 120, \n",
    "    'output_chunk_length': 96, \n",
    "    'hidden_size': 25, \n",
    "    'n_rnn_layers': 3, \n",
    "    'dropout': 0.0, \n",
    "    'model': 'LSTM'}\n",
    "\n"
   ]
  },
  {
   "cell_type": "code",
   "execution_count": 5,
   "metadata": {},
   "outputs": [],
   "source": [
    "overwrite_existing_models = True"
   ]
  },
  {
   "cell_type": "code",
   "execution_count": 6,
   "metadata": {},
   "outputs": [
    {
     "name": "stderr",
     "output_type": "stream",
     "text": [
      "Importing plotly failed. Interactive plots will not work.\n"
     ]
    },
    {
     "name": "stdout",
     "output_type": "stream",
     "text": [
      "2022-02-28 11:40:33,611 - INFO - c:\\Users\\orion\\Documents\\GitHub\\river-level-forecasting\\forecasting\\forecaster.py - Building new models. Overwritting any existing models.\n",
      "2022-02-28 11:40:33,611 - INFO - c:\\Users\\orion\\Documents\\GitHub\\river-level-forecasting\\forecasting\\forecaster.py - Building model for dataset 0\n",
      "2022-02-28 11:40:33,628 - INFO - c:\\Users\\orion\\Documents\\GitHub\\river-level-forecasting\\forecasting\\forecaster.py - Building model for dataset 1\n",
      "2022-02-28 11:40:33,634 - INFO - c:\\Users\\orion\\Documents\\GitHub\\river-level-forecasting\\forecasting\\forecaster.py - Building model for dataset 2\n",
      "2022-02-28 11:40:33,639 - INFO - c:\\Users\\orion\\Documents\\GitHub\\river-level-forecasting\\forecasting\\forecaster.py - Building model for dataset 3\n",
      "2022-02-28 11:40:33,643 - INFO - c:\\Users\\orion\\Documents\\GitHub\\river-level-forecasting\\forecasting\\forecaster.py - Building model for dataset 4\n",
      "2022-02-28 11:40:33,646 - INFO - c:\\Users\\orion\\Documents\\GitHub\\river-level-forecasting\\forecasting\\forecaster.py - Building model for dataset 5\n",
      "2022-02-28 11:40:33,650 - INFO - c:\\Users\\orion\\Documents\\GitHub\\river-level-forecasting\\forecasting\\forecaster.py - Building model for dataset 6\n",
      "2022-02-28 11:40:33,654 - INFO - c:\\Users\\orion\\Documents\\GitHub\\river-level-forecasting\\forecasting\\forecaster.py - Building model for dataset 7\n",
      "2022-02-28 11:40:33,658 - INFO - c:\\Users\\orion\\Documents\\GitHub\\river-level-forecasting\\forecasting\\forecaster.py - Building model for dataset 8\n",
      "2022-02-28 11:40:33,662 - INFO - c:\\Users\\orion\\Documents\\GitHub\\river-level-forecasting\\forecasting\\forecaster.py - Building model for dataset 9\n",
      "2022-02-28 11:40:33,667 - INFO - c:\\Users\\orion\\Documents\\GitHub\\river-level-forecasting\\forecasting\\forecaster.py - Building model for dataset 10\n",
      "2022-02-28 11:40:33,672 - INFO - c:\\Users\\orion\\Documents\\GitHub\\river-level-forecasting\\forecasting\\forecaster.py - Building model for dataset 11\n",
      "2022-02-28 11:40:33,677 - INFO - c:\\Users\\orion\\Documents\\GitHub\\river-level-forecasting\\forecasting\\forecaster.py - All models built!\n"
     ]
    }
   ],
   "source": [
    "from forecasting.forecaster import Forecaster\n",
    "\n",
    "# Using a Block RNN\n",
    "from darts.models import BlockRNNModel\n",
    "block_rnn_forecaster = Forecaster(catchment, \n",
    "                                model_type=BlockRNNModel, \n",
    "                                model_params=block_rnn_best_params, \n",
    "                                model_save_dir=\"BlockRNN\",\n",
    "                                overwrite_existing_models=overwrite_existing_models)"
   ]
  },
  {
   "cell_type": "markdown",
   "metadata": {},
   "source": [
    "Fit models for all data in catchment"
   ]
  },
  {
   "cell_type": "code",
   "execution_count": 7,
   "metadata": {},
   "outputs": [
    {
     "name": "stdout",
     "output_type": "stream",
     "text": [
      "2022-02-28 11:40:39,478 - INFO - c:\\Users\\orion\\Documents\\GitHub\\river-level-forecasting\\forecasting\\forecaster.py - Fitting all models\n",
      "2022-02-28 11:40:39,479 - INFO - c:\\Users\\orion\\Documents\\GitHub\\river-level-forecasting\\forecasting\\forecaster.py - Fitting model 0\n"
     ]
    },
    {
     "name": "stderr",
     "output_type": "stream",
     "text": [
      "[2022-02-28 11:40:39,480] INFO | darts.models.forecasting.torch_forecasting_model | Train dataset contains 186664 samples.\n",
      "[2022-02-28 11:40:39,480] INFO | darts.models.forecasting.torch_forecasting_model | Train dataset contains 186664 samples.\n",
      "[2022-02-28 11:40:39,484] INFO | darts.models.forecasting.torch_forecasting_model | Time series values are 64-bits; casting model to float64.\n",
      "[2022-02-28 11:40:39,484] INFO | darts.models.forecasting.torch_forecasting_model | Time series values are 64-bits; casting model to float64.\n"
     ]
    },
    {
     "data": {
      "application/vnd.jupyter.widget-view+json": {
       "model_id": "37d7726521ce483c87e218b0336f7671",
       "version_major": 2,
       "version_minor": 0
      },
      "text/plain": [
       "  0%|          | 0/1 [00:00<?, ?it/s]"
      ]
     },
     "metadata": {},
     "output_type": "display_data"
    },
    {
     "name": "stdout",
     "output_type": "stream",
     "text": [
      "2022-02-28 11:43:19,279 - INFO - c:\\Users\\orion\\Documents\\GitHub\\river-level-forecasting\\forecasting\\forecaster.py - Fitting model 1\n"
     ]
    },
    {
     "name": "stderr",
     "output_type": "stream",
     "text": [
      "[2022-02-28 11:43:19,279] INFO | darts.models.forecasting.torch_forecasting_model | Train dataset contains 186664 samples.\n",
      "[2022-02-28 11:43:19,279] INFO | darts.models.forecasting.torch_forecasting_model | Train dataset contains 186664 samples.\n",
      "[2022-02-28 11:43:19,283] INFO | darts.models.forecasting.torch_forecasting_model | Time series values are 64-bits; casting model to float64.\n",
      "[2022-02-28 11:43:19,283] INFO | darts.models.forecasting.torch_forecasting_model | Time series values are 64-bits; casting model to float64.\n"
     ]
    },
    {
     "data": {
      "application/vnd.jupyter.widget-view+json": {
       "model_id": "fb535dce82ac4d219acda3991ea97914",
       "version_major": 2,
       "version_minor": 0
      },
      "text/plain": [
       "  0%|          | 0/1 [00:00<?, ?it/s]"
      ]
     },
     "metadata": {},
     "output_type": "display_data"
    },
    {
     "name": "stdout",
     "output_type": "stream",
     "text": [
      "2022-02-28 11:45:54,170 - INFO - c:\\Users\\orion\\Documents\\GitHub\\river-level-forecasting\\forecasting\\forecaster.py - Fitting model 2\n"
     ]
    },
    {
     "name": "stderr",
     "output_type": "stream",
     "text": [
      "[2022-02-28 11:45:54,171] INFO | darts.models.forecasting.torch_forecasting_model | Train dataset contains 186664 samples.\n",
      "[2022-02-28 11:45:54,171] INFO | darts.models.forecasting.torch_forecasting_model | Train dataset contains 186664 samples.\n",
      "[2022-02-28 11:45:54,175] INFO | darts.models.forecasting.torch_forecasting_model | Time series values are 64-bits; casting model to float64.\n",
      "[2022-02-28 11:45:54,175] INFO | darts.models.forecasting.torch_forecasting_model | Time series values are 64-bits; casting model to float64.\n"
     ]
    },
    {
     "data": {
      "application/vnd.jupyter.widget-view+json": {
       "model_id": "be058da5d0da4caab26f0f04f112ffba",
       "version_major": 2,
       "version_minor": 0
      },
      "text/plain": [
       "  0%|          | 0/1 [00:00<?, ?it/s]"
      ]
     },
     "metadata": {},
     "output_type": "display_data"
    },
    {
     "name": "stdout",
     "output_type": "stream",
     "text": [
      "2022-02-28 11:48:28,896 - INFO - c:\\Users\\orion\\Documents\\GitHub\\river-level-forecasting\\forecasting\\forecaster.py - Fitting model 3\n"
     ]
    },
    {
     "name": "stderr",
     "output_type": "stream",
     "text": [
      "[2022-02-28 11:48:28,896] INFO | darts.models.forecasting.torch_forecasting_model | Train dataset contains 186664 samples.\n",
      "[2022-02-28 11:48:28,896] INFO | darts.models.forecasting.torch_forecasting_model | Train dataset contains 186664 samples.\n",
      "[2022-02-28 11:48:28,900] INFO | darts.models.forecasting.torch_forecasting_model | Time series values are 64-bits; casting model to float64.\n",
      "[2022-02-28 11:48:28,900] INFO | darts.models.forecasting.torch_forecasting_model | Time series values are 64-bits; casting model to float64.\n"
     ]
    },
    {
     "data": {
      "application/vnd.jupyter.widget-view+json": {
       "model_id": "2f17f32e23c943beb8161872c618b115",
       "version_major": 2,
       "version_minor": 0
      },
      "text/plain": [
       "  0%|          | 0/1 [00:00<?, ?it/s]"
      ]
     },
     "metadata": {},
     "output_type": "display_data"
    },
    {
     "name": "stdout",
     "output_type": "stream",
     "text": [
      "2022-02-28 11:51:05,451 - INFO - c:\\Users\\orion\\Documents\\GitHub\\river-level-forecasting\\forecasting\\forecaster.py - Fitting model 4\n"
     ]
    },
    {
     "name": "stderr",
     "output_type": "stream",
     "text": [
      "[2022-02-28 11:51:05,452] INFO | darts.models.forecasting.torch_forecasting_model | Train dataset contains 186664 samples.\n",
      "[2022-02-28 11:51:05,452] INFO | darts.models.forecasting.torch_forecasting_model | Train dataset contains 186664 samples.\n",
      "[2022-02-28 11:51:05,455] INFO | darts.models.forecasting.torch_forecasting_model | Time series values are 64-bits; casting model to float64.\n",
      "[2022-02-28 11:51:05,455] INFO | darts.models.forecasting.torch_forecasting_model | Time series values are 64-bits; casting model to float64.\n"
     ]
    },
    {
     "data": {
      "application/vnd.jupyter.widget-view+json": {
       "model_id": "7a55e0b99331486ba162b694dbcad447",
       "version_major": 2,
       "version_minor": 0
      },
      "text/plain": [
       "  0%|          | 0/1 [00:00<?, ?it/s]"
      ]
     },
     "metadata": {},
     "output_type": "display_data"
    },
    {
     "name": "stdout",
     "output_type": "stream",
     "text": [
      "2022-02-28 11:53:43,166 - INFO - c:\\Users\\orion\\Documents\\GitHub\\river-level-forecasting\\forecasting\\forecaster.py - Fitting model 5\n"
     ]
    },
    {
     "name": "stderr",
     "output_type": "stream",
     "text": [
      "[2022-02-28 11:53:43,166] INFO | darts.models.forecasting.torch_forecasting_model | Train dataset contains 186664 samples.\n",
      "[2022-02-28 11:53:43,166] INFO | darts.models.forecasting.torch_forecasting_model | Train dataset contains 186664 samples.\n",
      "[2022-02-28 11:53:43,170] INFO | darts.models.forecasting.torch_forecasting_model | Time series values are 64-bits; casting model to float64.\n",
      "[2022-02-28 11:53:43,170] INFO | darts.models.forecasting.torch_forecasting_model | Time series values are 64-bits; casting model to float64.\n"
     ]
    },
    {
     "data": {
      "application/vnd.jupyter.widget-view+json": {
       "model_id": "4769ebe8b5be4fbdb3ec48b3abcfb2a7",
       "version_major": 2,
       "version_minor": 0
      },
      "text/plain": [
       "  0%|          | 0/1 [00:00<?, ?it/s]"
      ]
     },
     "metadata": {},
     "output_type": "display_data"
    },
    {
     "name": "stdout",
     "output_type": "stream",
     "text": [
      "2022-02-28 11:56:19,163 - INFO - c:\\Users\\orion\\Documents\\GitHub\\river-level-forecasting\\forecasting\\forecaster.py - Fitting model 6\n"
     ]
    },
    {
     "name": "stderr",
     "output_type": "stream",
     "text": [
      "[2022-02-28 11:56:19,164] INFO | darts.models.forecasting.torch_forecasting_model | Train dataset contains 186664 samples.\n",
      "[2022-02-28 11:56:19,164] INFO | darts.models.forecasting.torch_forecasting_model | Train dataset contains 186664 samples.\n",
      "[2022-02-28 11:56:19,167] INFO | darts.models.forecasting.torch_forecasting_model | Time series values are 64-bits; casting model to float64.\n",
      "[2022-02-28 11:56:19,167] INFO | darts.models.forecasting.torch_forecasting_model | Time series values are 64-bits; casting model to float64.\n"
     ]
    },
    {
     "data": {
      "application/vnd.jupyter.widget-view+json": {
       "model_id": "ebaf021d62164e9391fe4e4e9b0596bc",
       "version_major": 2,
       "version_minor": 0
      },
      "text/plain": [
       "  0%|          | 0/1 [00:00<?, ?it/s]"
      ]
     },
     "metadata": {},
     "output_type": "display_data"
    },
    {
     "name": "stdout",
     "output_type": "stream",
     "text": [
      "2022-02-28 11:58:58,535 - INFO - c:\\Users\\orion\\Documents\\GitHub\\river-level-forecasting\\forecasting\\forecaster.py - Fitting model 7\n"
     ]
    },
    {
     "name": "stderr",
     "output_type": "stream",
     "text": [
      "[2022-02-28 11:58:58,536] INFO | darts.models.forecasting.torch_forecasting_model | Train dataset contains 186664 samples.\n",
      "[2022-02-28 11:58:58,536] INFO | darts.models.forecasting.torch_forecasting_model | Train dataset contains 186664 samples.\n",
      "[2022-02-28 11:58:58,540] INFO | darts.models.forecasting.torch_forecasting_model | Time series values are 64-bits; casting model to float64.\n",
      "[2022-02-28 11:58:58,540] INFO | darts.models.forecasting.torch_forecasting_model | Time series values are 64-bits; casting model to float64.\n"
     ]
    },
    {
     "data": {
      "application/vnd.jupyter.widget-view+json": {
       "model_id": "8710e887870b42158a36d931a7d1866b",
       "version_major": 2,
       "version_minor": 0
      },
      "text/plain": [
       "  0%|          | 0/1 [00:00<?, ?it/s]"
      ]
     },
     "metadata": {},
     "output_type": "display_data"
    },
    {
     "name": "stdout",
     "output_type": "stream",
     "text": [
      "2022-02-28 12:01:37,771 - INFO - c:\\Users\\orion\\Documents\\GitHub\\river-level-forecasting\\forecasting\\forecaster.py - Fitting model 8\n"
     ]
    },
    {
     "name": "stderr",
     "output_type": "stream",
     "text": [
      "[2022-02-28 12:01:37,772] INFO | darts.models.forecasting.torch_forecasting_model | Train dataset contains 186664 samples.\n",
      "[2022-02-28 12:01:37,772] INFO | darts.models.forecasting.torch_forecasting_model | Train dataset contains 186664 samples.\n",
      "[2022-02-28 12:01:37,776] INFO | darts.models.forecasting.torch_forecasting_model | Time series values are 64-bits; casting model to float64.\n",
      "[2022-02-28 12:01:37,776] INFO | darts.models.forecasting.torch_forecasting_model | Time series values are 64-bits; casting model to float64.\n"
     ]
    },
    {
     "data": {
      "application/vnd.jupyter.widget-view+json": {
       "model_id": "d394eda8a5844b76a2af26fa64d8e93f",
       "version_major": 2,
       "version_minor": 0
      },
      "text/plain": [
       "  0%|          | 0/1 [00:00<?, ?it/s]"
      ]
     },
     "metadata": {},
     "output_type": "display_data"
    },
    {
     "name": "stdout",
     "output_type": "stream",
     "text": [
      "2022-02-28 12:04:13,575 - INFO - c:\\Users\\orion\\Documents\\GitHub\\river-level-forecasting\\forecasting\\forecaster.py - Fitting model 9\n"
     ]
    },
    {
     "name": "stderr",
     "output_type": "stream",
     "text": [
      "[2022-02-28 12:04:13,576] INFO | darts.models.forecasting.torch_forecasting_model | Train dataset contains 186664 samples.\n",
      "[2022-02-28 12:04:13,576] INFO | darts.models.forecasting.torch_forecasting_model | Train dataset contains 186664 samples.\n",
      "[2022-02-28 12:04:13,580] INFO | darts.models.forecasting.torch_forecasting_model | Time series values are 64-bits; casting model to float64.\n",
      "[2022-02-28 12:04:13,580] INFO | darts.models.forecasting.torch_forecasting_model | Time series values are 64-bits; casting model to float64.\n"
     ]
    },
    {
     "data": {
      "application/vnd.jupyter.widget-view+json": {
       "model_id": "6f24529766124c1180ddc0abbab8d38f",
       "version_major": 2,
       "version_minor": 0
      },
      "text/plain": [
       "  0%|          | 0/1 [00:00<?, ?it/s]"
      ]
     },
     "metadata": {},
     "output_type": "display_data"
    },
    {
     "name": "stdout",
     "output_type": "stream",
     "text": [
      "2022-02-28 12:06:50,289 - INFO - c:\\Users\\orion\\Documents\\GitHub\\river-level-forecasting\\forecasting\\forecaster.py - Fitting model 10\n"
     ]
    },
    {
     "name": "stderr",
     "output_type": "stream",
     "text": [
      "[2022-02-28 12:06:50,289] INFO | darts.models.forecasting.torch_forecasting_model | Train dataset contains 186664 samples.\n",
      "[2022-02-28 12:06:50,289] INFO | darts.models.forecasting.torch_forecasting_model | Train dataset contains 186664 samples.\n",
      "[2022-02-28 12:06:50,293] INFO | darts.models.forecasting.torch_forecasting_model | Time series values are 64-bits; casting model to float64.\n",
      "[2022-02-28 12:06:50,293] INFO | darts.models.forecasting.torch_forecasting_model | Time series values are 64-bits; casting model to float64.\n"
     ]
    },
    {
     "data": {
      "application/vnd.jupyter.widget-view+json": {
       "model_id": "60b556b2e0fa40ed87e3e083f225f1f1",
       "version_major": 2,
       "version_minor": 0
      },
      "text/plain": [
       "  0%|          | 0/1 [00:00<?, ?it/s]"
      ]
     },
     "metadata": {},
     "output_type": "display_data"
    },
    {
     "name": "stdout",
     "output_type": "stream",
     "text": [
      "2022-02-28 12:09:33,626 - INFO - c:\\Users\\orion\\Documents\\GitHub\\river-level-forecasting\\forecasting\\forecaster.py - Fitting model 11\n"
     ]
    },
    {
     "name": "stderr",
     "output_type": "stream",
     "text": [
      "[2022-02-28 12:09:33,626] INFO | darts.models.forecasting.torch_forecasting_model | Train dataset contains 186664 samples.\n",
      "[2022-02-28 12:09:33,626] INFO | darts.models.forecasting.torch_forecasting_model | Train dataset contains 186664 samples.\n",
      "[2022-02-28 12:09:33,629] INFO | darts.models.forecasting.torch_forecasting_model | Time series values are 64-bits; casting model to float64.\n",
      "[2022-02-28 12:09:33,629] INFO | darts.models.forecasting.torch_forecasting_model | Time series values are 64-bits; casting model to float64.\n"
     ]
    },
    {
     "data": {
      "application/vnd.jupyter.widget-view+json": {
       "model_id": "185e82bcd90244549934a2a9d65825d7",
       "version_major": 2,
       "version_minor": 0
      },
      "text/plain": [
       "  0%|          | 0/1 [00:00<?, ?it/s]"
      ]
     },
     "metadata": {},
     "output_type": "display_data"
    },
    {
     "name": "stdout",
     "output_type": "stream",
     "text": [
      "Training loss: -2.4064, validation loss: -2.3430, best val loss: -2.3430\r"
     ]
    }
   ],
   "source": [
    "block_rnn_forecaster.fit(epochs=1)"
   ]
  },
  {
   "cell_type": "markdown",
   "metadata": {},
   "source": [
    "Fetch historical forecasts using the trained model. This will generate a forecast for 48 hours into the future every 6 hours for the entire validation set."
   ]
  },
  {
   "cell_type": "code",
   "execution_count": null,
   "metadata": {},
   "outputs": [],
   "source": [
    "hst_fcasts = block_rnn_forecaster.historical_forecasts(forecast_horizon=48, stride=6)"
   ]
  },
  {
   "cell_type": "code",
   "execution_count": null,
   "metadata": {},
   "outputs": [],
   "source": [
    "(y_preds_min, y_preds_mid, y_preds_max) = hst_fcasts"
   ]
  },
  {
   "cell_type": "code",
   "execution_count": null,
   "metadata": {},
   "outputs": [],
   "source": [
    "y_true = block_rnn_forecaster.dataset.y_validation\n",
    "target_scaler = block_rnn_forecaster.dataset.target_scaler\n",
    "y_true = target_scaler.inverse_transform(y_true)\n",
    "y_true = y_true.pd_dataframe()"
   ]
  },
  {
   "cell_type": "code",
   "execution_count": null,
   "metadata": {},
   "outputs": [],
   "source": [
    "import matplotlib.pyplot as plt\n",
    "import pandas as pd\n",
    "start = pd.to_datetime(\"2016-02-02T21:00:00.000000000\")\n",
    "end = pd.to_datetime(\"2016-04-01T21:00:00.000000000\")\n",
    "\n",
    "fig = plt.figure()\n",
    "frames = []\n",
    "for ts in y_preds_mid:\n",
    "    frame = ts.pd_dataframe()\n",
    "    frames.append(frame)\n",
    "    plt.plot(frame.index, frame['0'], color='red')\n",
    "\n",
    "plt.plot(y_true.index, y_true['level'],  color='blue')\n",
    "\n",
    "\n",
    "plt.autoscale(enable=True, tight=None)\n",
    "plt.xlim(start,end)\n",
    "plt.show()"
   ]
  },
  {
   "cell_type": "code",
   "execution_count": null,
   "metadata": {},
   "outputs": [],
   "source": [
    "frames[0]"
   ]
  },
  {
   "cell_type": "code",
   "execution_count": null,
   "metadata": {},
   "outputs": [],
   "source": [
    "min = pd.concat(frames).groupby(level=0).min()\n",
    "\n",
    "mean = pd.concat(frames).groupby(level=0).mean()\n",
    "\n",
    "max = pd.concat(frames).groupby(level=0).min()\n",
    "\n",
    "fig = plt.figure()\n",
    "plt.plot(min.index, min['0'],  color='red')\n",
    "plt.plot(mean.index, mean['0'],  color='red')\n",
    "plt.plot(max.index, max['0'],  color='red')\n",
    "plt.plot(y_true.index, y_true['level'],  color='blue')\n",
    "\n",
    "plt.autoscale(enable=True, tight=None)\n",
    "plt.xlim(start,end)\n",
    "plt.show()"
   ]
  },
  {
   "cell_type": "code",
   "execution_count": null,
   "metadata": {},
   "outputs": [],
   "source": [
    "hst_fcasts = block_rnn_forecaster.historical_forecasts(num_samples=100, forecast_horizon=24, stride=12)"
   ]
  },
  {
   "cell_type": "code",
   "execution_count": null,
   "metadata": {},
   "outputs": [],
   "source": [
    "import pandas as pd\n",
    "start = pd.to_datetime(\"2015-09-22T21:00:00.000000000\")\n",
    "end = pd.to_datetime(\"2015-11-28T21:00:00.000000000\")\n",
    "slice = hst_fcasts[0].slice(start,end)\n",
    "slice.plot()"
   ]
  },
  {
   "cell_type": "code",
   "execution_count": null,
   "metadata": {},
   "outputs": [],
   "source": [
    "df = block_rnn_forecaster.dataset.y_validation.pd_dataframe()\n",
    "target_scaler = block_rnn_forecaster.dataset.target_scaler\n",
    "y_val = target_scaler.inverse_transform(block_rnn_forecaster.dataset.y_validation)\n",
    "y_val = y_val.pd_dataframe()"
   ]
  },
  {
   "cell_type": "code",
   "execution_count": null,
   "metadata": {},
   "outputs": [],
   "source": [
    "y_pred =  hst_fcasts[0].quantile_df()"
   ]
  },
  {
   "cell_type": "code",
   "execution_count": null,
   "metadata": {},
   "outputs": [],
   "source": [
    "y_pred"
   ]
  },
  {
   "cell_type": "code",
   "execution_count": null,
   "metadata": {},
   "outputs": [],
   "source": [
    "frames= [hst_fcasts[0], y_val]\n",
    "import pandas as pd\n",
    "df_joined = pd.concat(frames, axis=1, join=\"inner\")"
   ]
  },
  {
   "cell_type": "code",
   "execution_count": null,
   "metadata": {},
   "outputs": [],
   "source": [
    "df_joined[-550:-500].plot()"
   ]
  },
  {
   "cell_type": "code",
   "execution_count": null,
   "metadata": {},
   "outputs": [],
   "source": [
    "\n",
    "y_true['day'] = y_true.index.dayofyear"
   ]
  },
  {
   "cell_type": "code",
   "execution_count": null,
   "metadata": {},
   "outputs": [],
   "source": [
    "y_true"
   ]
  },
  {
   "cell_type": "code",
   "execution_count": null,
   "metadata": {},
   "outputs": [],
   "source": [
    "df = block_rnn_forecaster.dataset.X_trains[0].pd_dataframe()"
   ]
  },
  {
   "cell_type": "code",
   "execution_count": null,
   "metadata": {},
   "outputs": [],
   "source": [
    "df.iloc[22000:22020, :]"
   ]
  },
  {
   "cell_type": "code",
   "execution_count": null,
   "metadata": {},
   "outputs": [],
   "source": [
    "df['rain_10dy'] = df['rain_1h'].rolling(window=2).sum()"
   ]
  },
  {
   "cell_type": "code",
   "execution_count": null,
   "metadata": {},
   "outputs": [],
   "source": []
  },
  {
   "cell_type": "code",
   "execution_count": null,
   "metadata": {},
   "outputs": [],
   "source": []
  }
 ],
 "metadata": {
  "interpreter": {
   "hash": "815148e3768c1e208d177ea4f59544b3b2e4bd0509ac51753b9e2d2ac3e6c685"
  },
  "kernelspec": {
   "display_name": "Python 3.9.9 64-bit ('tf': venv)",
   "language": "python",
   "name": "python3"
  },
  "language_info": {
   "codemirror_mode": {
    "name": "ipython",
    "version": 3
   },
   "file_extension": ".py",
   "mimetype": "text/x-python",
   "name": "python",
   "nbconvert_exporter": "python",
   "pygments_lexer": "ipython3",
   "version": "3.7.11"
  },
  "orig_nbformat": 4
 },
 "nbformat": 4,
 "nbformat_minor": 2
}
