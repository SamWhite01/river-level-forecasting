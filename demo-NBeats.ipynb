{
 "cells": [
  {
   "cell_type": "code",
   "execution_count": 1,
   "metadata": {},
   "outputs": [],
   "source": [
    "import pandas as pd"
   ]
  },
  {
   "cell_type": "markdown",
   "metadata": {},
   "source": [
    "Build or load a 'CatchmentData' instance to allow access to all needed data"
   ]
  },
  {
   "cell_type": "code",
   "execution_count": 2,
   "metadata": {},
   "outputs": [],
   "source": [
    "rebuild_catchment = False"
   ]
  },
  {
   "cell_type": "code",
   "execution_count": 3,
   "metadata": {},
   "outputs": [],
   "source": [
    "from forecasting.catchment_data import CatchmentData\n",
    "import pickle\n",
    "\n",
    "if rebuild_catchment:\n",
    "    catchment = CatchmentData(\"illinois-kerby\", \"14377100\")\n",
    "\n",
    "    pickle_out = open(\"data/catchment.pickle\", \"wb\")\n",
    "    pickle.dump(catchment, pickle_out)\n",
    "    pickle_out.close()\n",
    "else:\n",
    "    pickle_in = open(\"data/catchment.pickle\", \"rb\")\n",
    "    catchment = pickle.load(pickle_in)"
   ]
  },
  {
   "cell_type": "markdown",
   "metadata": {},
   "source": [
    "Perform a gridsearch to identify the best parameters"
   ]
  },
  {
   "cell_type": "code",
   "execution_count": 4,
   "metadata": {},
   "outputs": [],
   "source": [
    "perform_gridsearch = False"
   ]
  },
  {
   "cell_type": "code",
   "execution_count": 5,
   "metadata": {},
   "outputs": [],
   "source": [
    "if perform_gridsearch:\n",
    "    from forecasting.dataset import Dataset\n",
    "    ds = Dataset(catchment)\n",
    "\n",
    "    from darts.models import BlockRNNModel\n",
    "    from forecasting.dataset import Dataset\n",
    "    dataset = Dataset(catchment)\n",
    "\n",
    "    block_rnn_gridsearch_params = {\n",
    "        \"input_chunk_length\" : [120],\n",
    "        \"output_chunk_length\" : [96],\n",
    "        \"hidden_size\" : [25, 50],\n",
    "        \"n_rnn_layers\" : [3, 5, 7],\n",
    "        \"dropout\" : [0.0],\n",
    "        \"model\" : [\"LSTM\"]\n",
    "    }\n",
    "\n",
    "    X_train = dataset.X_validations[0]\n",
    "    y_train = dataset.y_validation\n",
    "\n",
    "    y_train, y_val = y_train.split_before(0.7)\n",
    "\n",
    "    model, block_rnn_best_params = BlockRNNModel.gridsearch(block_rnn_gridsearch_params, verbose=True, series=y_train, past_covariates=X_train, val_series=y_val)\n",
    "else:\n",
    "    # Manually entered best parameters from prior gridsearch\n",
    "    best_params = {\n",
    "        \"input_chunk_length\" : 120,\n",
    "        \"output_chunk_length\" : 96\n",
    "    }\n",
    "\n"
   ]
  },
  {
   "cell_type": "code",
   "execution_count": 6,
   "metadata": {},
   "outputs": [],
   "source": [
    "overwrite_existing_models = False"
   ]
  },
  {
   "cell_type": "code",
   "execution_count": 7,
   "metadata": {},
   "outputs": [
    {
     "name": "stderr",
     "output_type": "stream",
     "text": [
      "Importing plotly failed. Interactive plots will not work.\n"
     ]
    },
    {
     "name": "stdout",
     "output_type": "stream",
     "text": [
      "2022-02-28 18:02:21,554 - INFO - c:\\Users\\orion\\Documents\\GitHub\\river-level-forecasting\\forecasting\\forecaster.py - Loading existing models.\n",
      "2022-02-28 18:02:21,555 - INFO - c:\\Users\\orion\\Documents\\GitHub\\river-level-forecasting\\forecasting\\forecaster.py - Loading model for dataset 0\n"
     ]
    },
    {
     "name": "stderr",
     "output_type": "stream",
     "text": [
      "[2022-02-28 18:02:21,555] INFO | darts.models.forecasting.torch_forecasting_model | loading model_best_0.pth.tar\n",
      "[2022-02-28 18:02:21,555] INFO | darts.models.forecasting.torch_forecasting_model | loading model_best_0.pth.tar\n"
     ]
    },
    {
     "name": "stdout",
     "output_type": "stream",
     "text": [
      "2022-02-28 18:02:21,742 - INFO - c:\\Users\\orion\\Documents\\GitHub\\river-level-forecasting\\forecasting\\forecaster.py - Loading model for dataset 1\n"
     ]
    },
    {
     "name": "stderr",
     "output_type": "stream",
     "text": [
      "[2022-02-28 18:02:21,743] INFO | darts.models.forecasting.torch_forecasting_model | loading model_best_0.pth.tar\n",
      "[2022-02-28 18:02:21,743] INFO | darts.models.forecasting.torch_forecasting_model | loading model_best_0.pth.tar\n"
     ]
    },
    {
     "name": "stdout",
     "output_type": "stream",
     "text": [
      "2022-02-28 18:02:21,851 - INFO - c:\\Users\\orion\\Documents\\GitHub\\river-level-forecasting\\forecasting\\forecaster.py - Loading model for dataset 2\n"
     ]
    },
    {
     "name": "stderr",
     "output_type": "stream",
     "text": [
      "[2022-02-28 18:02:21,851] INFO | darts.models.forecasting.torch_forecasting_model | loading model_best_0.pth.tar\n",
      "[2022-02-28 18:02:21,851] INFO | darts.models.forecasting.torch_forecasting_model | loading model_best_0.pth.tar\n"
     ]
    },
    {
     "name": "stdout",
     "output_type": "stream",
     "text": [
      "2022-02-28 18:02:21,958 - INFO - c:\\Users\\orion\\Documents\\GitHub\\river-level-forecasting\\forecasting\\forecaster.py - Loading model for dataset 3\n"
     ]
    },
    {
     "name": "stderr",
     "output_type": "stream",
     "text": [
      "[2022-02-28 18:02:21,959] INFO | darts.models.forecasting.torch_forecasting_model | loading model_best_0.pth.tar\n",
      "[2022-02-28 18:02:21,959] INFO | darts.models.forecasting.torch_forecasting_model | loading model_best_0.pth.tar\n"
     ]
    },
    {
     "name": "stdout",
     "output_type": "stream",
     "text": [
      "2022-02-28 18:02:22,068 - INFO - c:\\Users\\orion\\Documents\\GitHub\\river-level-forecasting\\forecasting\\forecaster.py - Loading model for dataset 4\n"
     ]
    },
    {
     "name": "stderr",
     "output_type": "stream",
     "text": [
      "[2022-02-28 18:02:22,069] INFO | darts.models.forecasting.torch_forecasting_model | loading model_best_0.pth.tar\n",
      "[2022-02-28 18:02:22,069] INFO | darts.models.forecasting.torch_forecasting_model | loading model_best_0.pth.tar\n"
     ]
    },
    {
     "name": "stdout",
     "output_type": "stream",
     "text": [
      "2022-02-28 18:02:22,179 - INFO - c:\\Users\\orion\\Documents\\GitHub\\river-level-forecasting\\forecasting\\forecaster.py - Loading model for dataset 5\n"
     ]
    },
    {
     "name": "stderr",
     "output_type": "stream",
     "text": [
      "[2022-02-28 18:02:22,180] INFO | darts.models.forecasting.torch_forecasting_model | loading model_best_0.pth.tar\n",
      "[2022-02-28 18:02:22,180] INFO | darts.models.forecasting.torch_forecasting_model | loading model_best_0.pth.tar\n"
     ]
    },
    {
     "name": "stdout",
     "output_type": "stream",
     "text": [
      "2022-02-28 18:02:22,285 - INFO - c:\\Users\\orion\\Documents\\GitHub\\river-level-forecasting\\forecasting\\forecaster.py - Loading model for dataset 6\n"
     ]
    },
    {
     "name": "stderr",
     "output_type": "stream",
     "text": [
      "[2022-02-28 18:02:22,286] INFO | darts.models.forecasting.torch_forecasting_model | loading model_best_0.pth.tar\n",
      "[2022-02-28 18:02:22,286] INFO | darts.models.forecasting.torch_forecasting_model | loading model_best_0.pth.tar\n"
     ]
    },
    {
     "name": "stdout",
     "output_type": "stream",
     "text": [
      "2022-02-28 18:02:22,397 - INFO - c:\\Users\\orion\\Documents\\GitHub\\river-level-forecasting\\forecasting\\forecaster.py - Loading model for dataset 7\n"
     ]
    },
    {
     "name": "stderr",
     "output_type": "stream",
     "text": [
      "[2022-02-28 18:02:22,398] INFO | darts.models.forecasting.torch_forecasting_model | loading model_best_0.pth.tar\n",
      "[2022-02-28 18:02:22,398] INFO | darts.models.forecasting.torch_forecasting_model | loading model_best_0.pth.tar\n"
     ]
    },
    {
     "name": "stdout",
     "output_type": "stream",
     "text": [
      "2022-02-28 18:02:22,505 - INFO - c:\\Users\\orion\\Documents\\GitHub\\river-level-forecasting\\forecasting\\forecaster.py - Loading model for dataset 8\n"
     ]
    },
    {
     "name": "stderr",
     "output_type": "stream",
     "text": [
      "[2022-02-28 18:02:22,505] INFO | darts.models.forecasting.torch_forecasting_model | loading model_best_0.pth.tar\n",
      "[2022-02-28 18:02:22,505] INFO | darts.models.forecasting.torch_forecasting_model | loading model_best_0.pth.tar\n"
     ]
    },
    {
     "name": "stdout",
     "output_type": "stream",
     "text": [
      "2022-02-28 18:02:22,613 - INFO - c:\\Users\\orion\\Documents\\GitHub\\river-level-forecasting\\forecasting\\forecaster.py - Loading model for dataset 9\n"
     ]
    },
    {
     "name": "stderr",
     "output_type": "stream",
     "text": [
      "[2022-02-28 18:02:22,614] INFO | darts.models.forecasting.torch_forecasting_model | loading model_best_0.pth.tar\n",
      "[2022-02-28 18:02:22,614] INFO | darts.models.forecasting.torch_forecasting_model | loading model_best_0.pth.tar\n"
     ]
    },
    {
     "name": "stdout",
     "output_type": "stream",
     "text": [
      "2022-02-28 18:02:22,720 - INFO - c:\\Users\\orion\\Documents\\GitHub\\river-level-forecasting\\forecasting\\forecaster.py - Loading model for dataset 10\n"
     ]
    },
    {
     "name": "stderr",
     "output_type": "stream",
     "text": [
      "[2022-02-28 18:02:22,720] INFO | darts.models.forecasting.torch_forecasting_model | loading model_best_0.pth.tar\n",
      "[2022-02-28 18:02:22,720] INFO | darts.models.forecasting.torch_forecasting_model | loading model_best_0.pth.tar\n"
     ]
    },
    {
     "name": "stdout",
     "output_type": "stream",
     "text": [
      "2022-02-28 18:02:22,830 - INFO - c:\\Users\\orion\\Documents\\GitHub\\river-level-forecasting\\forecasting\\forecaster.py - Loading model for dataset 11\n"
     ]
    },
    {
     "name": "stderr",
     "output_type": "stream",
     "text": [
      "[2022-02-28 18:02:22,831] INFO | darts.models.forecasting.torch_forecasting_model | loading model_best_0.pth.tar\n",
      "[2022-02-28 18:02:22,831] INFO | darts.models.forecasting.torch_forecasting_model | loading model_best_0.pth.tar\n"
     ]
    },
    {
     "name": "stdout",
     "output_type": "stream",
     "text": [
      "2022-02-28 18:02:22,942 - INFO - c:\\Users\\orion\\Documents\\GitHub\\river-level-forecasting\\forecasting\\forecaster.py - All models loaded!\n"
     ]
    }
   ],
   "source": [
    "from forecasting.forecaster import Forecaster\n",
    "\n",
    "from darts.models import NBEATSModel\n",
    "block_rnn_forecaster = Forecaster(catchment, \n",
    "                                model_type=NBEATSModel, \n",
    "                                model_params=block_rnn_best_params, \n",
    "                                model_save_dir=\"NBEATS3\",\n",
    "                                overwrite_existing_models=overwrite_existing_models)"
   ]
  },
  {
   "cell_type": "markdown",
   "metadata": {},
   "source": [
    "Fetch historical forecasts using the trained model. This will generate a forecast for 48 hours into the future every 6 hours for the entire validation set."
   ]
  },
  {
   "cell_type": "code",
   "execution_count": 8,
   "metadata": {},
   "outputs": [
    {
     "name": "stdout",
     "output_type": "stream",
     "text": [
      "2022-02-28 18:02:43,341 - INFO - c:\\Users\\orion\\Documents\\GitHub\\river-level-forecasting\\forecasting\\forecaster.py - Generating historical forecasts\n",
      "2022-02-28 18:02:43,342 - INFO - c:\\Users\\orion\\Documents\\GitHub\\river-level-forecasting\\forecasting\\forecaster.py - Generating historical forecast for model 0\n"
     ]
    },
    {
     "data": {
      "application/vnd.jupyter.widget-view+json": {
       "model_id": "2df4c25ef0bd48788146b62b849555e2",
       "version_major": 2,
       "version_minor": 0
      },
      "text/plain": [
       "  0%|          | 0/243 [00:00<?, ?it/s]"
      ]
     },
     "metadata": {},
     "output_type": "display_data"
    },
    {
     "name": "stdout",
     "output_type": "stream",
     "text": [
      "2022-02-28 18:02:55,687 - INFO - c:\\Users\\orion\\Documents\\GitHub\\river-level-forecasting\\forecasting\\forecaster.py - Current forecast identified as stochastic\n",
      "2022-02-28 18:02:55,899 - INFO - c:\\Users\\orion\\Documents\\GitHub\\river-level-forecasting\\forecasting\\forecaster.py - Generating historical forecast for model 1\n"
     ]
    },
    {
     "data": {
      "application/vnd.jupyter.widget-view+json": {
       "model_id": "198dd7c95d824bdd9b1fba497a3c9be5",
       "version_major": 2,
       "version_minor": 0
      },
      "text/plain": [
       "  0%|          | 0/243 [00:00<?, ?it/s]"
      ]
     },
     "metadata": {},
     "output_type": "display_data"
    },
    {
     "name": "stdout",
     "output_type": "stream",
     "text": [
      "2022-02-28 18:03:05,750 - INFO - c:\\Users\\orion\\Documents\\GitHub\\river-level-forecasting\\forecasting\\forecaster.py - Current forecast identified as stochastic\n",
      "2022-02-28 18:03:05,906 - INFO - c:\\Users\\orion\\Documents\\GitHub\\river-level-forecasting\\forecasting\\forecaster.py - Generating historical forecast for model 2\n"
     ]
    },
    {
     "data": {
      "application/vnd.jupyter.widget-view+json": {
       "model_id": "69bd3cc133b4465c8efc644ea1df1516",
       "version_major": 2,
       "version_minor": 0
      },
      "text/plain": [
       "  0%|          | 0/243 [00:00<?, ?it/s]"
      ]
     },
     "metadata": {},
     "output_type": "display_data"
    },
    {
     "name": "stdout",
     "output_type": "stream",
     "text": [
      "2022-02-28 18:03:15,823 - INFO - c:\\Users\\orion\\Documents\\GitHub\\river-level-forecasting\\forecasting\\forecaster.py - Current forecast identified as stochastic\n",
      "2022-02-28 18:03:15,977 - INFO - c:\\Users\\orion\\Documents\\GitHub\\river-level-forecasting\\forecasting\\forecaster.py - Generating historical forecast for model 3\n"
     ]
    },
    {
     "data": {
      "application/vnd.jupyter.widget-view+json": {
       "model_id": "03d31b8c389d4e5cb466306b801bc027",
       "version_major": 2,
       "version_minor": 0
      },
      "text/plain": [
       "  0%|          | 0/243 [00:00<?, ?it/s]"
      ]
     },
     "metadata": {},
     "output_type": "display_data"
    },
    {
     "name": "stdout",
     "output_type": "stream",
     "text": [
      "2022-02-28 18:03:25,888 - INFO - c:\\Users\\orion\\Documents\\GitHub\\river-level-forecasting\\forecasting\\forecaster.py - Current forecast identified as stochastic\n",
      "2022-02-28 18:03:26,043 - INFO - c:\\Users\\orion\\Documents\\GitHub\\river-level-forecasting\\forecasting\\forecaster.py - Generating historical forecast for model 4\n"
     ]
    },
    {
     "data": {
      "application/vnd.jupyter.widget-view+json": {
       "model_id": "18000c77cd234179a08032807712649c",
       "version_major": 2,
       "version_minor": 0
      },
      "text/plain": [
       "  0%|          | 0/243 [00:00<?, ?it/s]"
      ]
     },
     "metadata": {},
     "output_type": "display_data"
    },
    {
     "name": "stdout",
     "output_type": "stream",
     "text": [
      "2022-02-28 18:03:35,636 - INFO - c:\\Users\\orion\\Documents\\GitHub\\river-level-forecasting\\forecasting\\forecaster.py - Current forecast identified as stochastic\n",
      "2022-02-28 18:03:35,789 - INFO - c:\\Users\\orion\\Documents\\GitHub\\river-level-forecasting\\forecasting\\forecaster.py - Generating historical forecast for model 5\n"
     ]
    },
    {
     "data": {
      "application/vnd.jupyter.widget-view+json": {
       "model_id": "d33585dc07e14bf687fd106e1b2a1c85",
       "version_major": 2,
       "version_minor": 0
      },
      "text/plain": [
       "  0%|          | 0/243 [00:00<?, ?it/s]"
      ]
     },
     "metadata": {},
     "output_type": "display_data"
    },
    {
     "name": "stdout",
     "output_type": "stream",
     "text": [
      "2022-02-28 18:03:45,333 - INFO - c:\\Users\\orion\\Documents\\GitHub\\river-level-forecasting\\forecasting\\forecaster.py - Current forecast identified as stochastic\n",
      "2022-02-28 18:03:45,488 - INFO - c:\\Users\\orion\\Documents\\GitHub\\river-level-forecasting\\forecasting\\forecaster.py - Generating historical forecast for model 6\n"
     ]
    },
    {
     "data": {
      "application/vnd.jupyter.widget-view+json": {
       "model_id": "63e3b93761774d54b4379297c98d2cae",
       "version_major": 2,
       "version_minor": 0
      },
      "text/plain": [
       "  0%|          | 0/243 [00:00<?, ?it/s]"
      ]
     },
     "metadata": {},
     "output_type": "display_data"
    },
    {
     "name": "stdout",
     "output_type": "stream",
     "text": [
      "2022-02-28 18:03:55,359 - INFO - c:\\Users\\orion\\Documents\\GitHub\\river-level-forecasting\\forecasting\\forecaster.py - Current forecast identified as stochastic\n",
      "2022-02-28 18:03:55,511 - INFO - c:\\Users\\orion\\Documents\\GitHub\\river-level-forecasting\\forecasting\\forecaster.py - Generating historical forecast for model 7\n"
     ]
    },
    {
     "data": {
      "application/vnd.jupyter.widget-view+json": {
       "model_id": "a89d7800de124f3587ad3b1344eaf45d",
       "version_major": 2,
       "version_minor": 0
      },
      "text/plain": [
       "  0%|          | 0/243 [00:00<?, ?it/s]"
      ]
     },
     "metadata": {},
     "output_type": "display_data"
    },
    {
     "name": "stdout",
     "output_type": "stream",
     "text": [
      "2022-02-28 18:04:05,252 - INFO - c:\\Users\\orion\\Documents\\GitHub\\river-level-forecasting\\forecasting\\forecaster.py - Current forecast identified as stochastic\n",
      "2022-02-28 18:04:05,404 - INFO - c:\\Users\\orion\\Documents\\GitHub\\river-level-forecasting\\forecasting\\forecaster.py - Generating historical forecast for model 8\n"
     ]
    },
    {
     "data": {
      "application/vnd.jupyter.widget-view+json": {
       "model_id": "798f06a0c99c4c4d970390ada77a8679",
       "version_major": 2,
       "version_minor": 0
      },
      "text/plain": [
       "  0%|          | 0/243 [00:00<?, ?it/s]"
      ]
     },
     "metadata": {},
     "output_type": "display_data"
    },
    {
     "name": "stdout",
     "output_type": "stream",
     "text": [
      "2022-02-28 18:04:15,339 - INFO - c:\\Users\\orion\\Documents\\GitHub\\river-level-forecasting\\forecasting\\forecaster.py - Current forecast identified as stochastic\n",
      "2022-02-28 18:04:15,496 - INFO - c:\\Users\\orion\\Documents\\GitHub\\river-level-forecasting\\forecasting\\forecaster.py - Generating historical forecast for model 9\n"
     ]
    },
    {
     "data": {
      "application/vnd.jupyter.widget-view+json": {
       "model_id": "6246aac163e7447b9e84f7bf33285526",
       "version_major": 2,
       "version_minor": 0
      },
      "text/plain": [
       "  0%|          | 0/243 [00:00<?, ?it/s]"
      ]
     },
     "metadata": {},
     "output_type": "display_data"
    },
    {
     "name": "stdout",
     "output_type": "stream",
     "text": [
      "2022-02-28 18:04:25,770 - INFO - c:\\Users\\orion\\Documents\\GitHub\\river-level-forecasting\\forecasting\\forecaster.py - Current forecast identified as stochastic\n",
      "2022-02-28 18:04:25,937 - INFO - c:\\Users\\orion\\Documents\\GitHub\\river-level-forecasting\\forecasting\\forecaster.py - Generating historical forecast for model 10\n"
     ]
    },
    {
     "data": {
      "application/vnd.jupyter.widget-view+json": {
       "model_id": "c56a3444dd984e6aa7f293510fabc8b5",
       "version_major": 2,
       "version_minor": 0
      },
      "text/plain": [
       "  0%|          | 0/243 [00:00<?, ?it/s]"
      ]
     },
     "metadata": {},
     "output_type": "display_data"
    },
    {
     "name": "stdout",
     "output_type": "stream",
     "text": [
      "2022-02-28 18:04:35,769 - INFO - c:\\Users\\orion\\Documents\\GitHub\\river-level-forecasting\\forecasting\\forecaster.py - Current forecast identified as stochastic\n",
      "2022-02-28 18:04:35,924 - INFO - c:\\Users\\orion\\Documents\\GitHub\\river-level-forecasting\\forecasting\\forecaster.py - Generating historical forecast for model 11\n"
     ]
    },
    {
     "data": {
      "application/vnd.jupyter.widget-view+json": {
       "model_id": "c616696a397c43ebabb230661e168fb4",
       "version_major": 2,
       "version_minor": 0
      },
      "text/plain": [
       "  0%|          | 0/243 [00:00<?, ?it/s]"
      ]
     },
     "metadata": {},
     "output_type": "display_data"
    },
    {
     "name": "stdout",
     "output_type": "stream",
     "text": [
      "2022-02-28 18:04:45,390 - INFO - c:\\Users\\orion\\Documents\\GitHub\\river-level-forecasting\\forecasting\\forecaster.py - Current forecast identified as stochastic\n"
     ]
    }
   ],
   "source": [
    "hst_fcasts = block_rnn_forecaster.historical_forecasts(forecast_horizon=48, stride=120, num_samples=100)"
   ]
  },
  {
   "cell_type": "code",
   "execution_count": 9,
   "metadata": {},
   "outputs": [],
   "source": [
    "y_pred = hst_fcasts"
   ]
  },
  {
   "cell_type": "code",
   "execution_count": 10,
   "metadata": {},
   "outputs": [
    {
     "data": {
      "text/html": [
       "<div>\n",
       "<style scoped>\n",
       "    .dataframe tbody tr th:only-of-type {\n",
       "        vertical-align: middle;\n",
       "    }\n",
       "\n",
       "    .dataframe tbody tr th {\n",
       "        vertical-align: top;\n",
       "    }\n",
       "\n",
       "    .dataframe thead th {\n",
       "        text-align: right;\n",
       "    }\n",
       "</style>\n",
       "<table border=\"1\" class=\"dataframe\">\n",
       "  <thead>\n",
       "    <tr style=\"text-align: right;\">\n",
       "      <th></th>\n",
       "      <th>min</th>\n",
       "      <th>mean</th>\n",
       "      <th>max</th>\n",
       "    </tr>\n",
       "    <tr>\n",
       "      <th>time</th>\n",
       "      <th></th>\n",
       "      <th></th>\n",
       "      <th></th>\n",
       "    </tr>\n",
       "  </thead>\n",
       "  <tbody>\n",
       "    <tr>\n",
       "      <th>2018-10-25 22:00:00</th>\n",
       "      <td>-81.519525</td>\n",
       "      <td>53.696144</td>\n",
       "      <td>196.657982</td>\n",
       "    </tr>\n",
       "    <tr>\n",
       "      <th>2018-10-30 22:00:00</th>\n",
       "      <td>-50.019777</td>\n",
       "      <td>187.113746</td>\n",
       "      <td>549.066968</td>\n",
       "    </tr>\n",
       "    <tr>\n",
       "      <th>2018-11-04 22:00:00</th>\n",
       "      <td>-43.541432</td>\n",
       "      <td>106.753799</td>\n",
       "      <td>239.759413</td>\n",
       "    </tr>\n",
       "    <tr>\n",
       "      <th>2018-11-09 22:00:00</th>\n",
       "      <td>-51.707367</td>\n",
       "      <td>62.786554</td>\n",
       "      <td>225.935039</td>\n",
       "    </tr>\n",
       "    <tr>\n",
       "      <th>2018-11-14 22:00:00</th>\n",
       "      <td>-105.578488</td>\n",
       "      <td>42.154553</td>\n",
       "      <td>189.603871</td>\n",
       "    </tr>\n",
       "    <tr>\n",
       "      <th>...</th>\n",
       "      <td>...</td>\n",
       "      <td>...</td>\n",
       "      <td>...</td>\n",
       "    </tr>\n",
       "    <tr>\n",
       "      <th>2022-01-27 22:00:00</th>\n",
       "      <td>695.861318</td>\n",
       "      <td>1020.041233</td>\n",
       "      <td>1343.524109</td>\n",
       "    </tr>\n",
       "    <tr>\n",
       "      <th>2022-02-01 22:00:00</th>\n",
       "      <td>805.552768</td>\n",
       "      <td>986.395998</td>\n",
       "      <td>1423.878570</td>\n",
       "    </tr>\n",
       "    <tr>\n",
       "      <th>2022-02-06 22:00:00</th>\n",
       "      <td>457.476464</td>\n",
       "      <td>629.495295</td>\n",
       "      <td>930.670721</td>\n",
       "    </tr>\n",
       "    <tr>\n",
       "      <th>2022-02-11 22:00:00</th>\n",
       "      <td>371.844659</td>\n",
       "      <td>586.134533</td>\n",
       "      <td>777.776962</td>\n",
       "    </tr>\n",
       "    <tr>\n",
       "      <th>2022-02-16 22:00:00</th>\n",
       "      <td>483.904538</td>\n",
       "      <td>829.770731</td>\n",
       "      <td>1221.177266</td>\n",
       "    </tr>\n",
       "  </tbody>\n",
       "</table>\n",
       "<p>243 rows × 3 columns</p>\n",
       "</div>"
      ],
      "text/plain": [
       "                            min         mean          max\n",
       "time                                                     \n",
       "2018-10-25 22:00:00  -81.519525    53.696144   196.657982\n",
       "2018-10-30 22:00:00  -50.019777   187.113746   549.066968\n",
       "2018-11-04 22:00:00  -43.541432   106.753799   239.759413\n",
       "2018-11-09 22:00:00  -51.707367    62.786554   225.935039\n",
       "2018-11-14 22:00:00 -105.578488    42.154553   189.603871\n",
       "...                         ...          ...          ...\n",
       "2022-01-27 22:00:00  695.861318  1020.041233  1343.524109\n",
       "2022-02-01 22:00:00  805.552768   986.395998  1423.878570\n",
       "2022-02-06 22:00:00  457.476464   629.495295   930.670721\n",
       "2022-02-11 22:00:00  371.844659   586.134533   777.776962\n",
       "2022-02-16 22:00:00  483.904538   829.770731  1221.177266\n",
       "\n",
       "[243 rows x 3 columns]"
      ]
     },
     "execution_count": 10,
     "metadata": {},
     "output_type": "execute_result"
    }
   ],
   "source": [
    "y_pred"
   ]
  },
  {
   "cell_type": "code",
   "execution_count": 10,
   "metadata": {},
   "outputs": [],
   "source": [
    "y_true = block_rnn_forecaster.dataset.y_test\n",
    "target_scaler = block_rnn_forecaster.dataset.target_scaler\n",
    "y_true = target_scaler.inverse_transform(y_true)\n",
    "y_true = y_true.pd_dataframe()"
   ]
  },
  {
   "cell_type": "code",
   "execution_count": 40,
   "metadata": {},
   "outputs": [
    {
     "data": {
      "text/html": [
       "<div>\n",
       "<style scoped>\n",
       "    .dataframe tbody tr th:only-of-type {\n",
       "        vertical-align: middle;\n",
       "    }\n",
       "\n",
       "    .dataframe tbody tr th {\n",
       "        vertical-align: top;\n",
       "    }\n",
       "\n",
       "    .dataframe thead th {\n",
       "        text-align: right;\n",
       "    }\n",
       "</style>\n",
       "<table border=\"1\" class=\"dataframe\">\n",
       "  <thead>\n",
       "    <tr style=\"text-align: right;\">\n",
       "      <th></th>\n",
       "      <th>level</th>\n",
       "      <th>min</th>\n",
       "      <th>mean</th>\n",
       "      <th>max</th>\n",
       "    </tr>\n",
       "  </thead>\n",
       "  <tbody>\n",
       "    <tr>\n",
       "      <th>2012-10-26 22:00:00</th>\n",
       "      <td>344.0</td>\n",
       "      <td>210.356183</td>\n",
       "      <td>823.676243</td>\n",
       "      <td>901.136880</td>\n",
       "    </tr>\n",
       "    <tr>\n",
       "      <th>2012-10-28 22:00:00</th>\n",
       "      <td>435.0</td>\n",
       "      <td>-2.989766</td>\n",
       "      <td>532.808141</td>\n",
       "      <td>563.999813</td>\n",
       "    </tr>\n",
       "    <tr>\n",
       "      <th>2012-10-30 22:00:00</th>\n",
       "      <td>318.0</td>\n",
       "      <td>106.647098</td>\n",
       "      <td>716.367703</td>\n",
       "      <td>776.997337</td>\n",
       "    </tr>\n",
       "    <tr>\n",
       "      <th>2012-11-01 22:00:00</th>\n",
       "      <td>1150.0</td>\n",
       "      <td>150.182512</td>\n",
       "      <td>860.362042</td>\n",
       "      <td>949.543511</td>\n",
       "    </tr>\n",
       "    <tr>\n",
       "      <th>2012-11-03 22:00:00</th>\n",
       "      <td>486.0</td>\n",
       "      <td>515.792781</td>\n",
       "      <td>1077.046724</td>\n",
       "      <td>1155.134890</td>\n",
       "    </tr>\n",
       "    <tr>\n",
       "      <th>...</th>\n",
       "      <td>...</td>\n",
       "      <td>...</td>\n",
       "      <td>...</td>\n",
       "      <td>...</td>\n",
       "    </tr>\n",
       "    <tr>\n",
       "      <th>2015-06-15 22:00:00</th>\n",
       "      <td>84.5</td>\n",
       "      <td>2.786877</td>\n",
       "      <td>138.348034</td>\n",
       "      <td>138.877293</td>\n",
       "    </tr>\n",
       "    <tr>\n",
       "      <th>2015-06-17 22:00:00</th>\n",
       "      <td>73.9</td>\n",
       "      <td>8.475692</td>\n",
       "      <td>130.375416</td>\n",
       "      <td>130.907102</td>\n",
       "    </tr>\n",
       "    <tr>\n",
       "      <th>2015-06-19 22:00:00</th>\n",
       "      <td>68.9</td>\n",
       "      <td>-5.652356</td>\n",
       "      <td>114.205617</td>\n",
       "      <td>114.683729</td>\n",
       "    </tr>\n",
       "    <tr>\n",
       "      <th>2015-06-21 22:00:00</th>\n",
       "      <td>67.0</td>\n",
       "      <td>-9.494799</td>\n",
       "      <td>100.991438</td>\n",
       "      <td>101.482013</td>\n",
       "    </tr>\n",
       "    <tr>\n",
       "      <th>2015-06-23 22:00:00</th>\n",
       "      <td>58.6</td>\n",
       "      <td>-14.130225</td>\n",
       "      <td>96.181094</td>\n",
       "      <td>96.647075</td>\n",
       "    </tr>\n",
       "  </tbody>\n",
       "</table>\n",
       "<p>486 rows × 4 columns</p>\n",
       "</div>"
      ],
      "text/plain": [
       "                      level         min         mean          max\n",
       "2012-10-26 22:00:00   344.0  210.356183   823.676243   901.136880\n",
       "2012-10-28 22:00:00   435.0   -2.989766   532.808141   563.999813\n",
       "2012-10-30 22:00:00   318.0  106.647098   716.367703   776.997337\n",
       "2012-11-01 22:00:00  1150.0  150.182512   860.362042   949.543511\n",
       "2012-11-03 22:00:00   486.0  515.792781  1077.046724  1155.134890\n",
       "...                     ...         ...          ...          ...\n",
       "2015-06-15 22:00:00    84.5    2.786877   138.348034   138.877293\n",
       "2015-06-17 22:00:00    73.9    8.475692   130.375416   130.907102\n",
       "2015-06-19 22:00:00    68.9   -5.652356   114.205617   114.683729\n",
       "2015-06-21 22:00:00    67.0   -9.494799   100.991438   101.482013\n",
       "2015-06-23 22:00:00    58.6  -14.130225    96.181094    96.647075\n",
       "\n",
       "[486 rows x 4 columns]"
      ]
     },
     "execution_count": 40,
     "metadata": {},
     "output_type": "execute_result"
    }
   ],
   "source": [
    "pd.concat([y_true, y_pred], join='inner', axis=1)"
   ]
  },
  {
   "cell_type": "code",
   "execution_count": 21,
   "metadata": {},
   "outputs": [
    {
     "data": {
      "text/plain": [
       "2283.3659914862224"
      ]
     },
     "execution_count": 21,
     "metadata": {},
     "output_type": "execute_result"
    }
   ],
   "source": [
    "start = pd.to_datetime(\"2013-02-02T21:00:00.000000000\")\n",
    "end = pd.to_datetime(\"2013-04-01T21:00:00.000000000\")\n",
    "y_pred.loc[start:end, :]['max'].max()"
   ]
  },
  {
   "cell_type": "code",
   "execution_count": 33,
   "metadata": {},
   "outputs": [
    {
     "data": {
      "image/png": "[encoded data removed]",
      "text/plain": [
       "<Figure size 432x288 with 1 Axes>"
      ]
     },
     "metadata": {
      "needs_background": "light"
     },
     "output_type": "display_data"
    }
   ],
   "source": [
    "import matplotlib.pyplot as plt\n",
    "import pandas as pd\n",
    "\n",
    "\n",
    "fig = plt.figure()\n",
    "plt.plot(y_pred['max'], color='red', linewidth=0.5, label='max 0.05 confidence quantile')\n",
    "plt.plot(y_pred['mean'], color='red', linewidth=2, label='Predicted value')\n",
    "plt.plot(y_pred['min'], color='red', linewidth=0.5, label='min 0.05 confidence quantile')\n",
    "\n",
    "plt.fill_between(y_pred.index, y1=y_pred['min'], y2=y_pred['max'], color='red', alpha=0.3)\n",
    "\n",
    "plt.plot(y_true.index, y_true['level'],  color='blue', linewidth=2, label='Actual value')\n",
    "plt.legend()\n",
    "\n",
    "y_lim = y_pred.loc[start:end, :]['max'].max() * 1.2\n",
    "plt.xlim(start,end)\n",
    "plt.ylim(0, y_lim)\n",
    "plt.show()"
   ]
  },
  {
   "cell_type": "code",
   "execution_count": null,
   "metadata": {},
   "outputs": [],
   "source": [
    "min = pd.concat(frames).groupby(level=0).min()\n",
    "\n",
    "mean = pd.concat(frames).groupby(level=0).mean()\n",
    "\n",
    "max = pd.concat(frames).groupby(level=0).min()\n",
    "\n",
    "fig = plt.figure()\n",
    "plt.plot(min.index, min['0'],  color='red')\n",
    "plt.plot(mean.index, mean['0'],  color='red')\n",
    "plt.plot(max.index, max['0'],  color='red')\n",
    "plt.plot(y_true.index, y_true['level'],  color='blue')\n",
    "\n",
    "plt.autoscale(enable=True, tight=None)\n",
    "plt.xlim(start,end)\n",
    "plt.show()"
   ]
  },
  {
   "cell_type": "code",
   "execution_count": null,
   "metadata": {},
   "outputs": [],
   "source": [
    "hst_fcasts = block_rnn_forecaster.historical_forecasts(num_samples=100, forecast_horizon=24, stride=12)"
   ]
  },
  {
   "cell_type": "code",
   "execution_count": null,
   "metadata": {},
   "outputs": [],
   "source": [
    "import pandas as pd\n",
    "start = pd.to_datetime(\"2015-09-22T21:00:00.000000000\")\n",
    "end = pd.to_datetime(\"2015-11-28T21:00:00.000000000\")\n",
    "slice = hst_fcasts[0].slice(start,end)\n",
    "slice.plot()"
   ]
  },
  {
   "cell_type": "code",
   "execution_count": null,
   "metadata": {},
   "outputs": [],
   "source": [
    "df = block_rnn_forecaster.dataset.y_validation.pd_dataframe()\n",
    "target_scaler = block_rnn_forecaster.dataset.target_scaler\n",
    "y_val = target_scaler.inverse_transform(block_rnn_forecaster.dataset.y_validation)\n",
    "y_val = y_val.pd_dataframe()"
   ]
  },
  {
   "cell_type": "code",
   "execution_count": null,
   "metadata": {},
   "outputs": [],
   "source": [
    "y_pred =  hst_fcasts[0].quantile_df()"
   ]
  },
  {
   "cell_type": "code",
   "execution_count": null,
   "metadata": {},
   "outputs": [],
   "source": [
    "y_pred"
   ]
  },
  {
   "cell_type": "code",
   "execution_count": null,
   "metadata": {},
   "outputs": [],
   "source": [
    "frames= [hst_fcasts[0], y_val]\n",
    "import pandas as pd\n",
    "df_joined = pd.concat(frames, axis=1, join=\"inner\")"
   ]
  },
  {
   "cell_type": "code",
   "execution_count": null,
   "metadata": {},
   "outputs": [],
   "source": [
    "df_joined[-550:-500].plot()"
   ]
  },
  {
   "cell_type": "code",
   "execution_count": null,
   "metadata": {},
   "outputs": [],
   "source": [
    "\n",
    "y_true['day'] = y_true.index.dayofyear"
   ]
  },
  {
   "cell_type": "code",
   "execution_count": null,
   "metadata": {},
   "outputs": [],
   "source": [
    "y_true"
   ]
  },
  {
   "cell_type": "code",
   "execution_count": null,
   "metadata": {},
   "outputs": [],
   "source": [
    "df = block_rnn_forecaster.dataset.X_trains[0].pd_dataframe()"
   ]
  },
  {
   "cell_type": "code",
   "execution_count": null,
   "metadata": {},
   "outputs": [],
   "source": [
    "df.iloc[22000:22020, :]"
   ]
  },
  {
   "cell_type": "code",
   "execution_count": null,
   "metadata": {},
   "outputs": [],
   "source": [
    "df['rain_10dy'] = df['rain_1h'].rolling(window=2).sum()"
   ]
  },
  {
   "cell_type": "code",
   "execution_count": null,
   "metadata": {},
   "outputs": [],
   "source": []
  },
  {
   "cell_type": "code",
   "execution_count": null,
   "metadata": {},
   "outputs": [],
   "source": []
  }
 ],
 "metadata": {
  "interpreter": {
   "hash": "815148e3768c1e208d177ea4f59544b3b2e4bd0509ac51753b9e2d2ac3e6c685"
  },
  "kernelspec": {
   "display_name": "Python 3.9.9 64-bit ('tf': venv)",
   "language": "python",
   "name": "python3"
  },
  "language_info": {
   "codemirror_mode": {
    "name": "ipython",
    "version": 3
   },
   "file_extension": ".py",
   "mimetype": "text/x-python",
   "name": "python",
   "nbconvert_exporter": "python",
   "pygments_lexer": "ipython3",
   "version": "3.7.11"
  },
  "orig_nbformat": 4
 },
 "nbformat": 4,
 "nbformat_minor": 2
}
