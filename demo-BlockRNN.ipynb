{
 "cells": [
  {
   "cell_type": "code",
   "execution_count": null,
   "metadata": {},
   "outputs": [],
   "source": [
    "import pandas as pd\n",
    "from darts.models import NBEATSModel"
   ]
  },
  {
   "cell_type": "markdown",
   "metadata": {},
   "source": [
    "Build or load a 'CatchmentData' instance to allow access to all needed data"
   ]
  },
  {
   "cell_type": "code",
   "execution_count": null,
   "metadata": {},
   "outputs": [],
   "source": [
    "rebuild_catchment = False"
   ]
  },
  {
   "cell_type": "code",
   "execution_count": null,
   "metadata": {},
   "outputs": [],
   "source": [
    "from forecasting.catchment_data import CatchmentData\n",
    "import pickle\n",
    "\n",
    "if rebuild_catchment:\n",
    "    catchment = CatchmentData(\"illinois-kerby\", \"14377100\")\n",
    "\n",
    "    pickle_out = open(\"data/catchment.pickle\", \"wb\")\n",
    "    pickle.dump(catchment, pickle_out)\n",
    "    pickle_out.close()\n",
    "else:\n",
    "    pickle_in = open(\"data/catchment.pickle\", \"rb\")\n",
    "    catchment = pickle.load(pickle_in)"
   ]
  },
  {
   "cell_type": "code",
   "execution_count": null,
   "metadata": {},
   "outputs": [],
   "source": [
    "from forecasting.dataset import Dataset\n",
    "ds = Dataset(catchment)   "
   ]
  },
  {
   "cell_type": "code",
   "execution_count": null,
   "metadata": {},
   "outputs": [],
   "source": [
    "ds.Xs_current[0].pd_dataframe()"
   ]
  },
  {
   "cell_type": "markdown",
   "metadata": {},
   "source": [
    "Perform a gridsearch to identify the best parameters"
   ]
  },
  {
   "cell_type": "code",
   "execution_count": null,
   "metadata": {},
   "outputs": [],
   "source": [
    "perform_gridsearch = False"
   ]
  },
  {
   "cell_type": "code",
   "execution_count": null,
   "metadata": {},
   "outputs": [],
   "source": [
    "if perform_gridsearch:\n",
    "    from forecasting.dataset import Dataset\n",
    "    ds = Dataset(catchment)\n",
    "\n",
    "\n",
    "    from forecasting.dataset import Dataset\n",
    "    dataset = Dataset(catchment)\n",
    "\n",
    "    gridsearch_params = {\n",
    "        \"input_chunk_length\" : [120],\n",
    "        \"output_chunk_length\" : [96],\n",
    "        \"hidden_size\" : [25, 50],\n",
    "        \"n_rnn_layers\" : [3, 5, 7],\n",
    "        \"dropout\" : [0.0],\n",
    "        \"model\" : [\"LSTM\"]\n",
    "    }\n",
    "\n",
    "    X_train = dataset.X_validations[0]\n",
    "    y_train = dataset.y_validation\n",
    "\n",
    "    y_train, y_val = y_train.split_before(0.7)\n",
    "\n",
    "    model,  = NBeatsModel.gridsearch(gridsearch_params, verbose=True, series=y_train, past_covariates=X_train, val_series=y_val)\n",
    "else:\n",
    "    # Manually entered best parameters from prior gridsearch\n",
    "    best_params = {'input_chunk_length': 120, \n",
    "    'output_chunk_length': 96}\n",
    "\n"
   ]
  },
  {
   "cell_type": "code",
   "execution_count": null,
   "metadata": {},
   "outputs": [],
   "source": [
    "overwrite_existing_models = True"
   ]
  },
  {
   "cell_type": "code",
   "execution_count": null,
   "metadata": {},
   "outputs": [],
   "source": [
    "from forecasting.forecaster import Forecaster\n",
    "\n",
    "forecaster = Forecaster(catchment, \n",
    "                                model_type=NBEATSModel, \n",
    "                                model_params=best_params, \n",
    "                                model_save_dir=\"NBeats\",\n",
    "                                overwrite_existing_models=overwrite_existing_models)"
   ]
  },
  {
   "cell_type": "markdown",
   "metadata": {},
   "source": [
    "Fit models for all data in catchment"
   ]
  },
  {
   "cell_type": "code",
   "execution_count": null,
   "metadata": {},
   "outputs": [],
   "source": [
    "forecaster.fit(epochs=20)"
   ]
  },
  {
   "cell_type": "markdown",
   "metadata": {},
   "source": [
    "Fetch historical forecasts using the trained model. This will generate a forecast for 48 hours into the future every 6 hours for the entire validation set."
   ]
  },
  {
   "cell_type": "code",
   "execution_count": null,
   "metadata": {},
   "outputs": [],
   "source": [
    "hst_fcasts = forecaster.historical_forecasts(forecast_horizon=48, stride=6, num_samples=100)"
   ]
  },
  {
   "cell_type": "code",
   "execution_count": null,
   "metadata": {},
   "outputs": [],
   "source": [
    "y_pred = hst_fcasts"
   ]
  },
  {
   "cell_type": "code",
   "execution_count": null,
   "metadata": {},
   "outputs": [],
   "source": [
    "y_pred"
   ]
  },
  {
   "cell_type": "code",
   "execution_count": null,
   "metadata": {},
   "outputs": [],
   "source": [
    "y_true = forecaster.dataset.y_test\n",
    "target_scaler = forecaster.dataset.target_scaler\n",
    "y_true = target_scaler.inverse_transform(y_true)\n",
    "y_true = y_true.pd_dataframe()"
   ]
  },
  {
   "cell_type": "code",
   "execution_count": null,
   "metadata": {},
   "outputs": [],
   "source": [
    "pd.concat([y_true, y_pred], join='inner', axis=1)"
   ]
  },
  {
   "cell_type": "code",
   "execution_count": null,
   "metadata": {},
   "outputs": [],
   "source": [
    "start = pd.to_datetime(\"2013-02-02T21:00:00.000000000\")\n",
    "end = pd.to_datetime(\"2013-04-01T21:00:00.000000000\")\n",
    "y_pred.loc[start:end, :]['max'].max()"
   ]
  },
  {
   "cell_type": "code",
   "execution_count": null,
   "metadata": {},
   "outputs": [],
   "source": [
    "import matplotlib.pyplot as plt\n",
    "import pandas as pd\n",
    "\n",
    "\n",
    "fig = plt.figure()\n",
    "plt.plot(y_pred['max'], color='red', linewidth=0.5, label='max 0.05 confidence quantile')\n",
    "plt.plot(y_pred['mean'], color='red', linewidth=2, label='Predicted value')\n",
    "plt.plot(y_pred['min'], color='red', linewidth=0.5, label='min 0.05 confidence quantile')\n",
    "\n",
    "plt.fill_between(y_pred.index, y1=y_pred['min'], y2=y_pred['max'], color='red', alpha=0.3)\n",
    "\n",
    "plt.plot(y_true.index, y_true['level'],  color='blue', linewidth=2, label='Actual value')\n",
    "plt.legend()\n",
    "\n",
    "y_lim = y_pred.loc[start:end, :]['max'].max() * 1.2\n",
    "plt.xlim(start,end)\n",
    "plt.ylim(0, y_lim)\n",
    "plt.show()"
   ]
  }
 ],
 "metadata": {
  "interpreter": {
   "hash": "815148e3768c1e208d177ea4f59544b3b2e4bd0509ac51753b9e2d2ac3e6c685"
  },
  "kernelspec": {
   "display_name": "Python 3.9.9 64-bit ('tf': venv)",
   "language": "python",
   "name": "python3"
  },
  "language_info": {
   "codemirror_mode": {
    "name": "ipython",
    "version": 3
   },
   "file_extension": ".py",
   "mimetype": "text/x-python",
   "name": "python",
   "nbconvert_exporter": "python",
   "pygments_lexer": "ipython3",
   "version": "3.7.11"
  },
  "orig_nbformat": 4
 },
 "nbformat": 4,
 "nbformat_minor": 2
}
