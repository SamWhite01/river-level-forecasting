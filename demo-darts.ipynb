{
 "cells": [
  {
   "cell_type": "code",
   "execution_count": 1,
   "metadata": {},
   "outputs": [],
   "source": [
    "import pickle\n",
    "from matplotlib import pyplot as plt\n",
    "from darts import timeseries # Timeseries class\n",
    "\n",
    "from forecasting.data_fetcher import DataFetcher\n",
    "from forecasting.forecaster import Forecaster\n",
    "from fsite_data import *"
   ]
  },
  {
   "cell_type": "code",
   "execution_count": 2,
   "metadata": {},
   "outputs": [],
   "source": [
    "refetch_data = True  \n",
    "if refetch_data:\n",
    "    illinois_kerby = DataFetcher(\"14377100\", illinois_kerby_weather_sources  )\n",
    "    pickle_out = open(\"temp_storage/data_fetcher.pickle\", \"wb\")\n",
    "    pickle.dump(illinois_kerby, pickle_out)\n",
    "    pickle_out.close()\n",
    "else:\n",
    "    pickle_in = open(\"temp_storage/data_fetcher.pickle\", \"rb\")\n",
    "    illinois_kerby = pickle.load(pickle_in)"
   ]
  },
  {
   "cell_type": "code",
   "execution_count": 3,
   "metadata": {},
   "outputs": [
    {
     "name": "stdout",
     "output_type": "stream",
     "text": [
      "Building dataset\n"
     ]
    },
    {
     "name": "stderr",
     "output_type": "stream",
     "text": [
      "C:\\Users\\orion\\anaconda3\\envs\\darts\\lib\\site-packages\\pandas\\core\\frame.py:4315: SettingWithCopyWarning: \n",
      "A value is trying to be set on a copy of a slice from a DataFrame\n",
      "\n",
      "See the caveats in the documentation: https://pandas.pydata.org/pandas-docs/stable/user_guide/indexing.html#returning-a-view-versus-a-copy\n",
      "  errors=errors,\n",
      "c:\\Users\\orion\\Documents\\GitHub\\river-level-forecasting\\forecasting\\general_utilities\\df_utils.py:38: SettingWithCopyWarning: \n",
      "A value is trying to be set on a copy of a slice from a DataFrame.\n",
      "Try using .loc[row_indexer,col_indexer] = value instead\n",
      "\n",
      "See the caveats in the documentation: https://pandas.pydata.org/pandas-docs/stable/user_guide/indexing.html#returning-a-view-versus-a-copy\n",
      "  df[df.columns] = scaler.fit_transform(df[df.columns])\n",
      "C:\\Users\\orion\\anaconda3\\envs\\darts\\lib\\site-packages\\pandas\\core\\indexing.py:1637: SettingWithCopyWarning: \n",
      "A value is trying to be set on a copy of a slice from a DataFrame\n",
      "\n",
      "See the caveats in the documentation: https://pandas.pydata.org/pandas-docs/stable/user_guide/indexing.html#returning-a-view-versus-a-copy\n",
      "  self._setitem_single_block(indexer, value, name)\n",
      "C:\\Users\\orion\\anaconda3\\envs\\darts\\lib\\site-packages\\pandas\\core\\indexing.py:692: SettingWithCopyWarning: \n",
      "A value is trying to be set on a copy of a slice from a DataFrame\n",
      "\n",
      "See the caveats in the documentation: https://pandas.pydata.org/pandas-docs/stable/user_guide/indexing.html#returning-a-view-versus-a-copy\n",
      "  iloc._setitem_with_indexer(indexer, value, self.name)\n"
     ]
    },
    {
     "name": "stdout",
     "output_type": "stream",
     "text": [
      "233498\n",
      "233493\n",
      "233498\n",
      "233493\n",
      "(5, 8, 1)\n",
      "(5, 8, 1)\n"
     ]
    }
   ],
   "source": [
    "rebuild_forecaster = True\n",
    "def test(num):\n",
    "    pass\n",
    "if rebuild_forecaster:\n",
    "    frcstr = Forecaster(illinois_kerby, test)\n",
    "    pickle_out = open(\"temp_storage/forecaster.pickle\", \"wb\")\n",
    "    pickle.dump(frcstr, pickle_out)\n",
    "    pickle_out.close()\n",
    "else:\n",
    "    pickle_in = open(\"temp_storage/forecaster.pickle\", \"rb\")\n",
    "    frcstr = pickle.load(pickle_in)"
   ]
  },
  {
   "cell_type": "code",
   "execution_count": 4,
   "metadata": {},
   "outputs": [],
   "source": [
    "covariates = frcstr.dataset.X_historical_processed.iloc[:,:-1]\n",
    "series = timeseries.TimeSeries.from_dataframe(frcstr.dataset.y_historical_processed)\n",
    "past_covariates = timeseries.TimeSeries.from_dataframe(covariates)"
   ]
  },
  {
   "cell_type": "code",
   "execution_count": 5,
   "metadata": {},
   "outputs": [],
   "source": [
    "train_past_covariates, test_past_covariates = past_covariates.split_before(0.85)\n",
    "train_series, test_series = series.split_before(0.85)"
   ]
  },
  {
   "cell_type": "code",
   "execution_count": 6,
   "metadata": {},
   "outputs": [],
   "source": [
    "retrain = True"
   ]
  },
  {
   "cell_type": "code",
   "execution_count": 7,
   "metadata": {},
   "outputs": [
    {
     "name": "stderr",
     "output_type": "stream",
     "text": [
      "[2022-02-08 18:44:59,755] INFO | darts.models.forecasting.torch_forecasting_model | Train dataset contains 247904 samples.\n",
      "[2022-02-08 18:44:59,755] INFO | darts.models.forecasting.torch_forecasting_model | Train dataset contains 247904 samples.\n",
      "[2022-02-08 18:44:59,763] INFO | darts.models.forecasting.torch_forecasting_model | Time series values are 64-bits; casting model to float64.\n",
      "[2022-02-08 18:44:59,763] INFO | darts.models.forecasting.torch_forecasting_model | Time series values are 64-bits; casting model to float64.\n"
     ]
    },
    {
     "data": {
      "application/vnd.jupyter.widget-view+json": {
       "model_id": "85947c7273364b8a8b62c2d0fbdca5bd",
       "version_major": 2,
       "version_minor": 0
      },
      "text/plain": [
       "  0%|          | 0/100 [00:00<?, ?it/s]"
      ]
     },
     "metadata": {},
     "output_type": "display_data"
    },
    {
     "name": "stdout",
     "output_type": "stream",
     "text": [
      "Training loss: 0.0011\r"
     ]
    },
    {
     "ename": "FileNotFoundError",
     "evalue": "[Errno 2] No such file or directory: 'trained_models/block_rnn.pth.tar'",
     "output_type": "error",
     "traceback": [
      "\u001b[1;31m---------------------------------------------------------------------------\u001b[0m",
      "\u001b[1;31mFileNotFoundError\u001b[0m                         Traceback (most recent call last)",
      "\u001b[1;32m~\\AppData\\Local\\Temp\\ipykernel_264\\3491552223.py\u001b[0m in \u001b[0;36m<module>\u001b[1;34m\u001b[0m\n\u001b[0;32m      3\u001b[0m \u001b[1;32mif\u001b[0m \u001b[0mretrain\u001b[0m\u001b[1;33m:\u001b[0m\u001b[1;33m\u001b[0m\u001b[1;33m\u001b[0m\u001b[0m\n\u001b[0;32m      4\u001b[0m     \u001b[0mblock_rnn\u001b[0m\u001b[1;33m.\u001b[0m\u001b[0mfit\u001b[0m\u001b[1;33m(\u001b[0m\u001b[0mtrain_series\u001b[0m\u001b[1;33m,\u001b[0m \u001b[0mpast_covariates\u001b[0m\u001b[1;33m=\u001b[0m\u001b[0mtrain_past_covariates\u001b[0m\u001b[1;33m,\u001b[0m \u001b[0mverbose\u001b[0m\u001b[1;33m=\u001b[0m\u001b[1;32mTrue\u001b[0m\u001b[1;33m)\u001b[0m\u001b[1;33m\u001b[0m\u001b[1;33m\u001b[0m\u001b[0m\n\u001b[1;32m----> 5\u001b[1;33m     \u001b[0mblock_rnn\u001b[0m\u001b[1;33m.\u001b[0m\u001b[0msave_model\u001b[0m\u001b[1;33m(\u001b[0m\u001b[1;34m\"trained_models/block_rnn.pth.tar\"\u001b[0m\u001b[1;33m)\u001b[0m\u001b[1;33m\u001b[0m\u001b[1;33m\u001b[0m\u001b[0m\n\u001b[0m\u001b[0;32m      6\u001b[0m \u001b[1;32melse\u001b[0m\u001b[1;33m:\u001b[0m\u001b[1;33m\u001b[0m\u001b[1;33m\u001b[0m\u001b[0m\n\u001b[0;32m      7\u001b[0m     \u001b[0mmodel\u001b[0m \u001b[1;33m=\u001b[0m \u001b[0mblock_rnn\u001b[0m\u001b[1;33m.\u001b[0m\u001b[0mload_model\u001b[0m\u001b[1;33m(\u001b[0m\u001b[1;34m\"trained_models/block_rnn.pth.tar\"\u001b[0m\u001b[1;33m)\u001b[0m\u001b[1;33m\u001b[0m\u001b[1;33m\u001b[0m\u001b[0m\n",
      "\u001b[1;32m~\\anaconda3\\envs\\darts\\lib\\site-packages\\darts\\models\\forecasting\\torch_forecasting_model.py\u001b[0m in \u001b[0;36msave_model\u001b[1;34m(self, path)\u001b[0m\n\u001b[0;32m   1137\u001b[0m         )\n\u001b[0;32m   1138\u001b[0m \u001b[1;33m\u001b[0m\u001b[0m\n\u001b[1;32m-> 1139\u001b[1;33m         \u001b[1;32mwith\u001b[0m \u001b[0mopen\u001b[0m\u001b[1;33m(\u001b[0m\u001b[0mpath\u001b[0m\u001b[1;33m,\u001b[0m \u001b[1;34m\"wb\"\u001b[0m\u001b[1;33m)\u001b[0m \u001b[1;32mas\u001b[0m \u001b[0mf_out\u001b[0m\u001b[1;33m:\u001b[0m\u001b[1;33m\u001b[0m\u001b[1;33m\u001b[0m\u001b[0m\n\u001b[0m\u001b[0;32m   1140\u001b[0m             \u001b[0mtorch\u001b[0m\u001b[1;33m.\u001b[0m\u001b[0msave\u001b[0m\u001b[1;33m(\u001b[0m\u001b[0mself\u001b[0m\u001b[1;33m,\u001b[0m \u001b[0mf_out\u001b[0m\u001b[1;33m)\u001b[0m\u001b[1;33m\u001b[0m\u001b[1;33m\u001b[0m\u001b[0m\n\u001b[0;32m   1141\u001b[0m \u001b[1;33m\u001b[0m\u001b[0m\n",
      "\u001b[1;31mFileNotFoundError\u001b[0m: [Errno 2] No such file or directory: 'trained_models/block_rnn.pth.tar'"
     ]
    }
   ],
   "source": [
    "from darts.models import BlockRNNModel\n",
    "block_rnn = BlockRNNModel(input_chunk_length=120, output_chunk_length=72)\n",
    "if retrain:\n",
    "    block_rnn.fit(train_series, past_covariates=train_past_covariates, verbose=True)\n",
    "    block_rnn.save_model(\"trained_models/block_rnn.pth.tar\")\n",
    "else:\n",
    "    model = block_rnn.load_model(\"trained_models/block_rnn.pth.tar\")"
   ]
  },
  {
   "cell_type": "code",
   "execution_count": 9,
   "metadata": {},
   "outputs": [
    {
     "name": "stderr",
     "output_type": "stream",
     "text": [
      "[2022-02-08 22:16:58,545] ERROR | darts.models.forecasting.tft_model | ValueError: TFTModel requires future covariates. The model applies multi-head attention queries on future inputs. Consider specifying a future encoder with `add_encoders` or setting `add_relative_index` to `True` at model creation (read TFT model docs for more information). These will automatically generate `future_covariates` from indexes.\n",
      "[2022-02-08 22:16:58,545] ERROR | darts.models.forecasting.tft_model | ValueError: TFTModel requires future covariates. The model applies multi-head attention queries on future inputs. Consider specifying a future encoder with `add_encoders` or setting `add_relative_index` to `True` at model creation (read TFT model docs for more information). These will automatically generate `future_covariates` from indexes.\n"
     ]
    },
    {
     "ename": "ValueError",
     "evalue": "TFTModel requires future covariates. The model applies multi-head attention queries on future inputs. Consider specifying a future encoder with `add_encoders` or setting `add_relative_index` to `True` at model creation (read TFT model docs for more information). These will automatically generate `future_covariates` from indexes.",
     "output_type": "error",
     "traceback": [
      "\u001b[1;31m---------------------------------------------------------------------------\u001b[0m",
      "\u001b[1;31mValueError\u001b[0m                                Traceback (most recent call last)",
      "\u001b[1;32m~\\AppData\\Local\\Temp\\ipykernel_264\\3989953841.py\u001b[0m in \u001b[0;36m<module>\u001b[1;34m\u001b[0m\n\u001b[0;32m      3\u001b[0m \u001b[0mretrain\u001b[0m \u001b[1;33m=\u001b[0m \u001b[1;32mTrue\u001b[0m\u001b[1;33m\u001b[0m\u001b[1;33m\u001b[0m\u001b[0m\n\u001b[0;32m      4\u001b[0m \u001b[1;32mif\u001b[0m \u001b[0mretrain\u001b[0m\u001b[1;33m:\u001b[0m\u001b[1;33m\u001b[0m\u001b[1;33m\u001b[0m\u001b[0m\n\u001b[1;32m----> 5\u001b[1;33m     \u001b[0mtft\u001b[0m\u001b[1;33m.\u001b[0m\u001b[0mfit\u001b[0m\u001b[1;33m(\u001b[0m\u001b[0mtrain_series\u001b[0m\u001b[1;33m,\u001b[0m \u001b[0mpast_covariates\u001b[0m\u001b[1;33m=\u001b[0m\u001b[0mtrain_past_covariates\u001b[0m\u001b[1;33m,\u001b[0m \u001b[0mverbose\u001b[0m\u001b[1;33m=\u001b[0m\u001b[1;32mTrue\u001b[0m\u001b[1;33m)\u001b[0m\u001b[1;33m\u001b[0m\u001b[1;33m\u001b[0m\u001b[0m\n\u001b[0m\u001b[0;32m      6\u001b[0m     \u001b[0mtft\u001b[0m\u001b[1;33m.\u001b[0m\u001b[0msave_model\u001b[0m\u001b[1;33m(\u001b[0m\u001b[1;34m\"trained_models/tft.pth.tar\"\u001b[0m\u001b[1;33m)\u001b[0m\u001b[1;33m\u001b[0m\u001b[1;33m\u001b[0m\u001b[0m\n\u001b[0;32m      7\u001b[0m \u001b[1;32melse\u001b[0m\u001b[1;33m:\u001b[0m\u001b[1;33m\u001b[0m\u001b[1;33m\u001b[0m\u001b[0m\n",
      "\u001b[1;32m~\\anaconda3\\envs\\darts\\lib\\site-packages\\darts\\utils\\torch.py\u001b[0m in \u001b[0;36mdecorator\u001b[1;34m(self, *args, **kwargs)\u001b[0m\n\u001b[0;32m     68\u001b[0m         \u001b[1;32mwith\u001b[0m \u001b[0mfork_rng\u001b[0m\u001b[1;33m(\u001b[0m\u001b[1;33m)\u001b[0m\u001b[1;33m:\u001b[0m\u001b[1;33m\u001b[0m\u001b[1;33m\u001b[0m\u001b[0m\n\u001b[0;32m     69\u001b[0m             \u001b[0mmanual_seed\u001b[0m\u001b[1;33m(\u001b[0m\u001b[0mself\u001b[0m\u001b[1;33m.\u001b[0m\u001b[0m_random_instance\u001b[0m\u001b[1;33m.\u001b[0m\u001b[0mrandint\u001b[0m\u001b[1;33m(\u001b[0m\u001b[1;36m0\u001b[0m\u001b[1;33m,\u001b[0m \u001b[0mhigh\u001b[0m\u001b[1;33m=\u001b[0m\u001b[0mMAX_TORCH_SEED_VALUE\u001b[0m\u001b[1;33m)\u001b[0m\u001b[1;33m)\u001b[0m\u001b[1;33m\u001b[0m\u001b[1;33m\u001b[0m\u001b[0m\n\u001b[1;32m---> 70\u001b[1;33m             \u001b[1;32mreturn\u001b[0m \u001b[0mdecorated\u001b[0m\u001b[1;33m(\u001b[0m\u001b[0mself\u001b[0m\u001b[1;33m,\u001b[0m \u001b[1;33m*\u001b[0m\u001b[0margs\u001b[0m\u001b[1;33m,\u001b[0m \u001b[1;33m**\u001b[0m\u001b[0mkwargs\u001b[0m\u001b[1;33m)\u001b[0m\u001b[1;33m\u001b[0m\u001b[1;33m\u001b[0m\u001b[0m\n\u001b[0m\u001b[0;32m     71\u001b[0m \u001b[1;33m\u001b[0m\u001b[0m\n\u001b[0;32m     72\u001b[0m     \u001b[1;32mreturn\u001b[0m \u001b[0mdecorator\u001b[0m\u001b[1;33m\u001b[0m\u001b[1;33m\u001b[0m\u001b[0m\n",
      "\u001b[1;32m~\\anaconda3\\envs\\darts\\lib\\site-packages\\darts\\models\\forecasting\\torch_forecasting_model.py\u001b[0m in \u001b[0;36mfit\u001b[1;34m(self, series, past_covariates, future_covariates, val_series, val_past_covariates, val_future_covariates, verbose, epochs, max_samples_per_ts, num_loader_workers)\u001b[0m\n\u001b[0;32m    522\u001b[0m             \u001b[0mpast_covariates\u001b[0m\u001b[1;33m=\u001b[0m\u001b[0mpast_covariates\u001b[0m\u001b[1;33m,\u001b[0m\u001b[1;33m\u001b[0m\u001b[1;33m\u001b[0m\u001b[0m\n\u001b[0;32m    523\u001b[0m             \u001b[0mfuture_covariates\u001b[0m\u001b[1;33m=\u001b[0m\u001b[0mfuture_covariates\u001b[0m\u001b[1;33m,\u001b[0m\u001b[1;33m\u001b[0m\u001b[1;33m\u001b[0m\u001b[0m\n\u001b[1;32m--> 524\u001b[1;33m             \u001b[0mmax_samples_per_ts\u001b[0m\u001b[1;33m=\u001b[0m\u001b[0mmax_samples_per_ts\u001b[0m\u001b[1;33m,\u001b[0m\u001b[1;33m\u001b[0m\u001b[1;33m\u001b[0m\u001b[0m\n\u001b[0m\u001b[0;32m    525\u001b[0m         )\n\u001b[0;32m    526\u001b[0m \u001b[1;33m\u001b[0m\u001b[0m\n",
      "\u001b[1;32m~\\anaconda3\\envs\\darts\\lib\\site-packages\\darts\\models\\forecasting\\tft_model.py\u001b[0m in \u001b[0;36m_build_train_dataset\u001b[1;34m(self, target, past_covariates, future_covariates, max_samples_per_ts)\u001b[0m\n\u001b[0;32m    878\u001b[0m             \u001b[1;34m\"to `True` at model creation (read TFT model docs for more information). \"\u001b[0m\u001b[1;33m\u001b[0m\u001b[1;33m\u001b[0m\u001b[0m\n\u001b[0;32m    879\u001b[0m             \u001b[1;34m\"These will automatically generate `future_covariates` from indexes.\"\u001b[0m\u001b[1;33m,\u001b[0m\u001b[1;33m\u001b[0m\u001b[1;33m\u001b[0m\u001b[0m\n\u001b[1;32m--> 880\u001b[1;33m             \u001b[0mlogger\u001b[0m\u001b[1;33m,\u001b[0m\u001b[1;33m\u001b[0m\u001b[1;33m\u001b[0m\u001b[0m\n\u001b[0m\u001b[0;32m    881\u001b[0m         )\n\u001b[0;32m    882\u001b[0m \u001b[1;33m\u001b[0m\u001b[0m\n",
      "\u001b[1;32m~\\anaconda3\\envs\\darts\\lib\\site-packages\\darts\\logging.py\u001b[0m in \u001b[0;36mraise_if\u001b[1;34m(condition, message, logger)\u001b[0m\n\u001b[0;32m     84\u001b[0m         \u001b[1;32mif\u001b[0m\u001b[0;31m \u001b[0m\u001b[0;31m`\u001b[0m\u001b[0mcondition\u001b[0m\u001b[0;31m`\u001b[0m \u001b[1;32mis\u001b[0m \u001b[0msatisfied\u001b[0m\u001b[1;33m\u001b[0m\u001b[1;33m\u001b[0m\u001b[0m\n\u001b[0;32m     85\u001b[0m     \"\"\"\n\u001b[1;32m---> 86\u001b[1;33m     \u001b[0mraise_if_not\u001b[0m\u001b[1;33m(\u001b[0m\u001b[1;32mnot\u001b[0m \u001b[0mcondition\u001b[0m\u001b[1;33m,\u001b[0m \u001b[0mmessage\u001b[0m\u001b[1;33m,\u001b[0m \u001b[0mlogger\u001b[0m\u001b[1;33m)\u001b[0m\u001b[1;33m\u001b[0m\u001b[1;33m\u001b[0m\u001b[0m\n\u001b[0m\u001b[0;32m     87\u001b[0m \u001b[1;33m\u001b[0m\u001b[0m\n\u001b[0;32m     88\u001b[0m \u001b[1;33m\u001b[0m\u001b[0m\n",
      "\u001b[1;32m~\\anaconda3\\envs\\darts\\lib\\site-packages\\darts\\logging.py\u001b[0m in \u001b[0;36mraise_if_not\u001b[1;34m(condition, message, logger)\u001b[0m\n\u001b[0;32m     58\u001b[0m     \u001b[1;32mif\u001b[0m \u001b[1;32mnot\u001b[0m \u001b[0mcondition\u001b[0m\u001b[1;33m:\u001b[0m\u001b[1;33m\u001b[0m\u001b[1;33m\u001b[0m\u001b[0m\n\u001b[0;32m     59\u001b[0m         \u001b[0mlogger\u001b[0m\u001b[1;33m.\u001b[0m\u001b[0merror\u001b[0m\u001b[1;33m(\u001b[0m\u001b[1;34m\"ValueError: \"\u001b[0m \u001b[1;33m+\u001b[0m \u001b[0mmessage\u001b[0m\u001b[1;33m)\u001b[0m\u001b[1;33m\u001b[0m\u001b[1;33m\u001b[0m\u001b[0m\n\u001b[1;32m---> 60\u001b[1;33m         \u001b[1;32mraise\u001b[0m \u001b[0mValueError\u001b[0m\u001b[1;33m(\u001b[0m\u001b[0mmessage\u001b[0m\u001b[1;33m)\u001b[0m\u001b[1;33m\u001b[0m\u001b[1;33m\u001b[0m\u001b[0m\n\u001b[0m\u001b[0;32m     61\u001b[0m \u001b[1;33m\u001b[0m\u001b[0m\n\u001b[0;32m     62\u001b[0m \u001b[1;33m\u001b[0m\u001b[0m\n",
      "\u001b[1;31mValueError\u001b[0m: TFTModel requires future covariates. The model applies multi-head attention queries on future inputs. Consider specifying a future encoder with `add_encoders` or setting `add_relative_index` to `True` at model creation (read TFT model docs for more information). These will automatically generate `future_covariates` from indexes."
     ]
    }
   ],
   "source": [
    "from darts.models import TFTModel\n",
    "tft = TFTModel(input_chunk_length=120, output_chunk_length=72)\n",
    "retrain = True\n",
    "if retrain:\n",
    "    tft.fit(train_series, past_covariates=train_past_covariates, verbose=True)\n",
    "    tft.save_model(\"trained_models/tft.pth.tar\")\n",
    "else:\n",
    "    model = tft.load_model(\"trained_models/tft.pth.tar\")"
   ]
  },
  {
   "cell_type": "code",
   "execution_count": 10,
   "metadata": {},
   "outputs": [
    {
     "name": "stderr",
     "output_type": "stream",
     "text": [
      "[2022-02-08 22:17:17,773] INFO | darts.models.forecasting.torch_forecasting_model | Train dataset contains 247904 samples.\n",
      "[2022-02-08 22:17:17,773] INFO | darts.models.forecasting.torch_forecasting_model | Train dataset contains 247904 samples.\n",
      "[2022-02-08 22:17:17,835] INFO | darts.models.forecasting.torch_forecasting_model | Time series values are 64-bits; casting model to float64.\n",
      "[2022-02-08 22:17:17,835] INFO | darts.models.forecasting.torch_forecasting_model | Time series values are 64-bits; casting model to float64.\n"
     ]
    },
    {
     "data": {
      "application/vnd.jupyter.widget-view+json": {
       "model_id": "9aa503c7cff84ef7bb827ebc276d46d9",
       "version_major": 2,
       "version_minor": 0
      },
      "text/plain": [
       "  0%|          | 0/100 [00:00<?, ?it/s]"
      ]
     },
     "metadata": {},
     "output_type": "display_data"
    },
    {
     "name": "stdout",
     "output_type": "stream",
     "text": [
      "Training loss: 0.0001\r"
     ]
    }
   ],
   "source": [
    "from darts.models import NBEATSModel\n",
    "n_beats = NBEATSModel(input_chunk_length=120, output_chunk_length=72)\n",
    "retrain = True\n",
    "if retrain:\n",
    "    n_beats.fit(train_series, past_covariates=train_past_covariates, verbose=True)\n",
    "    n_beats.save_model(\"trained_models/n_beats.pth.tar\")\n",
    "else:\n",
    "    model = n_beats.load_model(\"trained_models/n_beats.pth.tar\")"
   ]
  },
  {
   "cell_type": "code",
   "execution_count": 11,
   "metadata": {},
   "outputs": [
    {
     "name": "stderr",
     "output_type": "stream",
     "text": [
      "[2022-02-09 17:45:06,954] INFO | darts.models.forecasting.torch_forecasting_model | Train dataset contains 247904 samples.\n",
      "[2022-02-09 17:45:06,954] INFO | darts.models.forecasting.torch_forecasting_model | Train dataset contains 247904 samples.\n",
      "[2022-02-09 17:45:06,971] INFO | darts.models.forecasting.torch_forecasting_model | Time series values are 64-bits; casting model to float64.\n",
      "[2022-02-09 17:45:06,971] INFO | darts.models.forecasting.torch_forecasting_model | Time series values are 64-bits; casting model to float64.\n"
     ]
    },
    {
     "data": {
      "application/vnd.jupyter.widget-view+json": {
       "model_id": "819e93e8f8214a0681b7a9b5e73be520",
       "version_major": 2,
       "version_minor": 0
      },
      "text/plain": [
       "  0%|          | 0/100 [00:00<?, ?it/s]"
      ]
     },
     "metadata": {},
     "output_type": "display_data"
    },
    {
     "name": "stdout",
     "output_type": "stream",
     "text": [
      "Training loss: 0.0001\r"
     ]
    }
   ],
   "source": [
    "from darts.models import TransformerModel\n",
    "transformer = TransformerModel(input_chunk_length=120, output_chunk_length=72)\n",
    "retrain = True    \n",
    "if retrain:\n",
    "    transformer.fit(train_series, past_covariates=train_past_covariates, verbose=True)\n",
    "    transformer.save_model(\"trained_models/transformer.pth.tar\")\n",
    "else:\n",
    "    model = transformer.load_model(\"trained_models/transformer.pth.tar\")"
   ]
  },
  {
   "cell_type": "code",
   "execution_count": 12,
   "metadata": {},
   "outputs": [
    {
     "name": "stderr",
     "output_type": "stream",
     "text": [
      "[2022-02-10 05:00:43,806] INFO | darts.models.forecasting.torch_forecasting_model | Train dataset contains 247904 samples.\n",
      "[2022-02-10 05:00:43,806] INFO | darts.models.forecasting.torch_forecasting_model | Train dataset contains 247904 samples.\n",
      "[2022-02-10 05:00:43,811] INFO | darts.models.forecasting.tcn_model | Number of layers chosen: 5\n",
      "[2022-02-10 05:00:43,811] INFO | darts.models.forecasting.tcn_model | Number of layers chosen: 5\n",
      "[2022-02-10 05:00:43,814] INFO | darts.models.forecasting.torch_forecasting_model | Time series values are 64-bits; casting model to float64.\n",
      "[2022-02-10 05:00:43,814] INFO | darts.models.forecasting.torch_forecasting_model | Time series values are 64-bits; casting model to float64.\n"
     ]
    },
    {
     "data": {
      "application/vnd.jupyter.widget-view+json": {
       "model_id": "7bb213ec30304e0a838dbfe6a58f21b7",
       "version_major": 2,
       "version_minor": 0
      },
      "text/plain": [
       "  0%|          | 0/100 [00:00<?, ?it/s]"
      ]
     },
     "metadata": {},
     "output_type": "display_data"
    },
    {
     "name": "stdout",
     "output_type": "stream",
     "text": [
      "Training loss: 0.0018\r"
     ]
    }
   ],
   "source": [
    "from darts.models import TCNModel\n",
    "tcn = TCNModel(input_chunk_length=120, output_chunk_length=72)\n",
    "retrain = True\n",
    "if retrain:\n",
    "    tcn.fit(train_series, past_covariates=train_past_covariates, verbose=True)\n",
    "    tcn.save_model(\"trained_models/tcn.pth.tar\")\n",
    "else:\n",
    "    model = tcn.load_model(\"trained_models/tcn.pth.tar\")"
   ]
  },
  {
   "cell_type": "code",
   "execution_count": 13,
   "metadata": {},
   "outputs": [
    {
     "name": "stderr",
     "output_type": "stream",
     "text": [
      "[2022-02-10 07:09:52,603] ERROR | main_logger | ValueError: Some past_covariates have been provided to a PastCovariates model. These models support only future_covariates.\n",
      "[2022-02-10 07:09:52,603] ERROR | main_logger | ValueError: Some past_covariates have been provided to a PastCovariates model. These models support only future_covariates.\n",
      "[2022-02-10 07:09:52,603] ERROR | main_logger | ValueError: Some past_covariates have been provided to a PastCovariates model. These models support only future_covariates.\n",
      "[2022-02-10 07:09:52,603] ERROR | main_logger | ValueError: Some past_covariates have been provided to a PastCovariates model. These models support only future_covariates.\n"
     ]
    },
    {
     "ename": "ValueError",
     "evalue": "Some past_covariates have been provided to a PastCovariates model. These models support only future_covariates.",
     "output_type": "error",
     "traceback": [
      "\u001b[1;31m---------------------------------------------------------------------------\u001b[0m",
      "\u001b[1;31mValueError\u001b[0m                                Traceback (most recent call last)",
      "\u001b[1;32m~\\AppData\\Local\\Temp\\ipykernel_264\\1960990887.py\u001b[0m in \u001b[0;36m<module>\u001b[1;34m\u001b[0m\n\u001b[0;32m      3\u001b[0m \u001b[0mretrain\u001b[0m \u001b[1;33m=\u001b[0m \u001b[1;32mTrue\u001b[0m\u001b[1;33m\u001b[0m\u001b[1;33m\u001b[0m\u001b[0m\n\u001b[0;32m      4\u001b[0m \u001b[1;32mif\u001b[0m \u001b[0mretrain\u001b[0m\u001b[1;33m:\u001b[0m\u001b[1;33m\u001b[0m\u001b[1;33m\u001b[0m\u001b[0m\n\u001b[1;32m----> 5\u001b[1;33m     \u001b[0mrnn\u001b[0m\u001b[1;33m.\u001b[0m\u001b[0mfit\u001b[0m\u001b[1;33m(\u001b[0m\u001b[0mtrain_series\u001b[0m\u001b[1;33m,\u001b[0m \u001b[0mpast_covariates\u001b[0m\u001b[1;33m=\u001b[0m\u001b[0mtrain_past_covariates\u001b[0m\u001b[1;33m,\u001b[0m \u001b[0mverbose\u001b[0m\u001b[1;33m=\u001b[0m\u001b[1;32mTrue\u001b[0m\u001b[1;33m)\u001b[0m\u001b[1;33m\u001b[0m\u001b[1;33m\u001b[0m\u001b[0m\n\u001b[0m\u001b[0;32m      6\u001b[0m     \u001b[0mrnn\u001b[0m\u001b[1;33m.\u001b[0m\u001b[0msave_model\u001b[0m\u001b[1;33m(\u001b[0m\u001b[1;34m\"trained_models/rnn.pth.tar\"\u001b[0m\u001b[1;33m)\u001b[0m\u001b[1;33m\u001b[0m\u001b[1;33m\u001b[0m\u001b[0m\n\u001b[0;32m      7\u001b[0m \u001b[1;32melse\u001b[0m\u001b[1;33m:\u001b[0m\u001b[1;33m\u001b[0m\u001b[1;33m\u001b[0m\u001b[0m\n",
      "\u001b[1;32m~\\anaconda3\\envs\\darts\\lib\\site-packages\\darts\\utils\\torch.py\u001b[0m in \u001b[0;36mdecorator\u001b[1;34m(self, *args, **kwargs)\u001b[0m\n\u001b[0;32m     68\u001b[0m         \u001b[1;32mwith\u001b[0m \u001b[0mfork_rng\u001b[0m\u001b[1;33m(\u001b[0m\u001b[1;33m)\u001b[0m\u001b[1;33m:\u001b[0m\u001b[1;33m\u001b[0m\u001b[1;33m\u001b[0m\u001b[0m\n\u001b[0;32m     69\u001b[0m             \u001b[0mmanual_seed\u001b[0m\u001b[1;33m(\u001b[0m\u001b[0mself\u001b[0m\u001b[1;33m.\u001b[0m\u001b[0m_random_instance\u001b[0m\u001b[1;33m.\u001b[0m\u001b[0mrandint\u001b[0m\u001b[1;33m(\u001b[0m\u001b[1;36m0\u001b[0m\u001b[1;33m,\u001b[0m \u001b[0mhigh\u001b[0m\u001b[1;33m=\u001b[0m\u001b[0mMAX_TORCH_SEED_VALUE\u001b[0m\u001b[1;33m)\u001b[0m\u001b[1;33m)\u001b[0m\u001b[1;33m\u001b[0m\u001b[1;33m\u001b[0m\u001b[0m\n\u001b[1;32m---> 70\u001b[1;33m             \u001b[1;32mreturn\u001b[0m \u001b[0mdecorated\u001b[0m\u001b[1;33m(\u001b[0m\u001b[0mself\u001b[0m\u001b[1;33m,\u001b[0m \u001b[1;33m*\u001b[0m\u001b[0margs\u001b[0m\u001b[1;33m,\u001b[0m \u001b[1;33m**\u001b[0m\u001b[0mkwargs\u001b[0m\u001b[1;33m)\u001b[0m\u001b[1;33m\u001b[0m\u001b[1;33m\u001b[0m\u001b[0m\n\u001b[0m\u001b[0;32m     71\u001b[0m \u001b[1;33m\u001b[0m\u001b[0m\n\u001b[0;32m     72\u001b[0m     \u001b[1;32mreturn\u001b[0m \u001b[0mdecorator\u001b[0m\u001b[1;33m\u001b[0m\u001b[1;33m\u001b[0m\u001b[0m\n",
      "\u001b[1;32m~\\anaconda3\\envs\\darts\\lib\\site-packages\\darts\\models\\forecasting\\torch_forecasting_model.py\u001b[0m in \u001b[0;36mfit\u001b[1;34m(self, series, past_covariates, future_covariates, val_series, val_past_covariates, val_future_covariates, verbose, epochs, max_samples_per_ts, num_loader_workers)\u001b[0m\n\u001b[0;32m    468\u001b[0m         \u001b[1;31m# TODO: also check the validation covariates\u001b[0m\u001b[1;33m\u001b[0m\u001b[1;33m\u001b[0m\u001b[1;33m\u001b[0m\u001b[0m\n\u001b[0;32m    469\u001b[0m         self._verify_past_future_covariates(\n\u001b[1;32m--> 470\u001b[1;33m             \u001b[0mpast_covariates\u001b[0m\u001b[1;33m=\u001b[0m\u001b[0mpast_covariates\u001b[0m\u001b[1;33m,\u001b[0m \u001b[0mfuture_covariates\u001b[0m\u001b[1;33m=\u001b[0m\u001b[0mfuture_covariates\u001b[0m\u001b[1;33m\u001b[0m\u001b[1;33m\u001b[0m\u001b[0m\n\u001b[0m\u001b[0;32m    471\u001b[0m         )\n\u001b[0;32m    472\u001b[0m \u001b[1;33m\u001b[0m\u001b[0m\n",
      "\u001b[1;32m~\\anaconda3\\envs\\darts\\lib\\site-packages\\darts\\models\\forecasting\\torch_forecasting_model.py\u001b[0m in \u001b[0;36m_verify_past_future_covariates\u001b[1;34m(self, past_covariates, future_covariates)\u001b[0m\n\u001b[0;32m   1740\u001b[0m         raise_if_not(\n\u001b[0;32m   1741\u001b[0m             \u001b[0mpast_covariates\u001b[0m \u001b[1;32mis\u001b[0m \u001b[1;32mNone\u001b[0m\u001b[1;33m,\u001b[0m\u001b[1;33m\u001b[0m\u001b[1;33m\u001b[0m\u001b[0m\n\u001b[1;32m-> 1742\u001b[1;33m             \u001b[1;34m\"Some past_covariates have been provided to a PastCovariates model. These models \"\u001b[0m\u001b[1;33m\u001b[0m\u001b[1;33m\u001b[0m\u001b[0m\n\u001b[0m\u001b[0;32m   1743\u001b[0m             \u001b[1;34m\"support only future_covariates.\"\u001b[0m\u001b[1;33m,\u001b[0m\u001b[1;33m\u001b[0m\u001b[1;33m\u001b[0m\u001b[0m\n\u001b[0;32m   1744\u001b[0m         )\n",
      "\u001b[1;32m~\\anaconda3\\envs\\darts\\lib\\site-packages\\darts\\logging.py\u001b[0m in \u001b[0;36mraise_if_not\u001b[1;34m(condition, message, logger)\u001b[0m\n\u001b[0;32m     58\u001b[0m     \u001b[1;32mif\u001b[0m \u001b[1;32mnot\u001b[0m \u001b[0mcondition\u001b[0m\u001b[1;33m:\u001b[0m\u001b[1;33m\u001b[0m\u001b[1;33m\u001b[0m\u001b[0m\n\u001b[0;32m     59\u001b[0m         \u001b[0mlogger\u001b[0m\u001b[1;33m.\u001b[0m\u001b[0merror\u001b[0m\u001b[1;33m(\u001b[0m\u001b[1;34m\"ValueError: \"\u001b[0m \u001b[1;33m+\u001b[0m \u001b[0mmessage\u001b[0m\u001b[1;33m)\u001b[0m\u001b[1;33m\u001b[0m\u001b[1;33m\u001b[0m\u001b[0m\n\u001b[1;32m---> 60\u001b[1;33m         \u001b[1;32mraise\u001b[0m \u001b[0mValueError\u001b[0m\u001b[1;33m(\u001b[0m\u001b[0mmessage\u001b[0m\u001b[1;33m)\u001b[0m\u001b[1;33m\u001b[0m\u001b[1;33m\u001b[0m\u001b[0m\n\u001b[0m\u001b[0;32m     61\u001b[0m \u001b[1;33m\u001b[0m\u001b[0m\n\u001b[0;32m     62\u001b[0m \u001b[1;33m\u001b[0m\u001b[0m\n",
      "\u001b[1;31mValueError\u001b[0m: Some past_covariates have been provided to a PastCovariates model. These models support only future_covariates."
     ]
    }
   ],
   "source": [
    "from darts.models import RNNModel\n",
    "rnn = RNNModel(input_chunk_length=120, output_chunk_length=72)\n",
    "retrain = True\n",
    "if retrain:\n",
    "    rnn.fit(train_series, past_covariates=train_past_covariates, verbose=True)\n",
    "    rnn.save_model(\"trained_models/rnn.pth.tar\")\n",
    "else:\n",
    "    model = rnn.load_model(\"trained_models/rnn.pth.tar\")"
   ]
  },
  {
   "cell_type": "code",
   "execution_count": null,
   "metadata": {},
   "outputs": [],
   "source": [
    "print(\"ALL MODELS TRAINED AND STORED\") "
   ]
  },
  {
   "cell_type": "code",
   "execution_count": null,
   "metadata": {},
   "outputs": [],
   "source": [
    "#model.backtest(series=train_series, past_covariates=past_covariates, forecast_horizon=24, stride=96, retrain=False, verbose=True)"
   ]
  },
  {
   "cell_type": "code",
   "execution_count": 86,
   "metadata": {},
   "outputs": [
    {
     "data": {
      "application/vnd.jupyter.widget-view+json": {
       "model_id": "dd7cacf437f143e891805b2ee6e7aa0e",
       "version_major": 2,
       "version_minor": 0
      },
      "text/plain": [
       "  0%|          | 0/912 [00:00<?, ?it/s]"
      ]
     },
     "metadata": {},
     "output_type": "display_data"
    }
   ],
   "source": [
    "results = model.historical_forecasts(series=test_series, past_covariates=past_covariates,  num_samples=1, start=0.5, forecast_horizon=24, stride=24, retrain=False, overlap_end=False, last_points_only=True, verbose=True)"
   ]
  },
  {
   "cell_type": "code",
   "execution_count": 87,
   "metadata": {},
   "outputs": [
    {
     "data": {
      "text/html": [
       "<div>\n",
       "<style scoped>\n",
       "    .dataframe tbody tr th:only-of-type {\n",
       "        vertical-align: middle;\n",
       "    }\n",
       "\n",
       "    .dataframe tbody tr th {\n",
       "        vertical-align: top;\n",
       "    }\n",
       "\n",
       "    .dataframe thead th {\n",
       "        text-align: right;\n",
       "    }\n",
       "</style>\n",
       "<table border=\"1\" class=\"dataframe\">\n",
       "  <thead>\n",
       "    <tr style=\"text-align: right;\">\n",
       "      <th>component</th>\n",
       "      <th>0</th>\n",
       "    </tr>\n",
       "    <tr>\n",
       "      <th>time</th>\n",
       "      <th></th>\n",
       "    </tr>\n",
       "  </thead>\n",
       "  <tbody>\n",
       "    <tr>\n",
       "      <th>2019-07-21 11:00:00</th>\n",
       "      <td>244.490797</td>\n",
       "    </tr>\n",
       "    <tr>\n",
       "      <th>2019-07-22 11:00:00</th>\n",
       "      <td>230.924837</td>\n",
       "    </tr>\n",
       "    <tr>\n",
       "      <th>2019-07-23 11:00:00</th>\n",
       "      <td>59.789081</td>\n",
       "    </tr>\n",
       "    <tr>\n",
       "      <th>2019-07-24 11:00:00</th>\n",
       "      <td>53.125463</td>\n",
       "    </tr>\n",
       "    <tr>\n",
       "      <th>2019-07-25 11:00:00</th>\n",
       "      <td>138.707733</td>\n",
       "    </tr>\n",
       "    <tr>\n",
       "      <th>...</th>\n",
       "      <td>...</td>\n",
       "    </tr>\n",
       "    <tr>\n",
       "      <th>2022-01-13 11:00:00</th>\n",
       "      <td>1472.501818</td>\n",
       "    </tr>\n",
       "    <tr>\n",
       "      <th>2022-01-14 11:00:00</th>\n",
       "      <td>2403.360964</td>\n",
       "    </tr>\n",
       "    <tr>\n",
       "      <th>2022-01-15 11:00:00</th>\n",
       "      <td>1418.340367</td>\n",
       "    </tr>\n",
       "    <tr>\n",
       "      <th>2022-01-16 11:00:00</th>\n",
       "      <td>1164.530199</td>\n",
       "    </tr>\n",
       "    <tr>\n",
       "      <th>2022-01-17 11:00:00</th>\n",
       "      <td>1107.500790</td>\n",
       "    </tr>\n",
       "  </tbody>\n",
       "</table>\n",
       "<p>912 rows × 1 columns</p>\n",
       "</div>"
      ],
      "text/plain": [
       "component                      0\n",
       "time                            \n",
       "2019-07-21 11:00:00   244.490797\n",
       "2019-07-22 11:00:00   230.924837\n",
       "2019-07-23 11:00:00    59.789081\n",
       "2019-07-24 11:00:00    53.125463\n",
       "2019-07-25 11:00:00   138.707733\n",
       "...                          ...\n",
       "2022-01-13 11:00:00  1472.501818\n",
       "2022-01-14 11:00:00  2403.360964\n",
       "2022-01-15 11:00:00  1418.340367\n",
       "2022-01-16 11:00:00  1164.530199\n",
       "2022-01-17 11:00:00  1107.500790\n",
       "\n",
       "[912 rows x 1 columns]"
      ]
     },
     "execution_count": 87,
     "metadata": {},
     "output_type": "execute_result"
    }
   ],
   "source": [
    "results\n",
    "df = results.pd_dataframe()\n",
    "target_scaler = frcstr.dataset.target_scaler\n",
    "df['0'] = target_scaler.inverse_transform(df)\n",
    "df"
   ]
  },
  {
   "cell_type": "code",
   "execution_count": 88,
   "metadata": {},
   "outputs": [],
   "source": [
    "y_true = test_series[500:]\n",
    "df_true = y_true.pd_dataframe().iloc[500:, :]\n",
    "target_scaler = frcstr.dataset.target_scaler\n",
    "df_true['level'] = target_scaler.inverse_transform(df_true)"
   ]
  },
  {
   "cell_type": "code",
   "execution_count": 89,
   "metadata": {},
   "outputs": [
    {
     "data": {
      "text/html": [
       "<div>\n",
       "<style scoped>\n",
       "    .dataframe tbody tr th:only-of-type {\n",
       "        vertical-align: middle;\n",
       "    }\n",
       "\n",
       "    .dataframe tbody tr th {\n",
       "        vertical-align: top;\n",
       "    }\n",
       "\n",
       "    .dataframe thead th {\n",
       "        text-align: right;\n",
       "    }\n",
       "</style>\n",
       "<table border=\"1\" class=\"dataframe\">\n",
       "  <thead>\n",
       "    <tr style=\"text-align: right;\">\n",
       "      <th>component</th>\n",
       "      <th>0</th>\n",
       "    </tr>\n",
       "    <tr>\n",
       "      <th>time</th>\n",
       "      <th></th>\n",
       "    </tr>\n",
       "  </thead>\n",
       "  <tbody>\n",
       "    <tr>\n",
       "      <th>2019-10-29 11:00:00</th>\n",
       "      <td>-4.292105</td>\n",
       "    </tr>\n",
       "    <tr>\n",
       "      <th>2019-10-30 11:00:00</th>\n",
       "      <td>122.538499</td>\n",
       "    </tr>\n",
       "    <tr>\n",
       "      <th>2019-10-31 11:00:00</th>\n",
       "      <td>163.511417</td>\n",
       "    </tr>\n",
       "    <tr>\n",
       "      <th>2019-11-01 11:00:00</th>\n",
       "      <td>-20.440095</td>\n",
       "    </tr>\n",
       "    <tr>\n",
       "      <th>2019-11-02 11:00:00</th>\n",
       "      <td>126.929267</td>\n",
       "    </tr>\n",
       "    <tr>\n",
       "      <th>...</th>\n",
       "      <td>...</td>\n",
       "    </tr>\n",
       "    <tr>\n",
       "      <th>2020-02-01 11:00:00</th>\n",
       "      <td>3042.044460</td>\n",
       "    </tr>\n",
       "    <tr>\n",
       "      <th>2020-02-02 11:00:00</th>\n",
       "      <td>2251.170240</td>\n",
       "    </tr>\n",
       "    <tr>\n",
       "      <th>2020-02-03 11:00:00</th>\n",
       "      <td>1771.930327</td>\n",
       "    </tr>\n",
       "    <tr>\n",
       "      <th>2020-02-04 11:00:00</th>\n",
       "      <td>1120.716491</td>\n",
       "    </tr>\n",
       "    <tr>\n",
       "      <th>2020-02-05 11:00:00</th>\n",
       "      <td>1050.318943</td>\n",
       "    </tr>\n",
       "  </tbody>\n",
       "</table>\n",
       "<p>100 rows × 1 columns</p>\n",
       "</div>"
      ],
      "text/plain": [
       "component                      0\n",
       "time                            \n",
       "2019-10-29 11:00:00    -4.292105\n",
       "2019-10-30 11:00:00   122.538499\n",
       "2019-10-31 11:00:00   163.511417\n",
       "2019-11-01 11:00:00   -20.440095\n",
       "2019-11-02 11:00:00   126.929267\n",
       "...                          ...\n",
       "2020-02-01 11:00:00  3042.044460\n",
       "2020-02-02 11:00:00  2251.170240\n",
       "2020-02-03 11:00:00  1771.930327\n",
       "2020-02-04 11:00:00  1120.716491\n",
       "2020-02-05 11:00:00  1050.318943\n",
       "\n",
       "[100 rows x 1 columns]"
      ]
     },
     "execution_count": 89,
     "metadata": {},
     "output_type": "execute_result"
    }
   ],
   "source": [
    "df[100:200]"
   ]
  },
  {
   "cell_type": "code",
   "execution_count": 90,
   "metadata": {},
   "outputs": [
    {
     "data": {
      "image/png": "[encoded data removed]",
      "text/plain": [
       "<Figure size 432x288 with 1 Axes>"
      ]
     },
     "metadata": {
      "needs_background": "light"
     },
     "output_type": "display_data"
    }
   ],
   "source": [
    "import numpy as np\n",
    "import matplotlib.pyplot as plt\n",
    " \n",
    "# plotting\n",
    "plt.title(\"Line graph\")\n",
    "plt.xlabel(\"X axis\")\n",
    "plt.ylabel(\"Y axis\")\n",
    "plt.plot(df[800:10000], color =\"blue\")\n",
    "plt.plot(df_true[40000:200000], color =\"red\")\n",
    "plt.show()"
   ]
  },
  {
   "cell_type": "code",
   "execution_count": null,
   "metadata": {},
   "outputs": [],
   "source": [
    "%load_ext autoreload\n",
    "%autoreload 2\n",
    "%matplotlib inline\n",
    "\n",
    "import pandas as pd\n",
    "import numpy as np\n",
    "import matplotlib.pyplot as plt\n"
   ]
  },
  {
   "cell_type": "code",
   "execution_count": null,
   "metadata": {},
   "outputs": [
    {
     "data": {
      "text/plain": [
       "array([[15223.20841922],\n",
       "       [14580.62325305],\n",
       "       [13879.09061818],\n",
       "       [13260.5453817 ],\n",
       "       [12691.70103751],\n",
       "       [12191.26032203],\n",
       "       [11733.74781936],\n",
       "       [11303.61650424],\n",
       "       [10915.79079727],\n",
       "       [10547.61977245],\n",
       "       [10221.61029318],\n",
       "       [ 9942.97185507],\n",
       "       [ 9702.96736039],\n",
       "       [ 9489.26975233],\n",
       "       [ 9292.52535452],\n",
       "       [ 9138.52306789],\n",
       "       [ 9028.99203008],\n",
       "       [ 8954.58713301],\n",
       "       [ 9002.04540835],\n",
       "       [ 9025.03268346],\n",
       "       [ 9170.34512703],\n",
       "       [ 9326.79039606],\n",
       "       [ 9517.15557584],\n",
       "       [ 9640.65618254],\n",
       "       [ 9701.04768316],\n",
       "       [ 9655.35607615],\n",
       "       [ 9588.72313683],\n",
       "       [ 9483.37038102],\n",
       "       [ 9375.26171995],\n",
       "       [ 9257.41223838],\n",
       "       [ 9137.77454462],\n",
       "       [ 9039.1890783 ],\n",
       "       [ 8921.94777698],\n",
       "       [ 8793.23259232],\n",
       "       [ 8646.63348567],\n",
       "       [ 8508.40900002],\n",
       "       [ 8380.95807428],\n",
       "       [ 8266.70962757],\n",
       "       [ 8145.73957193],\n",
       "       [ 8056.78461265],\n",
       "       [ 7995.75145716],\n",
       "       [ 7926.97322094],\n",
       "       [ 7861.5761684 ],\n",
       "       [ 7834.64981699],\n",
       "       [ 7867.3383828 ],\n",
       "       [ 7887.07335299],\n",
       "       [ 7950.97103479],\n",
       "       [ 8011.6551626 ],\n",
       "       [ 8133.30572965],\n",
       "       [ 8266.3655478 ],\n",
       "       [ 8415.65249274],\n",
       "       [ 8571.9789899 ],\n",
       "       [ 8682.31951682],\n",
       "       [ 8840.68576355],\n",
       "       [ 8914.43479767],\n",
       "       [ 8985.09980051],\n",
       "       [ 8951.26123653],\n",
       "       [ 8896.78232556],\n",
       "       [ 8794.13473723],\n",
       "       [ 8696.66666428],\n",
       "       [ 8602.87190812],\n",
       "       [ 8535.23090645],\n",
       "       [ 8519.94542602],\n",
       "       [ 8513.91809132],\n",
       "       [ 8552.90214907],\n",
       "       [ 8607.87189465],\n",
       "       [ 8711.58101076],\n",
       "       [ 8837.40003999],\n",
       "       [ 8987.12846327],\n",
       "       [ 9155.41242054],\n",
       "       [ 9184.87274803],\n",
       "       [ 9159.47182787],\n",
       "       [ 9100.41431348],\n",
       "       [ 8994.50735333],\n",
       "       [ 8865.3028535 ],\n",
       "       [ 8748.53370615],\n",
       "       [ 8669.84940884],\n",
       "       [ 8618.97589065],\n",
       "       [ 8584.78823572],\n",
       "       [ 8550.47051202],\n",
       "       [ 8486.72528305],\n",
       "       [ 8430.48316411],\n",
       "       [ 8377.73159789],\n",
       "       [ 8328.26367954],\n",
       "       [ 8269.42396658],\n",
       "       [ 8199.566888  ],\n",
       "       [ 8114.74221305],\n",
       "       [ 8023.09596141],\n",
       "       [ 7927.96395402],\n",
       "       [ 7818.09935734],\n",
       "       [ 7705.78496096],\n",
       "       [ 7609.72504497],\n",
       "       [ 7510.00241027],\n",
       "       [ 7418.77666183],\n",
       "       [ 7333.91912927],\n",
       "       [ 7256.87041776],\n",
       "       [ 7186.69333646],\n",
       "       [ 7127.27766208],\n",
       "       [ 7072.64166954],\n",
       "       [ 7020.4218254 ],\n",
       "       [ 6992.79799571],\n",
       "       [ 6975.04839197],\n",
       "       [ 6968.51577324],\n",
       "       [ 6967.74915903],\n",
       "       [ 6970.58426197],\n",
       "       [ 6961.29289783],\n",
       "       [ 6965.78964618],\n",
       "       [ 6975.67434881],\n",
       "       [ 6981.14604739],\n",
       "       [ 6981.33515997],\n",
       "       [ 6978.02820046],\n",
       "       [ 6961.56508357],\n",
       "       [ 6943.89147436],\n",
       "       [ 6922.47979556],\n",
       "       [ 6903.27533834],\n",
       "       [ 6892.18924593],\n",
       "       [ 6885.04273343],\n",
       "       [ 6880.57835098],\n",
       "       [ 6852.26413245],\n",
       "       [ 6819.12604334],\n",
       "       [ 6799.19409896],\n",
       "       [ 6772.29083115],\n",
       "       [ 6749.074624  ],\n",
       "       [ 6740.77468534],\n",
       "       [ 6755.56550348],\n",
       "       [ 6753.54601878],\n",
       "       [ 6725.16241617],\n",
       "       [ 6685.87741422],\n",
       "       [ 6642.28835982],\n",
       "       [ 6599.22583231],\n",
       "       [ 6570.17201787],\n",
       "       [ 6561.93579087],\n",
       "       [ 6561.77399794],\n",
       "       [ 6551.10234689],\n",
       "       [ 6543.2300752 ],\n",
       "       [ 6525.81934473],\n",
       "       [ 6503.20375024],\n",
       "       [ 6473.81330469],\n",
       "       [ 6446.73478321],\n",
       "       [ 6419.23764051],\n",
       "       [ 6393.44503772],\n",
       "       [ 6367.60188518],\n",
       "       [ 6343.18780698],\n",
       "       [ 6323.05775986],\n",
       "       [ 6305.61096546],\n",
       "       [ 6281.28732972],\n",
       "       [ 6268.44620631],\n",
       "       [ 6260.3325506 ],\n",
       "       [ 6255.36446936],\n",
       "       [ 6243.74582054],\n",
       "       [ 6230.61419135],\n",
       "       [ 6217.40645045],\n",
       "       [ 6207.3072386 ],\n",
       "       [ 6205.92683389],\n",
       "       [ 6221.32661309],\n",
       "       [ 6241.59118953],\n",
       "       [ 6256.12794145],\n",
       "       [ 6267.37863424],\n",
       "       [ 6272.45892182],\n",
       "       [ 6273.96882892],\n",
       "       [ 6272.34509055],\n",
       "       [ 6266.14438103],\n",
       "       [ 6259.41180247],\n",
       "       [ 6256.38869605],\n",
       "       [ 6248.37993725],\n",
       "       [ 6230.49336757],\n",
       "       [ 6217.03069855],\n",
       "       [ 6206.55158168],\n",
       "       [ 6196.09112638],\n",
       "       [ 6191.0037879 ],\n",
       "       [ 6200.8464909 ],\n",
       "       [ 6215.46857718],\n",
       "       [ 6242.94996216],\n",
       "       [ 6273.48723612],\n",
       "       [ 6306.47778828],\n",
       "       [ 6367.12695142],\n",
       "       [ 6425.9984444 ],\n",
       "       [ 6484.28091203],\n",
       "       [ 6539.52769314],\n",
       "       [ 6589.6992393 ],\n",
       "       [ 6616.40248529],\n",
       "       [ 6623.25858132],\n",
       "       [ 6606.92139785],\n",
       "       [ 6583.87722305],\n",
       "       [ 6546.21248582],\n",
       "       [ 6512.93788966],\n",
       "       [ 6489.40275625],\n",
       "       [ 6470.7642453 ],\n",
       "       [ 6454.2245833 ],\n",
       "       [ 6439.55724976],\n",
       "       [ 6426.39585163],\n",
       "       [ 6413.06393882],\n",
       "       [ 6404.67677539],\n",
       "       [ 6407.65431173],\n",
       "       [ 6412.23005185],\n",
       "       [ 6423.51066123],\n",
       "       [ 6442.39755078],\n",
       "       [ 6462.51254908],\n",
       "       [ 6486.19134338],\n",
       "       [ 6531.59644801],\n",
       "       [ 6579.1426615 ],\n",
       "       [ 6622.77260468],\n",
       "       [ 6653.56892956],\n",
       "       [ 6668.73351543],\n",
       "       [ 6670.30691607],\n",
       "       [ 6658.59937547],\n",
       "       [ 6638.76372708],\n",
       "       [ 6615.15237875],\n",
       "       [ 6597.45469261],\n",
       "       [ 6582.97699921],\n",
       "       [ 6569.72498871],\n",
       "       [ 6562.94602213],\n",
       "       [ 6549.17027821],\n",
       "       [ 6531.11650675],\n",
       "       [ 6508.60081399],\n",
       "       [ 6481.72874894],\n",
       "       [ 6458.47061045],\n",
       "       [ 6446.99785332],\n",
       "       [ 6435.91302319],\n",
       "       [ 6428.54483928],\n",
       "       [ 6424.92657598],\n",
       "       [ 6438.0541314 ],\n",
       "       [ 6466.06470567],\n",
       "       [ 6518.03035099],\n",
       "       [ 6572.89533747],\n",
       "       [ 6637.19894097],\n",
       "       [ 6686.22332093],\n",
       "       [ 6723.28242207],\n",
       "       [ 6742.30542439],\n",
       "       [ 6744.59086463],\n",
       "       [ 6734.36486475],\n",
       "       [ 6716.21300061],\n",
       "       [ 6688.39545543],\n",
       "       [ 6651.99037195],\n",
       "       [ 6616.95183654],\n",
       "       [ 6591.34492508],\n",
       "       [ 6558.83809108],\n",
       "       [ 6530.88191945],\n",
       "       [ 6505.30901406],\n",
       "       [ 6476.79979383],\n",
       "       [ 6447.13966599],\n",
       "       [ 6429.96666927],\n",
       "       [ 6412.10162451],\n",
       "       [ 6415.23535073],\n",
       "       [ 6435.51444838],\n",
       "       [ 6466.33148665],\n",
       "       [ 6512.80700413],\n",
       "       [ 6576.26997595],\n",
       "       [ 6640.50458698],\n",
       "       [ 6708.81924511],\n",
       "       [ 6777.69917235],\n",
       "       [ 6821.95308106],\n",
       "       [ 6838.90251256],\n",
       "       [ 6842.88001469],\n",
       "       [ 6826.2942444 ],\n",
       "       [ 6797.17544057],\n",
       "       [ 6759.93388552],\n",
       "       [ 6721.05898914],\n",
       "       [ 6679.71012085],\n",
       "       [ 6646.96567151],\n",
       "       [ 6604.10370712],\n",
       "       [ 6567.82438078],\n",
       "       [ 6530.18414578],\n",
       "       [ 6494.59094851],\n",
       "       [ 6458.20156268],\n",
       "       [ 6435.14667821],\n",
       "       [ 6422.62803308],\n",
       "       [ 6431.58006015],\n",
       "       [ 6451.43463368],\n",
       "       [ 6476.14562212],\n",
       "       [ 6510.0456385 ],\n",
       "       [ 6546.6391826 ],\n",
       "       [ 6573.89759654],\n",
       "       [ 6603.77230726],\n",
       "       [ 6637.49883941],\n",
       "       [ 6668.66403384],\n",
       "       [ 6694.789067  ],\n",
       "       [ 6712.00984404],\n",
       "       [ 6726.4312716 ],\n",
       "       [ 6735.56496344],\n",
       "       [ 6734.97595198],\n",
       "       [ 6726.46864346],\n",
       "       [ 6712.87316922],\n",
       "       [ 6699.24850009],\n",
       "       [ 6681.81008858],\n",
       "       [ 6671.87684592],\n",
       "       [ 6658.9956228 ],\n",
       "       [ 6640.35590148],\n",
       "       [ 6628.08275764],\n",
       "       [ 6618.81804478],\n",
       "       [ 6612.09199295],\n",
       "       [ 6612.93319945],\n",
       "       [ 6626.18432032],\n",
       "       [ 6654.15489409],\n",
       "       [ 6707.84084169],\n",
       "       [ 6735.77869858],\n",
       "       [ 6738.6912029 ],\n",
       "       [ 6754.49203451],\n",
       "       [ 6789.24215693],\n",
       "       [ 6818.30656667],\n",
       "       [ 6844.21205693],\n",
       "       [ 6867.83378036],\n",
       "       [ 6892.56452104],\n",
       "       [ 6919.11601162],\n",
       "       [ 6935.61687261],\n",
       "       [ 6950.27120189],\n",
       "       [ 6957.26433004],\n",
       "       [ 6961.72660257],\n",
       "       [ 6956.27882001],\n",
       "       [ 6947.5784566 ],\n",
       "       [ 6929.7090189 ],\n",
       "       [ 6911.426761  ],\n",
       "       [ 6895.02784119],\n",
       "       [ 6885.97461521],\n",
       "       [ 6888.30646501],\n",
       "       [ 6904.85752708],\n",
       "       [ 6934.0052933 ],\n",
       "       [ 6980.09586151],\n",
       "       [ 7038.86839074],\n",
       "       [ 7101.13734875],\n",
       "       [ 7185.45625186],\n",
       "       [ 7283.73132313],\n",
       "       [ 7388.54429024],\n",
       "       [ 7469.81060713],\n",
       "       [ 7522.03280015],\n",
       "       [ 7549.86465946],\n",
       "       [ 7554.36619046],\n",
       "       [ 7578.07223829],\n",
       "       [ 7563.99148359],\n",
       "       [ 7565.11377351],\n",
       "       [ 7536.1441587 ],\n",
       "       [ 7520.17131102],\n",
       "       [ 7492.21530537],\n",
       "       [ 7458.11066703],\n",
       "       [ 7435.8398977 ],\n",
       "       [ 7427.93177884],\n",
       "       [ 7428.52845725],\n",
       "       [ 7423.56094222],\n",
       "       [ 7420.92956314],\n",
       "       [ 7412.00677702],\n",
       "       [ 7412.56442667],\n",
       "       [ 7421.16379888],\n",
       "       [ 7435.92642869],\n",
       "       [ 7467.67949489],\n",
       "       [ 7502.98823196],\n",
       "       [ 7542.04465223],\n",
       "       [ 7575.70751044],\n",
       "       [ 7612.88968863],\n",
       "       [ 7645.30730415],\n",
       "       [ 7656.50782234],\n",
       "       [ 7656.43336013],\n",
       "       [ 7691.84825228],\n",
       "       [ 7742.78071023],\n",
       "       [ 7849.3003058 ],\n",
       "       [ 8004.84735371],\n",
       "       [ 8256.1512521 ],\n",
       "       [ 8584.81383558],\n",
       "       [ 8916.72645628],\n",
       "       [ 9180.44093943],\n",
       "       [ 9329.0850056 ],\n",
       "       [ 9439.92431631],\n",
       "       [ 9555.55567716],\n",
       "       [ 9692.30131257],\n",
       "       [ 9872.18644117],\n",
       "       [10072.15947463],\n",
       "       [10303.06827285],\n",
       "       [10502.01911995],\n",
       "       [10690.73670287],\n",
       "       [10866.97249578],\n",
       "       [11039.63527128],\n",
       "       [11187.98529768],\n",
       "       [11315.97757616],\n",
       "       [11394.04618341],\n",
       "       [11388.77115797],\n",
       "       [11318.17150318],\n",
       "       [11218.47864831],\n",
       "       [11184.64941727],\n",
       "       [11184.71248059],\n",
       "       [11247.50575366],\n",
       "       [11248.85718382],\n",
       "       [11251.76618502],\n",
       "       [11186.03886886],\n",
       "       [11128.86099518],\n",
       "       [11074.14115282],\n",
       "       [11015.98187254],\n",
       "       [10972.22379184],\n",
       "       [10926.22652224],\n",
       "       [10894.53527267],\n",
       "       [10860.33994181],\n",
       "       [10809.01777295],\n",
       "       [10740.11985355],\n",
       "       [10664.46611211],\n",
       "       [10593.7290728 ],\n",
       "       [10504.2840288 ],\n",
       "       [10404.64531487],\n",
       "       [10306.27101758],\n",
       "       [10198.85437869],\n",
       "       [10085.32953371],\n",
       "       [ 9953.70218242],\n",
       "       [ 9811.48252461],\n",
       "       [ 9663.37383894],\n",
       "       [ 9509.52123787],\n",
       "       [ 9361.51690102],\n",
       "       [ 9209.39135439],\n",
       "       [ 9059.09049014],\n",
       "       [ 8904.74486471],\n",
       "       [ 8762.68358335],\n",
       "       [ 8636.53714389],\n",
       "       [ 8522.86666823],\n",
       "       [ 8413.41855593],\n",
       "       [ 8310.18963273],\n",
       "       [ 8206.31125117],\n",
       "       [ 8126.23988065],\n",
       "       [ 8055.89159681],\n",
       "       [ 8048.68957883],\n",
       "       [ 8035.14743634],\n",
       "       [ 8046.53405558],\n",
       "       [ 8079.20682554],\n",
       "       [ 8125.89728035],\n",
       "       [ 8208.17799511],\n",
       "       [ 8318.85287405],\n",
       "       [ 8436.73630688],\n",
       "       [ 8521.63925656],\n",
       "       [ 8753.23051879],\n",
       "       [ 8979.19564577],\n",
       "       [ 9280.02507047],\n",
       "       [ 9428.95771427],\n",
       "       [ 9504.41805654],\n",
       "       [ 9470.79448997],\n",
       "       [ 9371.63538098],\n",
       "       [ 9232.14313111],\n",
       "       [ 9060.57445718],\n",
       "       [ 8894.84408052],\n",
       "       [ 8723.78059148],\n",
       "       [ 8583.01572209],\n",
       "       [ 8434.25102497],\n",
       "       [ 8333.50993626],\n",
       "       [ 8220.58855211],\n",
       "       [ 8113.68872631],\n",
       "       [ 8014.40260344],\n",
       "       [ 7921.21938832],\n",
       "       [ 7818.55273997],\n",
       "       [ 7712.32791992],\n",
       "       [ 7605.08901226],\n",
       "       [ 7497.06164353],\n",
       "       [ 7399.92814443],\n",
       "       [ 7321.23744833],\n",
       "       [ 7301.28021613],\n",
       "       [ 7335.02874666],\n",
       "       [ 7434.15649019],\n",
       "       [ 7575.54144546],\n",
       "       [ 7862.84176093],\n",
       "       [ 8211.02321685],\n",
       "       [ 8643.73821266],\n",
       "       [ 9029.68571365],\n",
       "       [ 9372.0213159 ],\n",
       "       [ 9658.90945757],\n",
       "       [ 9889.44783099],\n",
       "       [10063.2710175 ],\n",
       "       [10176.32211965],\n",
       "       [10288.75593889],\n",
       "       [10385.63982875],\n",
       "       [10456.59090357],\n",
       "       [10468.8130917 ],\n",
       "       [10416.25122732],\n",
       "       [10299.2724416 ],\n",
       "       [10136.56629122],\n",
       "       [ 9944.39533247],\n",
       "       [ 9716.56272756],\n",
       "       [ 9501.61962088],\n",
       "       [ 9285.84288033],\n",
       "       [ 9084.06807512],\n",
       "       [ 8899.49702042],\n",
       "       [ 8720.11062445],\n",
       "       [ 8558.90069729],\n",
       "       [ 8408.58665929],\n",
       "       [ 8280.69331121],\n",
       "       [ 8175.74887377],\n",
       "       [ 8119.25756312],\n",
       "       [ 8129.20024975],\n",
       "       [ 8232.12603362],\n",
       "       [ 8397.55107452],\n",
       "       [ 8623.83964556],\n",
       "       [ 8834.9305479 ],\n",
       "       [ 9032.84915576],\n",
       "       [ 9263.59879946],\n",
       "       [ 9533.23099451],\n",
       "       [ 9842.92224767],\n",
       "       [10113.736997  ],\n",
       "       [10393.94808049],\n",
       "       [10635.56325914],\n",
       "       [10838.54934133],\n",
       "       [11016.78210414],\n",
       "       [11166.78626477],\n",
       "       [11291.07757882],\n",
       "       [11370.22751353],\n",
       "       [11357.63941941],\n",
       "       [11281.08859798],\n",
       "       [11154.89488945],\n",
       "       [11000.16994454]])"
      ]
     },
     "execution_count": 33,
     "metadata": {},
     "output_type": "execute_result"
    }
   ],
   "source": [
    "y_pred"
   ]
  },
  {
   "cell_type": "code",
   "execution_count": null,
   "metadata": {},
   "outputs": [],
   "source": []
  }
 ],
 "metadata": {
  "interpreter": {
   "hash": "815148e3768c1e208d177ea4f59544b3b2e4bd0509ac51753b9e2d2ac3e6c685"
  },
  "kernelspec": {
   "display_name": "Python 3.9.9 64-bit ('tf': venv)",
   "language": "python",
   "name": "python3"
  },
  "language_info": {
   "codemirror_mode": {
    "name": "ipython",
    "version": 3
   },
   "file_extension": ".py",
   "mimetype": "text/x-python",
   "name": "python",
   "nbconvert_exporter": "python",
   "pygments_lexer": "ipython3",
   "version": "3.7.11"
  },
  "orig_nbformat": 4
 },
 "nbformat": 4,
 "nbformat_minor": 2
}
